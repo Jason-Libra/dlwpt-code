{
 "cells": [
  {
   "cell_type": "code",
   "execution_count": 1,
   "metadata": {},
   "outputs": [],
   "source": [
    "import sys\n",
    "\n",
    "sys.path.append(\"../../src/\")"
   ]
  },
  {
   "cell_type": "code",
   "execution_count": 6,
   "metadata": {},
   "outputs": [],
   "source": [
    "import torch\n",
    "import numpy as np\n",
    "import SimpleITK as sitk\n",
    "import pandas as pd\n",
    "import torch.cuda\n",
    "import csv\n",
    "import glob\n",
    "import os\n",
    "import copy\n",
    "import datetime\n",
    "\n",
    "from collections import namedtuple, defaultdict\n",
    "from torch.utils.data import Dataset\n",
    "from util.logconf import logging\n",
    "from util.util import XyzTuple, xyz2irc\n",
    "from util.disk import getCache\n",
    "\n",
    "from p2ch10.dsets import getCandidateInfoList, getCt, LunaDataset"
   ]
  },
  {
   "cell_type": "code",
   "execution_count": 7,
   "metadata": {},
   "outputs": [
    {
     "name": "stderr",
     "output_type": "stream",
     "text": [
      "2024-06-28 13:23:29,736 INFO     pid:9920 p2ch10.dsets:187:__init__ <p2ch10.dsets.LunaDataset object at 0x000002472F3078F0>: 110143 training samples\n"
     ]
    }
   ],
   "source": [
    "ds = LunaDataset()"
   ]
  },
  {
   "cell_type": "code",
   "execution_count": 9,
   "metadata": {},
   "outputs": [],
   "source": [
    "N = 200"
   ]
  },
  {
   "cell_type": "code",
   "execution_count": 8,
   "metadata": {},
   "outputs": [
    {
     "name": "stdout",
     "output_type": "stream",
     "text": [
      "Start: 2024-06-28 13:24:54.650240\n",
      "10/200 2024-06-28 13:24:56.473867\n",
      "20/200 2024-06-28 13:24:59.273173\n",
      "30/200 2024-06-28 13:25:03.108908\n",
      "40/200 2024-06-28 13:25:07.085887\n",
      "50/200 2024-06-28 13:25:12.945880\n",
      "60/200 2024-06-28 13:25:17.230101\n",
      "70/200 2024-06-28 13:25:21.739874\n",
      "80/200 2024-06-28 13:25:26.045366\n",
      "90/200 2024-06-28 13:25:30.268896\n",
      "100/200 2024-06-28 13:25:35.113114\n",
      "110/200 2024-06-28 13:25:41.496423\n",
      "120/200 2024-06-28 13:25:44.609934\n",
      "130/200 2024-06-28 13:25:50.015813\n",
      "140/200 2024-06-28 13:25:54.396236\n",
      "150/200 2024-06-28 13:26:00.109689\n",
      "160/200 2024-06-28 13:26:03.734901\n",
      "170/200 2024-06-28 13:26:08.371737\n",
      "180/200 2024-06-28 13:26:12.376947\n",
      "190/200 2024-06-28 13:26:17.291885\n",
      "200/200 2024-06-28 13:26:21.876993\n",
      "End: 2024-06-28 13:26:21.877994\n"
     ]
    }
   ],
   "source": [
    "# 第一次运行\n",
    "N = 200\n",
    "print(f\"Start: {datetime.datetime.now()}\")\n",
    "\n",
    "for i in range(1, N + 1):\n",
    "    instance = ds[i]\n",
    "    if i % 10 == 0:\n",
    "        print(f\"{i}/{N} {datetime.datetime.now()}\")\n",
    "\n",
    "print(f\"End: {datetime.datetime.now()}\")"
   ]
  },
  {
   "cell_type": "code",
   "execution_count": 10,
   "metadata": {},
   "outputs": [
    {
     "name": "stdout",
     "output_type": "stream",
     "text": [
      "Start: 2024-06-28 13:26:27.141806\n",
      "10/200 2024-06-28 13:26:27.154935\n",
      "20/200 2024-06-28 13:26:27.165064\n",
      "30/200 2024-06-28 13:26:27.174924\n",
      "40/200 2024-06-28 13:26:27.185459\n",
      "50/200 2024-06-28 13:26:27.195009\n",
      "60/200 2024-06-28 13:26:27.204447\n",
      "70/200 2024-06-28 13:26:27.214944\n",
      "80/200 2024-06-28 13:26:27.224865\n",
      "90/200 2024-06-28 13:26:27.235796\n",
      "100/200 2024-06-28 13:26:27.246856\n",
      "110/200 2024-06-28 13:26:27.257710\n",
      "120/200 2024-06-28 13:26:27.267807\n",
      "130/200 2024-06-28 13:26:27.276895\n",
      "140/200 2024-06-28 13:26:27.287248\n",
      "150/200 2024-06-28 13:26:27.296873\n",
      "160/200 2024-06-28 13:26:27.301972\n",
      "170/200 2024-06-28 13:26:27.306958\n",
      "180/200 2024-06-28 13:26:27.312004\n",
      "190/200 2024-06-28 13:26:27.316994\n",
      "200/200 2024-06-28 13:26:27.321074\n",
      "End: 2024-06-28 13:26:27.321074\n"
     ]
    }
   ],
   "source": [
    "# 第二次运行\n",
    "print(f\"Start: {datetime.datetime.now()}\")\n",
    "\n",
    "for i in range(1, N + 1):\n",
    "    instance = ds[i]\n",
    "    if i % 10 == 0:\n",
    "        print(f\"{i}/{N} {datetime.datetime.now()}\")\n",
    "\n",
    "print(f\"End: {datetime.datetime.now()}\")"
   ]
  },
  {
   "cell_type": "code",
   "execution_count": null,
   "metadata": {},
   "outputs": [],
   "source": []
  }
 ],
 "metadata": {
  "kernelspec": {
   "display_name": "dlwpt",
   "language": "python",
   "name": "python3"
  },
  "language_info": {
   "codemirror_mode": {
    "name": "ipython",
    "version": 3
   },
   "file_extension": ".py",
   "mimetype": "text/x-python",
   "name": "python",
   "nbconvert_exporter": "python",
   "pygments_lexer": "ipython3",
   "version": "3.12.3"
  }
 },
 "nbformat": 4,
 "nbformat_minor": 2
}
