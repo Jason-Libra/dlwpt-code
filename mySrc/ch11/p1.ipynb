{
 "cells": [
  {
   "cell_type": "code",
   "execution_count": 2,
   "metadata": {},
   "outputs": [],
   "source": [
    "import sys\n",
    "\n",
    "sys.path.append(\"../../src/\")"
   ]
  },
  {
   "cell_type": "code",
   "execution_count": 3,
   "metadata": {},
   "outputs": [],
   "source": [
    "import argparse\n",
    "\n",
    "import numpy as np\n",
    "\n",
    "import torch.nn as nn\n",
    "from torch.autograd import Variable\n",
    "from torch.optim import SGD\n",
    "from torch.utils.data import DataLoader\n",
    "\n",
    "from util.util import enumerateWithEstimate\n",
    "from util.logconf import logging\n",
    "\n",
    "from p2ch11.dsets import LunaDataset\n",
    "from p2ch11.model import LunaModel"
   ]
  },
  {
   "cell_type": "code",
   "execution_count": 4,
   "metadata": {},
   "outputs": [],
   "source": [
    "log = logging.getLogger(__name__)\n",
    "# log.setLevel(logging.WARN)\n",
    "log.setLevel(logging.INFO)\n",
    "# log.setLevel(logging.DEBUG)"
   ]
  },
  {
   "cell_type": "markdown",
   "metadata": {},
   "source": [
    "注意需要修改p2ch11中dsets.py中的路径问题"
   ]
  },
  {
   "cell_type": "code",
   "execution_count": 5,
   "metadata": {},
   "outputs": [
    {
     "name": "stderr",
     "output_type": "stream",
     "text": [
      "2024-06-28 14:57:19,826 INFO     pid:31760 p2ch11.dsets:197:__init__ <p2ch11.dsets.LunaDataset object at 0x0000027486550F80>: 110143 training samples\n"
     ]
    }
   ],
   "source": [
    "batch_size = 128\n",
    "num_workers = 8\n",
    "\n",
    "prep_dl = DataLoader(\n",
    "    LunaDataset(\n",
    "        sortby_str=\"series_uid\",\n",
    "    ),\n",
    "    batch_size=batch_size,\n",
    "    num_workers=num_workers,\n",
    ")"
   ]
  },
  {
   "cell_type": "code",
   "execution_count": 6,
   "metadata": {},
   "outputs": [],
   "source": [
    "import datetime"
   ]
  },
  {
   "cell_type": "code",
   "execution_count": 7,
   "metadata": {},
   "outputs": [
    {
     "name": "stderr",
     "output_type": "stream",
     "text": [
      "2024-06-28 15:04:23,168 WARNING  pid:31760 util.util:219:enumerateWithEstimate Stuffing cache ----/861, starting\n"
     ]
    },
    {
     "name": "stdout",
     "output_type": "stream",
     "text": [
      "Started at 2024-06-28 15:04:23.168431\n"
     ]
    },
    {
     "name": "stderr",
     "output_type": "stream",
     "text": [
      "2024-06-28 15:05:16,907 INFO     pid:31760 util.util:236:enumerateWithEstimate Stuffing cache   64/861, done at 2024-06-28 15:09:05, 0:04:05\n",
      "2024-06-28 15:06:02,912 INFO     pid:31760 util.util:236:enumerateWithEstimate Stuffing cache  256/861, done at 2024-06-28 15:08:34, 0:03:33\n",
      "2024-06-28 15:08:38,131 WARNING  pid:31760 util.util:249:enumerateWithEstimate Stuffing cache ----/861, done at 2024-06-28 15:08:38\n"
     ]
    },
    {
     "name": "stdout",
     "output_type": "stream",
     "text": [
      "Finished at 2024-06-28 15:08:38.132124\n"
     ]
    }
   ],
   "source": [
    "print(f\"Started at {datetime.datetime.now()}\")\n",
    "batch_iter = enumerateWithEstimate(\n",
    "    prep_dl,\n",
    "    \"Stuffing cache\",\n",
    "    start_ndx=prep_dl.num_workers,\n",
    ")\n",
    "for _ in batch_iter:\n",
    "    pass\n",
    "print(f\"Finished at {datetime.datetime.now()}\")"
   ]
  }
 ],
 "metadata": {
  "kernelspec": {
   "display_name": "dlwpt",
   "language": "python",
   "name": "python3"
  },
  "language_info": {
   "codemirror_mode": {
    "name": "ipython",
    "version": 3
   },
   "file_extension": ".py",
   "mimetype": "text/x-python",
   "name": "python",
   "nbconvert_exporter": "python",
   "pygments_lexer": "ipython3",
   "version": "3.12.3"
  }
 },
 "nbformat": 4,
 "nbformat_minor": 2
}
