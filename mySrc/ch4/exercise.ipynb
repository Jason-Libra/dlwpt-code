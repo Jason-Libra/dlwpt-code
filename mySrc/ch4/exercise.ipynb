{
 "cells": [
  {
   "cell_type": "code",
   "execution_count": 1,
   "metadata": {},
   "outputs": [],
   "source": [
    "import torch\n",
    "import numpy as np\n",
    "\n",
    "torch.set_printoptions(edgeitems=2, threshold=50)"
   ]
  },
  {
   "cell_type": "markdown",
   "metadata": {},
   "source": [
    "# 1"
   ]
  },
  {
   "cell_type": "code",
   "execution_count": 2,
   "metadata": {},
   "outputs": [],
   "source": [
    "img_path = \"../../myData/p1ch4/exercise-img/\""
   ]
  },
  {
   "cell_type": "code",
   "execution_count": 4,
   "metadata": {},
   "outputs": [],
   "source": [
    "import imageio.v3 as iio\n",
    "import os"
   ]
  },
  {
   "cell_type": "code",
   "execution_count": 5,
   "metadata": {},
   "outputs": [
    {
     "data": {
      "text/plain": [
       "['dragon.jpg', 'red-dead-2.png', 'sky.jpg']"
      ]
     },
     "execution_count": 5,
     "metadata": {},
     "output_type": "execute_result"
    }
   ],
   "source": [
    "files = os.listdir(img_path)\n",
    "files"
   ]
  },
  {
   "cell_type": "code",
   "execution_count": 6,
   "metadata": {},
   "outputs": [],
   "source": [
    "imgs = []\n",
    "for f in files:\n",
    "    img_arr = iio.imread(img_path + f)\n",
    "    imgs.append(img_arr)"
   ]
  },
  {
   "cell_type": "code",
   "execution_count": 10,
   "metadata": {},
   "outputs": [
    {
     "data": {
      "text/plain": [
       "(array([[[216, 253, 175],\n",
       "         [215, 252, 174],\n",
       "         [217, 252, 172],\n",
       "         ...,\n",
       "         [ 11,  80,  33],\n",
       "         [ 11,  80,  33],\n",
       "         [ 11,  80,  33]],\n",
       " \n",
       "        [[215, 252, 172],\n",
       "         [215, 252, 172],\n",
       "         [216, 251, 169],\n",
       "         ...,\n",
       "         [ 11,  80,  33],\n",
       "         [ 11,  80,  33],\n",
       "         [ 11,  80,  33]],\n",
       " \n",
       "        [[215, 253, 168],\n",
       "         [215, 253, 168],\n",
       "         [216, 251, 167],\n",
       "         ...,\n",
       "         [ 11,  80,  33],\n",
       "         [ 11,  80,  33],\n",
       "         [ 11,  80,  33]],\n",
       " \n",
       "        ...,\n",
       " \n",
       "        [[109, 177,  12],\n",
       "         [109, 177,  12],\n",
       "         [109, 177,  12],\n",
       "         ...,\n",
       "         [ 71, 137,  11],\n",
       "         [ 73, 138,  12],\n",
       "         [ 73, 138,  12]],\n",
       " \n",
       "        [[109, 177,  12],\n",
       "         [109, 177,  12],\n",
       "         [109, 177,  12],\n",
       "         ...,\n",
       "         [ 74, 140,  14],\n",
       "         [ 80, 145,  19],\n",
       "         [ 83, 148,  22]],\n",
       " \n",
       "        [[109, 177,  12],\n",
       "         [109, 177,  12],\n",
       "         [109, 177,  12],\n",
       "         ...,\n",
       "         [ 75, 141,  15],\n",
       "         [ 83, 148,  22],\n",
       "         [ 89, 154,  28]]], dtype=uint8),\n",
       " (1080, 1920, 3))"
      ]
     },
     "execution_count": 10,
     "metadata": {},
     "output_type": "execute_result"
    }
   ],
   "source": [
    "imgs[0], imgs[0].shape"
   ]
  },
  {
   "cell_type": "code",
   "execution_count": 11,
   "metadata": {},
   "outputs": [
    {
     "data": {
      "text/plain": [
       "(torch.Size([1080, 1920, 3]),\n",
       " torch.Size([1080, 1920, 4]),\n",
       " torch.Size([1080, 1920, 3]))"
      ]
     },
     "execution_count": 11,
     "metadata": {},
     "output_type": "execute_result"
    }
   ],
   "source": [
    "img_g = torch.from_numpy(imgs[0])\n",
    "img_r = torch.from_numpy(imgs[1])\n",
    "img_b = torch.from_numpy(imgs[2])\n",
    "img_g.shape, img_r.shape, img_b.shape"
   ]
  },
  {
   "cell_type": "code",
   "execution_count": 13,
   "metadata": {},
   "outputs": [],
   "source": [
    "alpha = img_r[:, :, -1]"
   ]
  },
  {
   "cell_type": "code",
   "execution_count": 14,
   "metadata": {},
   "outputs": [
    {
     "data": {
      "text/plain": [
       "tensor([255], dtype=torch.uint8)"
      ]
     },
     "execution_count": 14,
     "metadata": {},
     "output_type": "execute_result"
    }
   ],
   "source": [
    "torch.unique(alpha)"
   ]
  },
  {
   "cell_type": "code",
   "execution_count": 15,
   "metadata": {},
   "outputs": [
    {
     "data": {
      "text/plain": [
       "torch.Size([1080, 1920, 3])"
      ]
     },
     "execution_count": 15,
     "metadata": {},
     "output_type": "execute_result"
    }
   ],
   "source": [
    "img_r = img_r[:, :, :-1]\n",
    "img_r.shape"
   ]
  },
  {
   "cell_type": "code",
   "execution_count": 19,
   "metadata": {},
   "outputs": [
    {
     "data": {
      "text/plain": [
       "torch.uint8"
      ]
     },
     "execution_count": 19,
     "metadata": {},
     "output_type": "execute_result"
    }
   ],
   "source": [
    "img_r.dtype"
   ]
  },
  {
   "cell_type": "code",
   "execution_count": 35,
   "metadata": {},
   "outputs": [],
   "source": [
    "img_r = img_r.to(torch.float32)\n",
    "img_g = img_g.to(torch.float32)\n",
    "img_b = img_b.to(torch.float32)"
   ]
  },
  {
   "cell_type": "code",
   "execution_count": 38,
   "metadata": {},
   "outputs": [],
   "source": [
    "img_r = img_r.permute(2, 0, 1)\n",
    "img_g = img_g.permute(2, 0, 1)\n",
    "img_b = img_b.permute(2, 0, 1)"
   ]
  },
  {
   "cell_type": "code",
   "execution_count": 21,
   "metadata": {},
   "outputs": [
    {
     "data": {
      "text/plain": [
       "([tensor(79.1599), tensor(122.9984), tensor(161.3301)],\n",
       " [tensor([172.3891,  31.5377,  33.5530]),\n",
       "  tensor([136.9143, 171.9816,  60.0992]),\n",
       "  tensor([ 82.0433, 172.2795, 229.6675])])"
      ]
     },
     "execution_count": 21,
     "metadata": {},
     "output_type": "execute_result"
    }
   ],
   "source": [
    "imgs = [img_r, img_g, img_b]\n",
    "means = []\n",
    "rgb_means = []\n",
    "for img in imgs:\n",
    "    img = img.to(torch.float)\n",
    "    img = img.permute(2, 0, 1)\n",
    "    img_mean = img.mean()\n",
    "    rgb_mean = img.mean(dim=1).mean(dim=1)\n",
    "    means.append(img_mean)\n",
    "    rgb_means.append(rgb_mean)\n",
    "means, rgb_means"
   ]
  },
  {
   "cell_type": "code",
   "execution_count": 39,
   "metadata": {},
   "outputs": [
    {
     "data": {
      "text/plain": [
       "torch.Size([3, 1080, 1920])"
      ]
     },
     "execution_count": 39,
     "metadata": {},
     "output_type": "execute_result"
    }
   ],
   "source": [
    "img_r.shape"
   ]
  },
  {
   "cell_type": "code",
   "execution_count": 40,
   "metadata": {},
   "outputs": [
    {
     "data": {
      "text/plain": [
       "tensor(172.3890)"
      ]
     },
     "execution_count": 40,
     "metadata": {},
     "output_type": "execute_result"
    }
   ],
   "source": [
    "rr_mean = img_r[0].mean()\n",
    "rr_mean"
   ]
  },
  {
   "cell_type": "code",
   "execution_count": 41,
   "metadata": {},
   "outputs": [
    {
     "data": {
      "text/plain": [
       "tensor([172.3890,  31.5377,  33.5530])"
      ]
     },
     "execution_count": 41,
     "metadata": {},
     "output_type": "execute_result"
    }
   ],
   "source": [
    "r_rgb_mean = torch.stack([img_r[0].mean(), img_r[1].mean(), img_r[2].mean()])\n",
    "r_rgb_mean"
   ]
  },
  {
   "cell_type": "code",
   "execution_count": 22,
   "metadata": {},
   "outputs": [],
   "source": [
    "import matplotlib.pyplot as plt"
   ]
  },
  {
   "cell_type": "code",
   "execution_count": 26,
   "metadata": {},
   "outputs": [
    {
     "data": {
      "text/plain": [
       "<matplotlib.image.AxesImage at 0x1b51187f590>"
      ]
     },
     "execution_count": 26,
     "metadata": {},
     "output_type": "execute_result"
    },
    {
     "data": {
      "image/png": "[encoded data removed]",
      "text/plain": [
       "<Figure size 640x480 with 1 Axes>"
      ]
     },
     "metadata": {},
     "output_type": "display_data"
    }
   ],
   "source": [
    "plt.axis(\"off\")\n",
    "plt.imshow(imgs[0])"
   ]
  },
  {
   "cell_type": "markdown",
   "metadata": {},
   "source": [
    "# 2"
   ]
  },
  {
   "cell_type": "code",
   "execution_count": 42,
   "metadata": {},
   "outputs": [
    {
     "data": {
      "text/plain": [
       "\"import math\\n\\nfrom torch import nn as nn\\n\\nfrom util.logconf import logging\\n\\nlog = logging.getLogger(__name__)\\n# log.setLevel(logging.WARN)\\n# log.setLevel(logging.INFO)\\nlog.setLevel(logging.DEBUG)\\n\\n\\nclass LunaModel(nn.Module):\\n    def __init__(self, in_channels=1, conv_channels=8):\\n        super().__init__()\\n\\n        self.tail_batchnorm = nn.BatchNorm3d(1)\\n\\n        self.block1 = LunaBlock(in_channels, conv_channels)\\n        self.block2 = LunaBlock(conv_channels, conv_channels * 2)\\n        self.block3 = LunaBlock(conv_channels * 2, conv_channels * 4)\\n        self.block4 = LunaBlock(conv_channels * 4, conv_channels * 8)\\n\\n        self.head_linear = nn.Linear(1152, 2)\\n        self.head_softmax = nn.Softmax(dim=1)\\n\\n        self._init_weights()\\n\\n    # see also https://github.com/pytorch/pytorch/issues/18182\\n    def _init_weights(self):\\n        for m in self.modules():\\n            if type(m) in {\\n                nn.Linear,\\n                nn.Conv3d,\\n                nn.Conv2d,\\n                nn.ConvTranspose2d,\\n                nn.ConvTranspose3d,\\n            }:\\n                nn.init.kaiming_normal_(\\n                    m.weight.data, a=0, mode='fan_out', nonlinearity='relu',\\n                )\\n                if m.bias is not None:\\n                    fan_in, fan_out = \\\\\\n                        nn.init._calculate_fan_in_and_fan_out(m.weight.data)\\n                    bound = 1 / math.sqrt(fan_out)\\n                    nn.init.normal_(m.bias, -bound, bound)\\n\\n\\n\\n    def forward(self, input_batch):\\n        bn_output = self.tail_batchnorm(input_batch)\\n\\n        block_out = self.block1(bn_output)\\n        block_out = self.block2(block_out)\\n        block_out = self.block3(block_out)\\n        block_out = self.block4(block_out)\\n\\n        conv_flat = block_out.view(\\n            block_out.size(0),\\n            -1,\\n        )\\n        linear_output = self.head_linear(conv_flat)\\n\\n        return linear_output, self.head_softmax(linear_output)\\n\\n\\nclass LunaBlock(nn.Module):\\n    def __init__(self, in_channels, conv_channels):\\n        super().__init__()\\n\\n        self.conv1 = nn.Conv3d(\\n            in_channels, conv_channels, kernel_size=3, padding=1, bias=True,\\n        )\\n        self.relu1 = nn.ReLU(inplace=True)\\n        self.conv2 = nn.Conv3d(\\n            conv_channels, conv_channels, kernel_size=3, padding=1, bias=True,\\n        )\\n        self.relu2 = nn.ReLU(inplace=True)\\n\\n        self.maxpool = nn.MaxPool3d(2, 2)\\n\\n    def forward(self, input_batch):\\n        block_out = self.conv1(input_batch)\\n        block_out = self.relu1(block_out)\\n        block_out = self.conv2(block_out)\\n        block_out = self.relu2(block_out)\\n\\n        return self.maxpool(block_out)\\n\""
      ]
     },
     "execution_count": 42,
     "metadata": {},
     "output_type": "execute_result"
    }
   ],
   "source": [
    "with open(\"../../src/p2ch11/model.py\", encoding=\"utf8\") as f:\n",
    "    text = f.read()\n",
    "text"
   ]
  },
  {
   "cell_type": "code",
   "execution_count": 43,
   "metadata": {},
   "outputs": [
    {
     "data": {
      "text/plain": [
       "89"
      ]
     },
     "execution_count": 43,
     "metadata": {},
     "output_type": "execute_result"
    }
   ],
   "source": [
    "lines = text.split(\"\\n\")\n",
    "len(lines)"
   ]
  },
  {
   "cell_type": "code",
   "execution_count": 46,
   "metadata": {},
   "outputs": [
    {
     "data": {
      "text/plain": [
       "'log = logging.getLogger(__name__)'"
      ]
     },
     "execution_count": 46,
     "metadata": {},
     "output_type": "execute_result"
    }
   ],
   "source": [
    "line = lines[6]\n",
    "line"
   ]
  },
  {
   "cell_type": "code",
   "execution_count": 47,
   "metadata": {},
   "outputs": [],
   "source": [
    "import re"
   ]
  },
  {
   "cell_type": "code",
   "execution_count": 48,
   "metadata": {},
   "outputs": [
    {
     "data": {
      "text/plain": [
       "'log logging getLogger __name__ '"
      ]
     },
     "execution_count": 48,
     "metadata": {},
     "output_type": "execute_result"
    }
   ],
   "source": [
    "punctuation = re.compile(r\"[^a-zA-Z0-9_]+\")\n",
    "line = punctuation.sub(\" \", line)\n",
    "line"
   ]
  },
  {
   "cell_type": "code",
   "execution_count": 49,
   "metadata": {},
   "outputs": [
    {
     "data": {
      "text/plain": [
       "(5, ['log', 'logging', 'getLogger', '__name__', ''])"
      ]
     },
     "execution_count": 49,
     "metadata": {},
     "output_type": "execute_result"
    }
   ],
   "source": [
    "word_list = line.split(\" \")\n",
    "len(word_list), word_list"
   ]
  },
  {
   "cell_type": "code",
   "execution_count": null,
   "metadata": {},
   "outputs": [],
   "source": [
    "text = punctuation.sub(\" \", text)"
   ]
  },
  {
   "cell_type": "code",
   "execution_count": 62,
   "metadata": {},
   "outputs": [
    {
     "data": {
      "text/plain": [
       "'import math from torch import nn as nn from util logconf import logging log logging getLogger __name__ log setLevel logging WARN log setLevel logging INFO log setLevel logging DEBUG class LunaModel nn Module def __init__ self in_channels 1 conv_channels 8 super __init__ self tail_batchnorm nn BatchNorm3d 1 self block1 LunaBlock in_channels conv_channels self block2 LunaBlock conv_channels conv_channels 2 self block3 LunaBlock conv_channels 2 conv_channels 4 self block4 LunaBlock conv_channels 4 conv_channels 8 self head_linear nn Linear 1152 2 self head_softmax nn Softmax dim 1 self _init_weights see also https github com pytorch pytorch issues 18182 def _init_weights self for m in self modules if type m in nn Linear nn Conv3d nn Conv2d nn ConvTranspose2d nn ConvTranspose3d nn init kaiming_normal_ m weight data a 0 mode fan_out nonlinearity relu if m bias is not None fan_in fan_out nn init _calculate_fan_in_and_fan_out m weight data bound 1 math sqrt fan_out nn init normal_ m bias bound bound def forward self input_batch bn_output self tail_batchnorm input_batch block_out self block1 bn_output block_out self block2 block_out block_out self block3 block_out block_out self block4 block_out conv_flat block_out view block_out size 0 1 linear_output self head_linear conv_flat return linear_output self head_softmax linear_output class LunaBlock nn Module def __init__ self in_channels conv_channels super __init__ self conv1 nn Conv3d in_channels conv_channels kernel_size 3 padding 1 bias True self relu1 nn ReLU inplace True self conv2 nn Conv3d conv_channels conv_channels kernel_size 3 padding 1 bias True self relu2 nn ReLU inplace True self maxpool nn MaxPool3d 2 2 def forward self input_batch block_out self conv1 input_batch block_out self relu1 block_out block_out self conv2 block_out block_out self relu2 block_out return self maxpool block_out '"
      ]
     },
     "execution_count": 62,
     "metadata": {},
     "output_type": "execute_result"
    }
   ],
   "source": [
    "text"
   ]
  },
  {
   "cell_type": "code",
   "execution_count": 66,
   "metadata": {},
   "outputs": [],
   "source": [
    "word_list = text.split()"
   ]
  },
  {
   "cell_type": "code",
   "execution_count": 64,
   "metadata": {},
   "outputs": [
    {
     "data": {
      "text/plain": [
       "['a', 'b', 'c', '']"
      ]
     },
     "execution_count": 64,
     "metadata": {},
     "output_type": "execute_result"
    }
   ],
   "source": [
    "s = \"a b c \"\n",
    "s.split(\" \")"
   ]
  },
  {
   "cell_type": "code",
   "execution_count": 67,
   "metadata": {},
   "outputs": [
    {
     "data": {
      "text/plain": [
       "(272,\n",
       " ['import',\n",
       "  'math',\n",
       "  'from',\n",
       "  'torch',\n",
       "  'import',\n",
       "  'nn',\n",
       "  'as',\n",
       "  'nn',\n",
       "  'from',\n",
       "  'util',\n",
       "  'logconf',\n",
       "  'import',\n",
       "  'logging',\n",
       "  'log',\n",
       "  'logging',\n",
       "  'getLogger',\n",
       "  '__name__',\n",
       "  'log',\n",
       "  'setLevel',\n",
       "  'logging',\n",
       "  'WARN',\n",
       "  'log',\n",
       "  'setLevel',\n",
       "  'logging',\n",
       "  'INFO',\n",
       "  'log',\n",
       "  'setLevel',\n",
       "  'logging',\n",
       "  'DEBUG',\n",
       "  'class',\n",
       "  'LunaModel',\n",
       "  'nn',\n",
       "  'Module',\n",
       "  'def',\n",
       "  '__init__',\n",
       "  'self',\n",
       "  'in_channels',\n",
       "  '1',\n",
       "  'conv_channels',\n",
       "  '8',\n",
       "  'super',\n",
       "  '__init__',\n",
       "  'self',\n",
       "  'tail_batchnorm',\n",
       "  'nn',\n",
       "  'BatchNorm3d',\n",
       "  '1',\n",
       "  'self',\n",
       "  'block1',\n",
       "  'LunaBlock',\n",
       "  'in_channels',\n",
       "  'conv_channels',\n",
       "  'self',\n",
       "  'block2',\n",
       "  'LunaBlock',\n",
       "  'conv_channels',\n",
       "  'conv_channels',\n",
       "  '2',\n",
       "  'self',\n",
       "  'block3',\n",
       "  'LunaBlock',\n",
       "  'conv_channels',\n",
       "  '2',\n",
       "  'conv_channels',\n",
       "  '4',\n",
       "  'self',\n",
       "  'block4',\n",
       "  'LunaBlock',\n",
       "  'conv_channels',\n",
       "  '4',\n",
       "  'conv_channels',\n",
       "  '8',\n",
       "  'self',\n",
       "  'head_linear',\n",
       "  'nn',\n",
       "  'Linear',\n",
       "  '1152',\n",
       "  '2',\n",
       "  'self',\n",
       "  'head_softmax',\n",
       "  'nn',\n",
       "  'Softmax',\n",
       "  'dim',\n",
       "  '1',\n",
       "  'self',\n",
       "  '_init_weights',\n",
       "  'see',\n",
       "  'also',\n",
       "  'https',\n",
       "  'github',\n",
       "  'com',\n",
       "  'pytorch',\n",
       "  'pytorch',\n",
       "  'issues',\n",
       "  '18182',\n",
       "  'def',\n",
       "  '_init_weights',\n",
       "  'self',\n",
       "  'for',\n",
       "  'm',\n",
       "  'in',\n",
       "  'self',\n",
       "  'modules',\n",
       "  'if',\n",
       "  'type',\n",
       "  'm',\n",
       "  'in',\n",
       "  'nn',\n",
       "  'Linear',\n",
       "  'nn',\n",
       "  'Conv3d',\n",
       "  'nn',\n",
       "  'Conv2d',\n",
       "  'nn',\n",
       "  'ConvTranspose2d',\n",
       "  'nn',\n",
       "  'ConvTranspose3d',\n",
       "  'nn',\n",
       "  'init',\n",
       "  'kaiming_normal_',\n",
       "  'm',\n",
       "  'weight',\n",
       "  'data',\n",
       "  'a',\n",
       "  '0',\n",
       "  'mode',\n",
       "  'fan_out',\n",
       "  'nonlinearity',\n",
       "  'relu',\n",
       "  'if',\n",
       "  'm',\n",
       "  'bias',\n",
       "  'is',\n",
       "  'not',\n",
       "  'None',\n",
       "  'fan_in',\n",
       "  'fan_out',\n",
       "  'nn',\n",
       "  'init',\n",
       "  '_calculate_fan_in_and_fan_out',\n",
       "  'm',\n",
       "  'weight',\n",
       "  'data',\n",
       "  'bound',\n",
       "  '1',\n",
       "  'math',\n",
       "  'sqrt',\n",
       "  'fan_out',\n",
       "  'nn',\n",
       "  'init',\n",
       "  'normal_',\n",
       "  'm',\n",
       "  'bias',\n",
       "  'bound',\n",
       "  'bound',\n",
       "  'def',\n",
       "  'forward',\n",
       "  'self',\n",
       "  'input_batch',\n",
       "  'bn_output',\n",
       "  'self',\n",
       "  'tail_batchnorm',\n",
       "  'input_batch',\n",
       "  'block_out',\n",
       "  'self',\n",
       "  'block1',\n",
       "  'bn_output',\n",
       "  'block_out',\n",
       "  'self',\n",
       "  'block2',\n",
       "  'block_out',\n",
       "  'block_out',\n",
       "  'self',\n",
       "  'block3',\n",
       "  'block_out',\n",
       "  'block_out',\n",
       "  'self',\n",
       "  'block4',\n",
       "  'block_out',\n",
       "  'conv_flat',\n",
       "  'block_out',\n",
       "  'view',\n",
       "  'block_out',\n",
       "  'size',\n",
       "  '0',\n",
       "  '1',\n",
       "  'linear_output',\n",
       "  'self',\n",
       "  'head_linear',\n",
       "  'conv_flat',\n",
       "  'return',\n",
       "  'linear_output',\n",
       "  'self',\n",
       "  'head_softmax',\n",
       "  'linear_output',\n",
       "  'class',\n",
       "  'LunaBlock',\n",
       "  'nn',\n",
       "  'Module',\n",
       "  'def',\n",
       "  '__init__',\n",
       "  'self',\n",
       "  'in_channels',\n",
       "  'conv_channels',\n",
       "  'super',\n",
       "  '__init__',\n",
       "  'self',\n",
       "  'conv1',\n",
       "  'nn',\n",
       "  'Conv3d',\n",
       "  'in_channels',\n",
       "  'conv_channels',\n",
       "  'kernel_size',\n",
       "  '3',\n",
       "  'padding',\n",
       "  '1',\n",
       "  'bias',\n",
       "  'True',\n",
       "  'self',\n",
       "  'relu1',\n",
       "  'nn',\n",
       "  'ReLU',\n",
       "  'inplace',\n",
       "  'True',\n",
       "  'self',\n",
       "  'conv2',\n",
       "  'nn',\n",
       "  'Conv3d',\n",
       "  'conv_channels',\n",
       "  'conv_channels',\n",
       "  'kernel_size',\n",
       "  '3',\n",
       "  'padding',\n",
       "  '1',\n",
       "  'bias',\n",
       "  'True',\n",
       "  'self',\n",
       "  'relu2',\n",
       "  'nn',\n",
       "  'ReLU',\n",
       "  'inplace',\n",
       "  'True',\n",
       "  'self',\n",
       "  'maxpool',\n",
       "  'nn',\n",
       "  'MaxPool3d',\n",
       "  '2',\n",
       "  '2',\n",
       "  'def',\n",
       "  'forward',\n",
       "  'self',\n",
       "  'input_batch',\n",
       "  'block_out',\n",
       "  'self',\n",
       "  'conv1',\n",
       "  'input_batch',\n",
       "  'block_out',\n",
       "  'self',\n",
       "  'relu1',\n",
       "  'block_out',\n",
       "  'block_out',\n",
       "  'self',\n",
       "  'conv2',\n",
       "  'block_out',\n",
       "  'block_out',\n",
       "  'self',\n",
       "  'relu2',\n",
       "  'block_out',\n",
       "  'return',\n",
       "  'self',\n",
       "  'maxpool',\n",
       "  'block_out'])"
      ]
     },
     "execution_count": 67,
     "metadata": {},
     "output_type": "execute_result"
    }
   ],
   "source": [
    "len(word_list), word_list"
   ]
  },
  {
   "cell_type": "code",
   "execution_count": 68,
   "metadata": {},
   "outputs": [],
   "source": [
    "word_list_unique = sorted(set(word_list))"
   ]
  },
  {
   "cell_type": "code",
   "execution_count": 69,
   "metadata": {},
   "outputs": [
    {
     "data": {
      "text/plain": [
       "1"
      ]
     },
     "execution_count": 69,
     "metadata": {},
     "output_type": "execute_result"
    }
   ],
   "source": [
    "len(word_list_unique[0])"
   ]
  },
  {
   "cell_type": "code",
   "execution_count": 61,
   "metadata": {},
   "outputs": [
    {
     "data": {
      "text/plain": [
       "('', False)"
      ]
     },
     "execution_count": 61,
     "metadata": {},
     "output_type": "execute_result"
    }
   ],
   "source": [
    "blank_str = \"\"\n",
    "blank_str, blank_str.isspace()"
   ]
  },
  {
   "cell_type": "code",
   "execution_count": 70,
   "metadata": {},
   "outputs": [
    {
     "data": {
      "text/plain": [
       "(101,\n",
       " {'0': 0,\n",
       "  '1': 1,\n",
       "  '1152': 2,\n",
       "  '18182': 3,\n",
       "  '2': 4,\n",
       "  '3': 5,\n",
       "  '4': 6,\n",
       "  '8': 7,\n",
       "  'BatchNorm3d': 8,\n",
       "  'Conv2d': 9,\n",
       "  'Conv3d': 10,\n",
       "  'ConvTranspose2d': 11,\n",
       "  'ConvTranspose3d': 12,\n",
       "  'DEBUG': 13,\n",
       "  'INFO': 14,\n",
       "  'Linear': 15,\n",
       "  'LunaBlock': 16,\n",
       "  'LunaModel': 17,\n",
       "  'MaxPool3d': 18,\n",
       "  'Module': 19,\n",
       "  'None': 20,\n",
       "  'ReLU': 21,\n",
       "  'Softmax': 22,\n",
       "  'True': 23,\n",
       "  'WARN': 24,\n",
       "  '__init__': 25,\n",
       "  '__name__': 26,\n",
       "  '_calculate_fan_in_and_fan_out': 27,\n",
       "  '_init_weights': 28,\n",
       "  'a': 29,\n",
       "  'also': 30,\n",
       "  'as': 31,\n",
       "  'bias': 32,\n",
       "  'block1': 33,\n",
       "  'block2': 34,\n",
       "  'block3': 35,\n",
       "  'block4': 36,\n",
       "  'block_out': 37,\n",
       "  'bn_output': 38,\n",
       "  'bound': 39,\n",
       "  'class': 40,\n",
       "  'com': 41,\n",
       "  'conv1': 42,\n",
       "  'conv2': 43,\n",
       "  'conv_channels': 44,\n",
       "  'conv_flat': 45,\n",
       "  'data': 46,\n",
       "  'def': 47,\n",
       "  'dim': 48,\n",
       "  'fan_in': 49,\n",
       "  'fan_out': 50,\n",
       "  'for': 51,\n",
       "  'forward': 52,\n",
       "  'from': 53,\n",
       "  'getLogger': 54,\n",
       "  'github': 55,\n",
       "  'head_linear': 56,\n",
       "  'head_softmax': 57,\n",
       "  'https': 58,\n",
       "  'if': 59,\n",
       "  'import': 60,\n",
       "  'in': 61,\n",
       "  'in_channels': 62,\n",
       "  'init': 63,\n",
       "  'inplace': 64,\n",
       "  'input_batch': 65,\n",
       "  'is': 66,\n",
       "  'issues': 67,\n",
       "  'kaiming_normal_': 68,\n",
       "  'kernel_size': 69,\n",
       "  'linear_output': 70,\n",
       "  'log': 71,\n",
       "  'logconf': 72,\n",
       "  'logging': 73,\n",
       "  'm': 74,\n",
       "  'math': 75,\n",
       "  'maxpool': 76,\n",
       "  'mode': 77,\n",
       "  'modules': 78,\n",
       "  'nn': 79,\n",
       "  'nonlinearity': 80,\n",
       "  'normal_': 81,\n",
       "  'not': 82,\n",
       "  'padding': 83,\n",
       "  'pytorch': 84,\n",
       "  'relu': 85,\n",
       "  'relu1': 86,\n",
       "  'relu2': 87,\n",
       "  'return': 88,\n",
       "  'see': 89,\n",
       "  'self': 90,\n",
       "  'setLevel': 91,\n",
       "  'size': 92,\n",
       "  'sqrt': 93,\n",
       "  'super': 94,\n",
       "  'tail_batchnorm': 95,\n",
       "  'torch': 96,\n",
       "  'type': 97,\n",
       "  'util': 98,\n",
       "  'view': 99,\n",
       "  'weight': 100})"
      ]
     },
     "execution_count": 70,
     "metadata": {},
     "output_type": "execute_result"
    }
   ],
   "source": [
    "words2index_dict = {word: idx for (idx, word) in enumerate(word_list_unique)}\n",
    "len(words2index_dict), words2index_dict"
   ]
  },
  {
   "cell_type": "code",
   "execution_count": 71,
   "metadata": {},
   "outputs": [
    {
     "data": {
      "text/plain": [
       "torch.Size([272, 101])"
      ]
     },
     "execution_count": 71,
     "metadata": {},
     "output_type": "execute_result"
    }
   ],
   "source": [
    "word_onehot = torch.zeros(len(word_list), len(words2index_dict))\n",
    "word_onehot.shape"
   ]
  },
  {
   "cell_type": "code",
   "execution_count": 72,
   "metadata": {},
   "outputs": [
    {
     "data": {
      "text/plain": [
       "torch.Size([272, 1])"
      ]
     },
     "execution_count": 72,
     "metadata": {},
     "output_type": "execute_result"
    }
   ],
   "source": [
    "word_index = [words2index_dict[word] for word in word_list]\n",
    "word_index_t = torch.tensor(word_index).to(torch.int64).unsqueeze(1)\n",
    "word_index_t.shape"
   ]
  },
  {
   "cell_type": "code",
   "execution_count": 73,
   "metadata": {},
   "outputs": [
    {
     "data": {
      "text/plain": [
       "tensor([[0., 0.,  ..., 0., 0.],\n",
       "        [0., 0.,  ..., 0., 0.],\n",
       "        ...,\n",
       "        [0., 0.,  ..., 0., 0.],\n",
       "        [0., 0.,  ..., 0., 0.]])"
      ]
     },
     "execution_count": 73,
     "metadata": {},
     "output_type": "execute_result"
    }
   ],
   "source": [
    "word_onehot.scatter_(1, word_index_t, 1)\n",
    "word_onehot"
   ]
  },
  {
   "cell_type": "code",
   "execution_count": null,
   "metadata": {},
   "outputs": [],
   "source": []
  }
 ],
 "metadata": {
  "kernelspec": {
   "display_name": "dlwpt",
   "language": "python",
   "name": "python3"
  },
  "language_info": {
   "codemirror_mode": {
    "name": "ipython",
    "version": 3
   },
   "file_extension": ".py",
   "mimetype": "text/x-python",
   "name": "python",
   "nbconvert_exporter": "python",
   "pygments_lexer": "ipython3",
   "version": "3.12.3"
  }
 },
 "nbformat": 4,
 "nbformat_minor": 2
}
