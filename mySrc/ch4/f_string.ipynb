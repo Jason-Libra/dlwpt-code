{
 "cells": [
  {
   "cell_type": "code",
   "execution_count": 1,
   "metadata": {},
   "outputs": [
    {
     "name": "stdout",
     "output_type": "stream",
     "text": [
      "10,000,000,000\n",
      "10_000_000_000\n"
     ]
    }
   ],
   "source": [
    "n: int = 10000000000\n",
    "print(f\"{n:,}\")\n",
    "print(f\"{n:_}\")"
   ]
  },
  {
   "cell_type": "code",
   "execution_count": 2,
   "metadata": {},
   "outputs": [
    {
     "name": "stdout",
     "output_type": "stream",
     "text": [
      "10,000,000,000.32412\n",
      "10_000_000_000.32412\n"
     ]
    }
   ],
   "source": [
    "n: float = 10000000000.32412\n",
    "print(f\"{n:,}\")\n",
    "print(f\"{n:_}\")"
   ]
  },
  {
   "cell_type": "code",
   "execution_count": 4,
   "metadata": {},
   "outputs": [
    {
     "name": "stdout",
     "output_type": "stream",
     "text": [
      "Hello, World!\n",
      "Hello, World!       \n",
      "       Hello, World!\n",
      "Hello, World!       \n",
      "   Hello, World!    \n",
      "***Hello, World!****\n",
      "Hello, World!*******\n",
      "*******Hello, World!\n"
     ]
    }
   ],
   "source": [
    "var: str = \"Hello, World!\"\n",
    "\n",
    "print(f\"{var}\")\n",
    "print(f\"{var:20}\")\n",
    "print(f\"{var:>20}\")\n",
    "print(f\"{var:<20}\")\n",
    "print(f\"{var:^20}\")\n",
    "print(f\"{var:*^20}\")\n",
    "print(f\"{var:*<20}\")\n",
    "print(f\"{var:*>20}\")"
   ]
  },
  {
   "cell_type": "code",
   "execution_count": 7,
   "metadata": {},
   "outputs": [
    {
     "name": "stdout",
     "output_type": "stream",
     "text": [
      "2024-06-19 13:45:04.231588\n",
      "2024-06-19 13:45:04\n",
      "2024-06-19 01:45:04 PM\n",
      "Wed Jun 19 13:45:04 2024\n"
     ]
    }
   ],
   "source": [
    "from datetime import datetime\n",
    "\n",
    "now: datetime = datetime.now()\n",
    "print(f\"{now}\")  # 2021-08-17 14:00:00.000000\n",
    "print(f\"{now:%Y-%m-%d %H:%M:%S}\")  # %H是24小时制, %I是12小时制\n",
    "print(f\"{now:%Y-%m-%d %I:%M:%S %p}\")  # %p是AM/PM\n",
    "print(f\"{now:%c}\")  # %c是本地日期和时间"
   ]
  },
  {
   "cell_type": "code",
   "execution_count": 10,
   "metadata": {},
   "outputs": [
    {
     "name": "stdout",
     "output_type": "stream",
     "text": [
      "123456.79\n",
      "12345678.91%\n",
      "1.23e+05\n",
      "123457\n",
      "123,456.79\n"
     ]
    }
   ],
   "source": [
    "n: float = 123456.78910\n",
    "print(f\"{n:.2f}\")\n",
    "print(f\"{n:.2%}\")\n",
    "print(f\"{n:.2e}\")\n",
    "print(f\"{n:.0f}\")\n",
    "print(f\"{n:,.2f}\")"
   ]
  },
  {
   "cell_type": "code",
   "execution_count": 11,
   "metadata": {},
   "outputs": [
    {
     "name": "stdout",
     "output_type": "stream",
     "text": [
      "a + b = 15\n",
      "var = Hello, World!\n",
      "var = 'Hello, World!'\n"
     ]
    }
   ],
   "source": [
    "a: int = 5\n",
    "b: int = 10\n",
    "var: str = \"Hello, World!\"\n",
    "print(f\"{a + b = }\")\n",
    "print(f\"var = {var}\")\n",
    "print(f\"{var = }\")"
   ]
  }
 ],
 "metadata": {
  "kernelspec": {
   "display_name": "dlwpt",
   "language": "python",
   "name": "python3"
  },
  "language_info": {
   "codemirror_mode": {
    "name": "ipython",
    "version": 3
   },
   "file_extension": ".py",
   "mimetype": "text/x-python",
   "name": "python",
   "nbconvert_exporter": "python",
   "pygments_lexer": "ipython3",
   "version": "3.12.3"
  }
 },
 "nbformat": 4,
 "nbformat_minor": 2
}
