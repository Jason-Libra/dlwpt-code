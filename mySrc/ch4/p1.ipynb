{
 "cells": [
  {
   "cell_type": "markdown",
   "metadata": {},
   "source": [
    "## 图像文件读取与标准化"
   ]
  },
  {
   "cell_type": "code",
   "execution_count": 34,
   "metadata": {},
   "outputs": [],
   "source": [
    "import torch\n",
    "import numpy as np"
   ]
  },
  {
   "cell_type": "code",
   "execution_count": 35,
   "metadata": {},
   "outputs": [],
   "source": [
    "torch.set_printoptions(edgeitems=2, threshold=50)"
   ]
  },
  {
   "cell_type": "markdown",
   "metadata": {},
   "source": [
    "新版本imageio分为了v3和v2两个命名空间，直接使用imageio.imread会调用v3的版本，但是为了使老版本v2版本的依旧可用，并消除DeprecationWarning，可以：\n",
    "- 在调包时使用`import imageio.v2 as iio`\n",
    "- 或者直接使用`imageio.v2.imread`"
   ]
  },
  {
   "cell_type": "markdown",
   "metadata": {},
   "source": [
    "**不过这里也没有与该函数强关联的代码，尝试使用v3版本的iio，看看有没有啥问题。**"
   ]
  },
  {
   "cell_type": "code",
   "execution_count": 36,
   "metadata": {},
   "outputs": [],
   "source": [
    "# import imageio\n",
    "# img_arr = imageio.imread(\"../../myData/p1ch4/image-dog/bobby.jpg\")\n",
    "import imageio.v3 as iio"
   ]
  },
  {
   "cell_type": "code",
   "execution_count": 37,
   "metadata": {},
   "outputs": [
    {
     "data": {
      "text/plain": [
       "(720, 1280, 3)"
      ]
     },
     "execution_count": 37,
     "metadata": {},
     "output_type": "execute_result"
    }
   ],
   "source": [
    "img_arr = iio.imread(\"../../myData/p1ch4/image-dog/bobby.jpg\")\n",
    "img_arr.shape"
   ]
  },
  {
   "cell_type": "code",
   "execution_count": 38,
   "metadata": {},
   "outputs": [
    {
     "data": {
      "text/plain": [
       "dtype('uint8')"
      ]
     },
     "execution_count": 38,
     "metadata": {},
     "output_type": "execute_result"
    }
   ],
   "source": [
    "img_arr.dtype"
   ]
  },
  {
   "cell_type": "code",
   "execution_count": 39,
   "metadata": {},
   "outputs": [
    {
     "data": {
      "text/plain": [
       "(torch.Size([720, 1280, 3]), torch.uint8)"
      ]
     },
     "execution_count": 39,
     "metadata": {},
     "output_type": "execute_result"
    }
   ],
   "source": [
    "img = torch.from_numpy(img_arr)\n",
    "img.shape, img.dtype"
   ]
  },
  {
   "cell_type": "code",
   "execution_count": 40,
   "metadata": {},
   "outputs": [
    {
     "data": {
      "text/plain": [
       "(torch.Size([3, 720, 1280]), torch.uint8)"
      ]
     },
     "execution_count": 40,
     "metadata": {},
     "output_type": "execute_result"
    }
   ],
   "source": [
    "out = img.permute(2, 0, 1)\n",
    "out.shape, out.dtype"
   ]
  },
  {
   "cell_type": "code",
   "execution_count": 41,
   "metadata": {},
   "outputs": [
    {
     "data": {
      "text/plain": [
       "tensor([[[ 0,  1,  2],\n",
       "         [ 3,  4,  5],\n",
       "         [ 6,  7,  8],\n",
       "         [ 9, 10, 11]],\n",
       "\n",
       "        [[12, 13, 14],\n",
       "         [15, 16, 17],\n",
       "         [18, 19, 20],\n",
       "         [21, 22, 23]]])"
      ]
     },
     "execution_count": 41,
     "metadata": {},
     "output_type": "execute_result"
    }
   ],
   "source": [
    "test = torch.tensor(list(range(24)))\n",
    "a = test.view(2, 4, 3)\n",
    "a"
   ]
  },
  {
   "cell_type": "code",
   "execution_count": 42,
   "metadata": {},
   "outputs": [
    {
     "data": {
      "text/plain": [
       "tensor([[[ 0, 12],\n",
       "         [ 3, 15],\n",
       "         [ 6, 18],\n",
       "         [ 9, 21]],\n",
       "\n",
       "        [[ 1, 13],\n",
       "         [ 4, 16],\n",
       "         [ 7, 19],\n",
       "         [10, 22]],\n",
       "\n",
       "        [[ 2, 14],\n",
       "         [ 5, 17],\n",
       "         [ 8, 20],\n",
       "         [11, 23]]])"
      ]
     },
     "execution_count": 42,
     "metadata": {},
     "output_type": "execute_result"
    }
   ],
   "source": [
    "c = a.transpose(0, 2)\n",
    "c"
   ]
  },
  {
   "cell_type": "code",
   "execution_count": 43,
   "metadata": {},
   "outputs": [
    {
     "data": {
      "text/plain": [
       "tensor([[[ 0,  3,  6,  9],\n",
       "         [12, 15, 18, 21]],\n",
       "\n",
       "        [[ 1,  4,  7, 10],\n",
       "         [13, 16, 19, 22]],\n",
       "\n",
       "        [[ 2,  5,  8, 11],\n",
       "         [14, 17, 20, 23]]])"
      ]
     },
     "execution_count": 43,
     "metadata": {},
     "output_type": "execute_result"
    }
   ],
   "source": [
    "b = a.permute(2, 0, 1)\n",
    "b"
   ]
  },
  {
   "cell_type": "code",
   "execution_count": 44,
   "metadata": {},
   "outputs": [
    {
     "data": {
      "text/plain": [
       "(tensor([[[ 99,   1,   2],\n",
       "          [  3,   4, 999],\n",
       "          [  6,   7,   8],\n",
       "          [  9,  10,  11]],\n",
       " \n",
       "         [[ 12,  13,  14],\n",
       "          [ 15,  16,  17],\n",
       "          [ 18,  19,  20],\n",
       "          [ 21,  22,  23]]]),\n",
       " tensor([[[ 99,   3,   6,   9],\n",
       "          [ 12,  15,  18,  21]],\n",
       " \n",
       "         [[  1,   4,   7,  10],\n",
       "          [ 13,  16,  19,  22]],\n",
       " \n",
       "         [[  2, 999,   8,  11],\n",
       "          [ 14,  17,  20,  23]]]),\n",
       " tensor([[[ 99,  12],\n",
       "          [  3,  15],\n",
       "          [  6,  18],\n",
       "          [  9,  21]],\n",
       " \n",
       "         [[  1,  13],\n",
       "          [  4,  16],\n",
       "          [  7,  19],\n",
       "          [ 10,  22]],\n",
       " \n",
       "         [[  2,  14],\n",
       "          [999,  17],\n",
       "          [  8,  20],\n",
       "          [ 11,  23]]]))"
      ]
     },
     "execution_count": 44,
     "metadata": {},
     "output_type": "execute_result"
    }
   ],
   "source": [
    "c[0, 0, 0] = 99\n",
    "a[0, 1, 2] = 999\n",
    "a, b, c"
   ]
  },
  {
   "cell_type": "code",
   "execution_count": 45,
   "metadata": {},
   "outputs": [],
   "source": [
    "batch_size = 3\n",
    "batch = torch.zeros(batch_size, 3, 256, 256, dtype=torch.uint8)"
   ]
  },
  {
   "cell_type": "code",
   "execution_count": 46,
   "metadata": {},
   "outputs": [],
   "source": [
    "import os"
   ]
  },
  {
   "cell_type": "code",
   "execution_count": 47,
   "metadata": {},
   "outputs": [],
   "source": [
    "data_dir = \"../../myData/p1ch4/image-cats/\""
   ]
  },
  {
   "cell_type": "code",
   "execution_count": 48,
   "metadata": {},
   "outputs": [],
   "source": [
    "filenames = [\n",
    "    name for name in os.listdir(data_dir) if os.path.splitext(name)[-1] == \".png\"\n",
    "]"
   ]
  },
  {
   "cell_type": "code",
   "execution_count": 49,
   "metadata": {},
   "outputs": [
    {
     "data": {
      "text/plain": [
       "['cat1.png', 'cat2.png', 'cat3.png']"
      ]
     },
     "execution_count": 49,
     "metadata": {},
     "output_type": "execute_result"
    }
   ],
   "source": [
    "filenames"
   ]
  },
  {
   "cell_type": "code",
   "execution_count": 53,
   "metadata": {},
   "outputs": [
    {
     "name": "stdout",
     "output_type": "stream",
     "text": [
      "(256, 256, 3)\n"
     ]
    }
   ],
   "source": [
    "size_set = set()\n",
    "for f in filenames:\n",
    "    img_arr = iio.imread(os.path.join(data_dir, f))\n",
    "    size_set.add(img_arr.shape)\n",
    "\n",
    "for item in size_set:\n",
    "    print(item)"
   ]
  },
  {
   "cell_type": "code",
   "execution_count": 50,
   "metadata": {},
   "outputs": [],
   "source": [
    "for idx, filename in enumerate(filenames):\n",
    "    img_arr = iio.imread(os.path.join(data_dir, filename))\n",
    "    img_t = torch.from_numpy(img_arr)\n",
    "    img_t = img_t.permute(2, 0, 1)\n",
    "    # 保险起见，有的图片可能存在更多的通道(alpha通道)，这里我们只需要取前三个通道\n",
    "    img_t = img_t[:3]\n",
    "    batch[idx] = img_t"
   ]
  },
  {
   "cell_type": "code",
   "execution_count": 54,
   "metadata": {},
   "outputs": [],
   "source": [
    "batch = batch.to(dtype=torch.float)\n",
    "batch /= 255.0"
   ]
  },
  {
   "cell_type": "code",
   "execution_count": 55,
   "metadata": {},
   "outputs": [],
   "source": [
    "n_channels = batch.shape[1]"
   ]
  },
  {
   "cell_type": "code",
   "execution_count": 56,
   "metadata": {},
   "outputs": [],
   "source": [
    "for c in range(n_channels):\n",
    "    mean = torch.mean(batch[:, c])\n",
    "    std = torch.std(batch[:, c])\n",
    "    batch[:, c] = (batch[:, c] - mean) / std"
   ]
  },
  {
   "cell_type": "code",
   "execution_count": 57,
   "metadata": {},
   "outputs": [
    {
     "data": {
      "text/plain": [
       "tensor(1.)"
      ]
     },
     "execution_count": 57,
     "metadata": {},
     "output_type": "execute_result"
    }
   ],
   "source": [
    "batch[:, c].std()"
   ]
  },
  {
   "cell_type": "code",
   "execution_count": null,
   "metadata": {},
   "outputs": [],
   "source": []
  }
 ],
 "metadata": {
  "kernelspec": {
   "display_name": "dlwpt",
   "language": "python",
   "name": "python3"
  },
  "language_info": {
   "codemirror_mode": {
    "name": "ipython",
    "version": 3
   },
   "file_extension": ".py",
   "mimetype": "text/x-python",
   "name": "python",
   "nbconvert_exporter": "python",
   "pygments_lexer": "ipython3",
   "version": "3.12.3"
  }
 },
 "nbformat": 4,
 "nbformat_minor": 2
}
