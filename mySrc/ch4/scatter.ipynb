{
 "cells": [
  {
   "cell_type": "code",
   "execution_count": 2,
   "metadata": {},
   "outputs": [],
   "source": [
    "import torch"
   ]
  },
  {
   "cell_type": "code",
   "execution_count": 13,
   "metadata": {},
   "outputs": [
    {
     "data": {
      "text/plain": [
       "tensor([[-1.0276,  0.2673, -1.1752, -0.8823],\n",
       "        [-0.6447, -0.8256,  0.1542, -0.4242],\n",
       "        [-0.3413, -0.5314, -0.6573, -0.1154]])"
      ]
     },
     "execution_count": 13,
     "metadata": {},
     "output_type": "execute_result"
    }
   ],
   "source": [
    "src = torch.Tensor(\n",
    "    [\n",
    "        [-1.0276, 0.2673, -1.1752, -0.8823],\n",
    "        [-0.6447, -0.8256, 0.1542, -0.4242],\n",
    "        [-0.3413, -0.5314, -0.6573, -0.1154],\n",
    "    ]\n",
    ")\n",
    "src"
   ]
  },
  {
   "cell_type": "code",
   "execution_count": 22,
   "metadata": {},
   "outputs": [],
   "source": [
    "index = torch.tensor([[3, 8, 2, 0], [1, 2, 0, 3]])"
   ]
  },
  {
   "cell_type": "code",
   "execution_count": 14,
   "metadata": {},
   "outputs": [
    {
     "data": {
      "text/plain": [
       "tensor([[-0.8823,  0.2673, -1.1752, -1.0276,  0.0000],\n",
       "        [ 0.1542, -0.6447, -0.8256, -0.4242,  0.0000]])"
      ]
     },
     "execution_count": 14,
     "metadata": {},
     "output_type": "execute_result"
    }
   ],
   "source": [
    "output = torch.zeros(2, 5)\n",
    "output = output.scatter(1, index, src)\n",
    "output"
   ]
  },
  {
   "cell_type": "code",
   "execution_count": 15,
   "metadata": {},
   "outputs": [
    {
     "data": {
      "text/plain": [
       "tensor([[-0.8823,  0.1542],\n",
       "        [ 0.2673, -0.6447],\n",
       "        [-1.1752, -0.8256],\n",
       "        [-1.0276, -0.4242]])"
      ]
     },
     "execution_count": 15,
     "metadata": {},
     "output_type": "execute_result"
    }
   ],
   "source": [
    "output = torch.zeros(4, 2)\n",
    "output = output.scatter(0, index.t(), src.t())\n",
    "output"
   ]
  },
  {
   "cell_type": "code",
   "execution_count": 20,
   "metadata": {},
   "outputs": [
    {
     "data": {
      "text/plain": [
       "(tensor([[3, 1, 2, 0],\n",
       "         [1, 2, 0, 3]]),\n",
       " tensor([[-1.0276,  0.2673, -1.1752, -0.8823],\n",
       "         [-0.6447, -0.8256,  0.1542, -0.4242],\n",
       "         [-0.3413, -0.5314, -0.6573, -0.1154]]))"
      ]
     },
     "execution_count": 20,
     "metadata": {},
     "output_type": "execute_result"
    }
   ],
   "source": [
    "index, src"
   ]
  },
  {
   "cell_type": "code",
   "execution_count": 19,
   "metadata": {},
   "outputs": [
    {
     "data": {
      "text/plain": [
       "tensor([[ 0.0000,  0.0000,  0.1542, -0.8823],\n",
       "        [-0.6447,  0.2673,  0.0000,  0.0000],\n",
       "        [ 0.0000, -0.8256, -1.1752,  0.0000],\n",
       "        [-1.0276,  0.0000,  0.0000, -0.4242]])"
      ]
     },
     "execution_count": 19,
     "metadata": {},
     "output_type": "execute_result"
    }
   ],
   "source": [
    "output = torch.zeros(4, 4)\n",
    "output = output.scatter(0, index, src)\n",
    "output"
   ]
  },
  {
   "cell_type": "code",
   "execution_count": 25,
   "metadata": {},
   "outputs": [
    {
     "data": {
      "text/plain": [
       "tensor([[ 0.0000, -0.6447,  0.0000, -1.0276,  0.0000,  0.0000,  0.0000,  0.0000,\n",
       "          0.0000],\n",
       "        [ 0.0000,  0.0000, -0.8256,  0.0000,  0.0000,  0.0000,  0.0000,  0.0000,\n",
       "          0.2673],\n",
       "        [ 0.1542,  0.0000, -1.1752,  0.0000,  0.0000,  0.0000,  0.0000,  0.0000,\n",
       "          0.0000],\n",
       "        [-0.8823,  0.0000,  0.0000, -0.4242,  0.0000,  0.0000,  0.0000,  0.0000,\n",
       "          0.0000],\n",
       "        [ 0.0000,  0.0000,  0.0000,  0.0000,  0.0000,  0.0000,  0.0000,  0.0000,\n",
       "          0.0000],\n",
       "        [ 0.0000,  0.0000,  0.0000,  0.0000,  0.0000,  0.0000,  0.0000,  0.0000,\n",
       "          0.0000],\n",
       "        [ 0.0000,  0.0000,  0.0000,  0.0000,  0.0000,  0.0000,  0.0000,  0.0000,\n",
       "          0.0000],\n",
       "        [ 0.0000,  0.0000,  0.0000,  0.0000,  0.0000,  0.0000,  0.0000,  0.0000,\n",
       "          0.0000],\n",
       "        [ 0.0000,  0.0000,  0.0000,  0.0000,  0.0000,  0.0000,  0.0000,  0.0000,\n",
       "          0.0000]])"
      ]
     },
     "execution_count": 25,
     "metadata": {},
     "output_type": "execute_result"
    }
   ],
   "source": [
    "output = torch.zeros(9, 9)\n",
    "output = output.scatter(1, index.t(), src.t())\n",
    "output"
   ]
  }
 ],
 "metadata": {
  "kernelspec": {
   "display_name": "dlwpt",
   "language": "python",
   "name": "python3"
  },
  "language_info": {
   "codemirror_mode": {
    "name": "ipython",
    "version": 3
   },
   "file_extension": ".py",
   "mimetype": "text/x-python",
   "name": "python",
   "nbconvert_exporter": "python",
   "pygments_lexer": "ipython3",
   "version": "3.12.3"
  }
 },
 "nbformat": 4,
 "nbformat_minor": 2
}
