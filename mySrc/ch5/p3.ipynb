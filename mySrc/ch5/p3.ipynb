{
 "cells": [
  {
   "cell_type": "markdown",
   "metadata": {},
   "source": [
    "# Optimizer 优化器"
   ]
  },
  {
   "cell_type": "code",
   "execution_count": 2,
   "metadata": {},
   "outputs": [],
   "source": [
    "import torch\n",
    "import numpy as np\n",
    "import matplotlib.pyplot as plt\n",
    "\n",
    "torch.set_printoptions(edgeitems=2, threshold=50)"
   ]
  },
  {
   "cell_type": "code",
   "execution_count": 3,
   "metadata": {},
   "outputs": [],
   "source": [
    "t_c = [0.5, 14.0, 15.0, 28.0, 11.0, 8.0, 3.0, -4.0, 6.0, 13.0, 21.0]\n",
    "t_u = [35.7, 55.9, 58.2, 81.9, 56.3, 48.9, 33.9, 21.8, 48.4, 60.4, 68.4]\n",
    "t_c = torch.tensor(t_c)\n",
    "t_u = torch.tensor(t_u)"
   ]
  },
  {
   "cell_type": "code",
   "execution_count": 4,
   "metadata": {},
   "outputs": [],
   "source": [
    "t_un = 0.1 * t_u"
   ]
  },
  {
   "cell_type": "code",
   "execution_count": 5,
   "metadata": {},
   "outputs": [],
   "source": [
    "def model(x, w, b):\n",
    "    return w * x + b"
   ]
  },
  {
   "cell_type": "code",
   "execution_count": 6,
   "metadata": {},
   "outputs": [],
   "source": [
    "def loss_fn(p, y):\n",
    "    squared_diffs = (p - y) ** 2\n",
    "    return squared_diffs.mean()"
   ]
  },
  {
   "cell_type": "code",
   "execution_count": 7,
   "metadata": {},
   "outputs": [],
   "source": [
    "params = torch.tensor([1.0, 0.0], requires_grad=True)"
   ]
  },
  {
   "cell_type": "code",
   "execution_count": 8,
   "metadata": {},
   "outputs": [
    {
     "data": {
      "text/plain": [
       "True"
      ]
     },
     "execution_count": 8,
     "metadata": {},
     "output_type": "execute_result"
    }
   ],
   "source": [
    "params.grad is None"
   ]
  },
  {
   "cell_type": "code",
   "execution_count": 9,
   "metadata": {},
   "outputs": [
    {
     "data": {
      "text/plain": [
       "(tensor([1., 0.], requires_grad=True), torch.Size([2]))"
      ]
     },
     "execution_count": 9,
     "metadata": {},
     "output_type": "execute_result"
    }
   ],
   "source": [
    "params, params.shape"
   ]
  },
  {
   "cell_type": "markdown",
   "metadata": {},
   "source": [
    "*操作为解包操作，可以将张量展开为所需的参数"
   ]
  },
  {
   "cell_type": "code",
   "execution_count": 10,
   "metadata": {},
   "outputs": [],
   "source": [
    "loss = loss_fn(model(t_u, *params), t_c)"
   ]
  },
  {
   "cell_type": "code",
   "execution_count": 11,
   "metadata": {},
   "outputs": [],
   "source": [
    "loss.backward()"
   ]
  },
  {
   "cell_type": "code",
   "execution_count": 12,
   "metadata": {},
   "outputs": [
    {
     "data": {
      "text/plain": [
       "tensor([4517.2969,   82.6000])"
      ]
     },
     "execution_count": 12,
     "metadata": {},
     "output_type": "execute_result"
    }
   ],
   "source": [
    "params.grad"
   ]
  },
  {
   "cell_type": "code",
   "execution_count": 13,
   "metadata": {},
   "outputs": [],
   "source": [
    "if params.grad is not None:\n",
    "    params.grad.zero_()"
   ]
  },
  {
   "cell_type": "code",
   "execution_count": 14,
   "metadata": {},
   "outputs": [
    {
     "data": {
      "text/plain": [
       "tensor([0., 0.])"
      ]
     },
     "execution_count": 14,
     "metadata": {},
     "output_type": "execute_result"
    }
   ],
   "source": [
    "params.grad"
   ]
  },
  {
   "cell_type": "code",
   "execution_count": 15,
   "metadata": {},
   "outputs": [],
   "source": [
    "def training_loop(n_epochs, lr, params, x, y):\n",
    "    for epoch in range(1, n_epochs + 1):\n",
    "        if params.grad is not None:\n",
    "            params.grad.zero_()\n",
    "\n",
    "        p = model(x, *params)\n",
    "        loss = loss_fn(p, y)\n",
    "        loss.backward()\n",
    "\n",
    "        with torch.no_grad():\n",
    "            params -= lr * params.grad\n",
    "        if epoch % 500 == 0:\n",
    "            print(f\"Epoch: {epoch}, Loss: {loss.item():.4f}\")\n",
    "    return params"
   ]
  },
  {
   "cell_type": "code",
   "execution_count": 16,
   "metadata": {},
   "outputs": [
    {
     "name": "stdout",
     "output_type": "stream",
     "text": [
      "Epoch: 500, Loss: 7.8601\n",
      "Epoch: 1000, Loss: 3.8285\n",
      "Epoch: 1500, Loss: 3.0922\n",
      "Epoch: 2000, Loss: 2.9577\n",
      "Epoch: 2500, Loss: 2.9331\n",
      "Epoch: 3000, Loss: 2.9286\n",
      "Epoch: 3500, Loss: 2.9278\n",
      "Epoch: 4000, Loss: 2.9277\n",
      "Epoch: 4500, Loss: 2.9277\n",
      "Epoch: 5000, Loss: 2.9276\n"
     ]
    }
   ],
   "source": [
    "params = training_loop(\n",
    "    n_epochs=5000,\n",
    "    lr=1e-2,\n",
    "    params=torch.tensor([1.0, 0.0], requires_grad=True),\n",
    "    x=t_un,\n",
    "    y=t_c,\n",
    ")"
   ]
  },
  {
   "cell_type": "code",
   "execution_count": 17,
   "metadata": {},
   "outputs": [
    {
     "data": {
      "text/plain": [
       "['ASGD',\n",
       " 'Adadelta',\n",
       " 'Adagrad',\n",
       " 'Adam',\n",
       " 'AdamW',\n",
       " 'Adamax',\n",
       " 'LBFGS',\n",
       " 'NAdam',\n",
       " 'Optimizer',\n",
       " 'RAdam',\n",
       " 'RMSprop',\n",
       " 'Rprop',\n",
       " 'SGD',\n",
       " 'SparseAdam',\n",
       " '__builtins__',\n",
       " '__cached__',\n",
       " '__doc__',\n",
       " '__file__',\n",
       " '__loader__',\n",
       " '__name__',\n",
       " '__package__',\n",
       " '__path__',\n",
       " '__spec__',\n",
       " '_functional',\n",
       " '_multi_tensor',\n",
       " 'lr_scheduler',\n",
       " 'swa_utils']"
      ]
     },
     "execution_count": 17,
     "metadata": {},
     "output_type": "execute_result"
    }
   ],
   "source": [
    "import torch.optim as optim\n",
    "\n",
    "dir(optim)"
   ]
  },
  {
   "cell_type": "code",
   "execution_count": 18,
   "metadata": {},
   "outputs": [],
   "source": [
    "params = torch.tensor([1.0, 0.0], requires_grad=True)\n",
    "lr = 1e-5\n",
    "optimizer = optim.SGD([params], lr=lr)"
   ]
  },
  {
   "cell_type": "code",
   "execution_count": 19,
   "metadata": {},
   "outputs": [],
   "source": [
    "p = model(t_u, *params)\n",
    "loss = loss_fn(p, t_c)\n",
    "loss.backward()"
   ]
  },
  {
   "cell_type": "code",
   "execution_count": 20,
   "metadata": {},
   "outputs": [
    {
     "data": {
      "text/plain": [
       "tensor([ 9.5483e-01, -8.2600e-04], requires_grad=True)"
      ]
     },
     "execution_count": 20,
     "metadata": {},
     "output_type": "execute_result"
    }
   ],
   "source": [
    "# params -= lr * params.grad\n",
    "optimizer.step()\n",
    "params"
   ]
  },
  {
   "cell_type": "code",
   "execution_count": 21,
   "metadata": {},
   "outputs": [
    {
     "data": {
      "text/plain": [
       "tensor([-44.1730,  -0.8260], requires_grad=True)"
      ]
     },
     "execution_count": 21,
     "metadata": {},
     "output_type": "execute_result"
    }
   ],
   "source": [
    "params = torch.tensor([1.0, 0.0], requires_grad=True)\n",
    "lr = 1e-2\n",
    "optimizer = optim.SGD([params], lr=lr)\n",
    "\n",
    "p = model(t_u, *params)\n",
    "loss = loss_fn(p, t_c)\n",
    "\n",
    "# 注意梯度归零\n",
    "optimizer.zero_grad()\n",
    "loss.backward()\n",
    "\n",
    "optimizer.step()\n",
    "params"
   ]
  },
  {
   "cell_type": "code",
   "execution_count": 22,
   "metadata": {},
   "outputs": [],
   "source": [
    "def training_loop(n_epochs, lr, x, y, params, optimizer):\n",
    "    for epoch in range(1, n_epochs + 1):\n",
    "        p = model(x, *params)\n",
    "        loss = loss_fn(p, y)\n",
    "\n",
    "        optimizer.zero_grad()\n",
    "        loss.backward()\n",
    "        optimizer.step()\n",
    "\n",
    "        if epoch % 500 == 0:\n",
    "            print(f\"Epoch: {epoch}, Loss: {loss.item():.4f}\")\n",
    "    return params"
   ]
  },
  {
   "cell_type": "code",
   "execution_count": 23,
   "metadata": {},
   "outputs": [],
   "source": [
    "params = torch.tensor([1.0, 0.0], requires_grad=True)\n",
    "lr = 1e-2\n",
    "optimizer = optim.SGD([params], lr=lr)"
   ]
  },
  {
   "cell_type": "code",
   "execution_count": 24,
   "metadata": {},
   "outputs": [
    {
     "name": "stdout",
     "output_type": "stream",
     "text": [
      "Epoch: 500, Loss: 7.8601\n",
      "Epoch: 1000, Loss: 3.8285\n",
      "Epoch: 1500, Loss: 3.0922\n",
      "Epoch: 2000, Loss: 2.9577\n",
      "Epoch: 2500, Loss: 2.9331\n",
      "Epoch: 3000, Loss: 2.9286\n",
      "Epoch: 3500, Loss: 2.9278\n",
      "Epoch: 4000, Loss: 2.9277\n",
      "Epoch: 4500, Loss: 2.9277\n",
      "Epoch: 5000, Loss: 2.9276\n"
     ]
    },
    {
     "data": {
      "text/plain": [
       "tensor([  5.3671, -17.3012], requires_grad=True)"
      ]
     },
     "execution_count": 24,
     "metadata": {},
     "output_type": "execute_result"
    }
   ],
   "source": [
    "training_loop(n_epochs=5000, lr=lr, x=t_un, y=t_c, params=params, optimizer=optimizer)"
   ]
  },
  {
   "cell_type": "code",
   "execution_count": 25,
   "metadata": {},
   "outputs": [
    {
     "name": "stdout",
     "output_type": "stream",
     "text": [
      "Epoch: 500, Loss: nan\n",
      "Epoch: 1000, Loss: nan\n",
      "Epoch: 1500, Loss: nan\n",
      "Epoch: 2000, Loss: nan\n"
     ]
    },
    {
     "data": {
      "text/plain": [
       "tensor([nan, nan], requires_grad=True)"
      ]
     },
     "execution_count": 25,
     "metadata": {},
     "output_type": "execute_result"
    }
   ],
   "source": [
    "params = torch.tensor([1.0, 0.0], requires_grad=True)\n",
    "lr = 1e-1\n",
    "optimizer = optim.SGD([params], lr=lr)\n",
    "training_loop(n_epochs=2000, lr=lr, x=t_u, y=t_c, params=params, optimizer=optimizer)"
   ]
  },
  {
   "cell_type": "markdown",
   "metadata": {},
   "source": [
    "视频里在尝试增大lr时，不小心改用了Adam优化器，因此正常训练成功了。但是此处可以看到，当使用SGD优化器的时候，把lr增大会导致完全无法收敛"
   ]
  },
  {
   "cell_type": "markdown",
   "metadata": {},
   "source": [
    "并且使用Adam时，即使使用未缩放的输入数据，也能达到很好的收敛效果，由此可见Adam优化器的强大之处。(其实也主要是因为Adam优化器对输入数据的缩放与否并不敏感)"
   ]
  },
  {
   "cell_type": "code",
   "execution_count": 26,
   "metadata": {},
   "outputs": [
    {
     "name": "stdout",
     "output_type": "stream",
     "text": [
      "Epoch: 500, Loss: 7.6129\n",
      "Epoch: 1000, Loss: 3.0867\n",
      "Epoch: 1500, Loss: 2.9286\n",
      "Epoch: 2000, Loss: 2.9276\n"
     ]
    },
    {
     "data": {
      "text/plain": [
       "tensor([  0.5367, -17.3021], requires_grad=True)"
      ]
     },
     "execution_count": 26,
     "metadata": {},
     "output_type": "execute_result"
    }
   ],
   "source": [
    "params = torch.tensor([1.0, 0.0], requires_grad=True)\n",
    "lr = 1e-1\n",
    "optimizer = optim.Adam([params], lr=lr)\n",
    "training_loop(n_epochs=2000, lr=lr, x=t_u, y=t_c, params=params, optimizer=optimizer)"
   ]
  },
  {
   "cell_type": "markdown",
   "metadata": {},
   "source": [
    "# 训练、验证与过拟合"
   ]
  },
  {
   "cell_type": "code",
   "execution_count": 27,
   "metadata": {},
   "outputs": [],
   "source": [
    "n_samples = t_u.shape[0]\n",
    "n_val = int(0.2 * n_samples)"
   ]
  },
  {
   "cell_type": "code",
   "execution_count": 28,
   "metadata": {},
   "outputs": [
    {
     "data": {
      "text/plain": [
       "(11, 2)"
      ]
     },
     "execution_count": 28,
     "metadata": {},
     "output_type": "execute_result"
    }
   ],
   "source": [
    "n_samples, n_val"
   ]
  },
  {
   "cell_type": "code",
   "execution_count": 29,
   "metadata": {},
   "outputs": [
    {
     "data": {
      "text/plain": [
       "(tensor([4, 2, 6, 3, 5, 7, 9, 0, 1]), tensor([ 8, 10]))"
      ]
     },
     "execution_count": 29,
     "metadata": {},
     "output_type": "execute_result"
    }
   ],
   "source": [
    "shuffled_indices = torch.randperm(n_samples)\n",
    "train_indices = shuffled_indices[:-n_val]\n",
    "val_indices = shuffled_indices[-n_val:]\n",
    "train_indices, val_indices"
   ]
  },
  {
   "cell_type": "code",
   "execution_count": 30,
   "metadata": {},
   "outputs": [
    {
     "data": {
      "text/plain": [
       "(tensor([56.3000, 58.2000, 33.9000, 81.9000, 48.9000, 21.8000, 60.4000, 35.7000,\n",
       "         55.9000]),\n",
       " tensor([11.0000, 15.0000,  3.0000, 28.0000,  8.0000, -4.0000, 13.0000,  0.5000,\n",
       "         14.0000]))"
      ]
     },
     "execution_count": 30,
     "metadata": {},
     "output_type": "execute_result"
    }
   ],
   "source": [
    "train_t_u = t_u[train_indices]\n",
    "train_t_c = t_c[train_indices]\n",
    "train_t_u, train_t_c"
   ]
  },
  {
   "cell_type": "code",
   "execution_count": 31,
   "metadata": {},
   "outputs": [
    {
     "data": {
      "text/plain": [
       "(tensor([48.4000, 68.4000]), tensor([ 6., 21.]))"
      ]
     },
     "execution_count": 31,
     "metadata": {},
     "output_type": "execute_result"
    }
   ],
   "source": [
    "val_t_u = t_u[val_indices]\n",
    "val_t_c = t_c[val_indices]\n",
    "val_t_u, val_t_c"
   ]
  },
  {
   "cell_type": "code",
   "execution_count": 32,
   "metadata": {},
   "outputs": [],
   "source": [
    "train_t_un = 0.1 * train_t_u\n",
    "val_t_un = 0.1 * val_t_u"
   ]
  },
  {
   "cell_type": "code",
   "execution_count": 33,
   "metadata": {},
   "outputs": [],
   "source": [
    "def training_loop(n_epochs, optimizer, params, train_x, train_y, val_x, val_y):\n",
    "    for epoch in range(1, n_epochs + 1):\n",
    "        train_p = model(train_x, *params)\n",
    "        train_loss = loss_fn(train_p, train_y)\n",
    "\n",
    "        val_p = model(val_x, *params)\n",
    "        val_loss = loss_fn(val_p, val_y)\n",
    "\n",
    "        optimizer.zero_grad()\n",
    "        train_loss.backward()\n",
    "        optimizer.step()\n",
    "\n",
    "        if epoch <= 3 or epoch % 500 == 0:\n",
    "            print(\n",
    "                f\"Epoch {epoch}, Training loss {train_loss.item():.4f},\"\n",
    "                f\" Validation loss {val_loss.item():.4f}\"\n",
    "            )\n",
    "    return params"
   ]
  },
  {
   "cell_type": "code",
   "execution_count": 34,
   "metadata": {},
   "outputs": [
    {
     "name": "stdout",
     "output_type": "stream",
     "text": [
      "Epoch 1, Training loss 75.7952, Validation loss 100.9256\n",
      "Epoch 2, Training loss 38.2342, Validation loss 44.6465\n",
      "Epoch 3, Training loss 31.5485, Validation loss 32.3576\n",
      "Epoch 500, Training loss 6.4860, Validation loss 11.6878\n",
      "Epoch 1000, Training loss 3.0221, Validation loss 7.4872\n",
      "Epoch 1500, Training loss 2.5218, Validation loss 6.1733\n",
      "Epoch 2000, Training loss 2.4496, Validation loss 5.7147\n",
      "Epoch 2500, Training loss 2.4391, Validation loss 5.5463\n",
      "Epoch 3000, Training loss 2.4376, Validation loss 5.4832\n"
     ]
    },
    {
     "data": {
      "text/plain": [
       "tensor([  5.2245, -16.4587], requires_grad=True)"
      ]
     },
     "execution_count": 34,
     "metadata": {},
     "output_type": "execute_result"
    }
   ],
   "source": [
    "params = torch.tensor([1.0, 0.0], requires_grad=True)\n",
    "lr = 1e-2\n",
    "optimizer = optim.SGD([params], lr=lr)\n",
    "\n",
    "training_loop(\n",
    "    n_epochs=3000,\n",
    "    optimizer=optimizer,\n",
    "    params=params,\n",
    "    train_x=train_t_un,\n",
    "    val_x=val_t_un,\n",
    "    train_y=train_t_c,\n",
    "    val_y=val_t_c,\n",
    ")"
   ]
  },
  {
   "cell_type": "markdown",
   "metadata": {},
   "source": [
    "由于评估时不需要记录梯度，也不需要进行迭代更新，所以可以将其放在torch.no_grad()上下文中，来阻止其生成对应的计算图，来节省内存和运行时间。"
   ]
  },
  {
   "cell_type": "code",
   "execution_count": 35,
   "metadata": {},
   "outputs": [],
   "source": [
    "def training_loop(n_epochs, optimizer, params, train_x, train_y, val_x, val_y):\n",
    "    for epoch in range(1, n_epochs + 1):\n",
    "        train_p = model(train_x, *params)\n",
    "        train_loss = loss_fn(train_p, train_y)\n",
    "\n",
    "        with torch.no_grad():\n",
    "            val_p = model(val_x, *params)\n",
    "            val_loss = loss_fn(val_p, val_y)\n",
    "            assert val_loss.requires_grad == False\n",
    "\n",
    "        optimizer.zero_grad()\n",
    "        train_loss.backward()\n",
    "        optimizer.step()\n",
    "\n",
    "        if epoch <= 3 or epoch % 500 == 0:\n",
    "            print(\n",
    "                f\"Epoch {epoch}, Training loss {train_loss.item():.4f},\"\n",
    "                f\" Validation loss {val_loss.item():.4f}\"\n",
    "            )\n",
    "    return params"
   ]
  },
  {
   "cell_type": "markdown",
   "metadata": {},
   "source": [
    "还可以显式地使用torch.set_grad_enabled(bool_expression)来在运行时启用或禁用自动求导。\n",
    "在此样例中，我们可以定义一个calc_forward()方法，自定义在推理预测时是否进行自动求导。"
   ]
  },
  {
   "cell_type": "code",
   "execution_count": 38,
   "metadata": {},
   "outputs": [],
   "source": [
    "def calc_forward(x, y, is_train):\n",
    "    with torch.set_grad_enabled(is_train):\n",
    "        p = model(x, *params)\n",
    "        loss = loss_fn(p, y)\n",
    "    return loss"
   ]
  },
  {
   "cell_type": "code",
   "execution_count": 37,
   "metadata": {},
   "outputs": [],
   "source": [
    "def training_loop(n_epochs, optimizer, params, train_x, train_y, val_x, val_y):\n",
    "    for epoch in range(1, n_epochs + 1):\n",
    "        train_loss = calc_forward(train_x, train_y, is_train=True)\n",
    "\n",
    "        # with torch.no_grad():\n",
    "        #     val_p = model(val_x, *params)\n",
    "        #     val_loss = loss_fn(val_p, val_y)\n",
    "        #     assert val_loss.requires_grad == False\n",
    "\n",
    "        val_loss = calc_forward(val_x, val_y, is_train=False)\n",
    "\n",
    "        optimizer.zero_grad()\n",
    "        train_loss.backward()\n",
    "        optimizer.step()\n",
    "\n",
    "        if epoch <= 3 or epoch % 500 == 0:\n",
    "            print(\n",
    "                f\"Epoch {epoch}, Training loss {train_loss.item():.4f},\"\n",
    "                f\" Validation loss {val_loss.item():.4f}\"\n",
    "            )\n",
    "    return params"
   ]
  }
 ],
 "metadata": {
  "kernelspec": {
   "display_name": "dlwpt",
   "language": "python",
   "name": "python3"
  },
  "language_info": {
   "codemirror_mode": {
    "name": "ipython",
    "version": 3
   },
   "file_extension": ".py",
   "mimetype": "text/x-python",
   "name": "python",
   "nbconvert_exporter": "python",
   "pygments_lexer": "ipython3",
   "version": "3.12.3"
  }
 },
 "nbformat": 4,
 "nbformat_minor": 2
}
