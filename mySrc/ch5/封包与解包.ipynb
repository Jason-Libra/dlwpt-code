{
 "cells": [
  {
   "cell_type": "code",
   "execution_count": 2,
   "metadata": {},
   "outputs": [
    {
     "data": {
      "text/plain": [
       "(996, 123, -3)"
      ]
     },
     "execution_count": 2,
     "metadata": {},
     "output_type": "execute_result"
    }
   ],
   "source": [
    "count = 996, 123, -3\n",
    "count"
   ]
  },
  {
   "cell_type": "code",
   "execution_count": 6,
   "metadata": {},
   "outputs": [
    {
     "name": "stdout",
     "output_type": "stream",
     "text": [
      "name1 = 'Tom'\n",
      "name2 = 'Aaron'\n",
      "name3 = 'Bob'\n"
     ]
    }
   ],
   "source": [
    "name1, name2, name3 = [\"Tom\", \"Aaron\", \"Bob\"]\n",
    ">>> print(f\"{name1 = }\")\n",
    ">>> print(f\"{name2 = }\")\n",
    ">>> print(f\"{name3 = }\")"
   ]
  },
  {
   "cell_type": "code",
   "execution_count": 8,
   "metadata": {},
   "outputs": [
    {
     "name": "stdout",
     "output_type": "stream",
     "text": [
      "ex = ValueError('too many values to unpack (expected 2)')\n",
      "ex = ValueError('not enough values to unpack (expected 4, got 3)')\n"
     ]
    }
   ],
   "source": [
    "students = {\"Bob\", \"Aaron\", \"tony\"}\n",
    "\n",
    "try:\n",
    "    s1, s2 = students\n",
    "except Exception as ex:\n",
    "    print(f\"{ex = }\")\n",
    "\n",
    "try:\n",
    "    s1, s2, s3, s4 = students\n",
    "except Exception as ex:\n",
    "    print(f\"{ex = }\")"
   ]
  },
  {
   "cell_type": "code",
   "execution_count": 9,
   "metadata": {},
   "outputs": [
    {
     "name": "stdout",
     "output_type": "stream",
     "text": [
      "a = 11\n",
      "b = [22, 33, 44, 55]\n",
      "c = 66\n"
     ]
    }
   ],
   "source": [
    ">>> a, *b, c = (11, 22, 33, 44, 55, 66)\n",
    ">>> print(f\"{a = }\")\n",
    ">>> print(f\"{b = }\")\n",
    ">>> print(f\"{c = }\")"
   ]
  },
  {
   "cell_type": "code",
   "execution_count": 10,
   "metadata": {},
   "outputs": [
    {
     "name": "stdout",
     "output_type": "stream",
     "text": [
      "f = 11\n",
      "g = 33\n"
     ]
    }
   ],
   "source": [
    "f, _, g, _ = (11, 22, 33, 44)\n",
    "print(f\"{f = }\")\n",
    "print(f\"{g = }\")"
   ]
  },
  {
   "cell_type": "code",
   "execution_count": 12,
   "metadata": {},
   "outputs": [
    {
     "name": "stdout",
     "output_type": "stream",
     "text": [
      "x = (11, 22, 33)\n",
      "y = 11\n"
     ]
    }
   ],
   "source": [
    "x = (11, 22, 33)\n",
    "print(f\"{x = }\")\n",
    "# 此时，可以通过*_来实现\n",
    "y, *_ = (11, 22, 33)\n",
    "print(f\"{y = }\")"
   ]
  },
  {
   "cell_type": "code",
   "execution_count": 13,
   "metadata": {},
   "outputs": [
    {
     "name": "stdout",
     "output_type": "stream",
     "text": [
      "a: 0 b: 1 c: 2 d: 3\n",
      "args: (4,)\n",
      "x: 5 y: 6 z: 7\n",
      "kw: {'u': 8, 'v': 9}\n"
     ]
    }
   ],
   "source": [
    "def fun(a, b, /, c, d, *args, x, y, z, **kw):\n",
    "    print(\"a:\", a, \"b:\", b, \"c:\", c, \"d:\", d)\n",
    "    print(\"args:\", args)\n",
    "    print(\"x:\", x, \"y:\", y, \"z:\", z)\n",
    "    print(\"kw:\", kw)\n",
    "\n",
    "\n",
    "list1 = [0, 1, 2, 3, 4]\n",
    "dict1 = {\"x\": 5, \"y\": 6, \"z\": 7, \"u\": 8, \"v\": 9}\n",
    "\n",
    "fun(*list1, **dict1)"
   ]
  },
  {
   "cell_type": "code",
   "execution_count": 16,
   "metadata": {},
   "outputs": [
    {
     "name": "stdout",
     "output_type": "stream",
     "text": [
      "a = 2\n",
      "b = 4\n",
      "c = 1\n",
      "d = 3\n"
     ]
    }
   ],
   "source": [
    ">>> a, b, c, d = 1, 2, 3, 4\n",
    ">>> a, b, c, d = b, d, a, c\n",
    ">>> print(f\"{a = }\")\n",
    ">>> print(f\"{b = }\")\n",
    ">>> print(f\"{c = }\")\n",
    ">>> print(f\"{d = }\")"
   ]
  },
  {
   "cell_type": "code",
   "execution_count": 29,
   "metadata": {},
   "outputs": [
    {
     "name": "stdout",
     "output_type": "stream",
     "text": [
      "zip_result = <zip object at 0x00000234ACA66600>\n",
      "zip_list = [('Aaron', 18, 'man'), ('Tom', 33, 'male'), ('Bob', 72, 'woman')]\n"
     ]
    }
   ],
   "source": [
    "names = [\"Aaron\", \"Tom\", \"Bob\", \"Tony\"]\n",
    "ages = (18, 33, 72)\n",
    "sexs = [\"man\", \"male\", \"woman\", \"null\"]\n",
    "\n",
    "zip_result = zip(names, ages, sexs)\n",
    "zip_list = list(zip_result)\n",
    "\n",
    "print(f\"{zip_result = }\")\n",
    "print(f\"{zip_list = }\")"
   ]
  },
  {
   "cell_type": "code",
   "execution_count": 33,
   "metadata": {},
   "outputs": [
    {
     "name": "stdout",
     "output_type": "stream",
     "text": [
      "my_name : ('Aaron', 'Tom', 'Bob')\n",
      "my_age : (18, 33, 72)\n",
      "my_sex : ('man', 'male', 'woman')\n"
     ]
    }
   ],
   "source": [
    "names = [\"Aaron\", \"Tom\", \"Bob\", \"Tony\"]\n",
    "ages = (18, 33, 72)\n",
    "sexs = [\"man\", \"male\", \"woman\", \"null\"]\n",
    "zip_result = zip(names, ages, sexs)\n",
    "zip_list = list(zip_result)\n",
    "# 注意，zip_result在转换为list时已经迭代了一次了，所以无法再次迭代解包了\n",
    "# my_name, my_age, my_sex = zip(*zip_result)\n",
    "# 但是list可以多次迭代解包\n",
    "my_name, my_age, my_sex = zip(*zip_list)\n",
    "print(f\"my_name : {my_name}\")\n",
    "print(f\"my_age : {my_age}\")\n",
    "print(f\"my_sex : {my_sex}\")"
   ]
  },
  {
   "cell_type": "code",
   "execution_count": 30,
   "metadata": {},
   "outputs": [
    {
     "ename": "ValueError",
     "evalue": "not enough values to unpack (expected 3, got 0)",
     "output_type": "error",
     "traceback": [
      "\u001b[1;31m---------------------------------------------------------------------------\u001b[0m",
      "\u001b[1;31mValueError\u001b[0m                                Traceback (most recent call last)",
      "Cell \u001b[1;32mIn[30], line 1\u001b[0m\n\u001b[1;32m----> 1\u001b[0m my_name, my_age, my_sex \u001b[38;5;241m=\u001b[39m \u001b[38;5;28mzip\u001b[39m(\u001b[38;5;241m*\u001b[39mzip_result)\n\u001b[0;32m      2\u001b[0m \u001b[38;5;28mprint\u001b[39m(\u001b[38;5;124mf\u001b[39m\u001b[38;5;124m\"\u001b[39m\u001b[38;5;132;01m{\u001b[39;00mmy_name\u001b[38;5;250m \u001b[39m\u001b[38;5;132;01m= }\u001b[39;00m\u001b[38;5;124m\"\u001b[39m)\n\u001b[0;32m      3\u001b[0m \u001b[38;5;28mprint\u001b[39m(\u001b[38;5;124mf\u001b[39m\u001b[38;5;124m\"\u001b[39m\u001b[38;5;132;01m{\u001b[39;00mmy_age\u001b[38;5;250m \u001b[39m\u001b[38;5;132;01m= }\u001b[39;00m\u001b[38;5;124m\"\u001b[39m)\n",
      "\u001b[1;31mValueError\u001b[0m: not enough values to unpack (expected 3, got 0)"
     ]
    }
   ],
   "source": [
    "my_name, my_age, my_sex = zip(*zip_result)\n",
    "print(f\"{my_name = }\")\n",
    "print(f\"{my_age = }\")\n",
    "print(f\"{my_sex = }\")"
   ]
  }
 ],
 "metadata": {
  "kernelspec": {
   "display_name": "dlwpt",
   "language": "python",
   "name": "python3"
  },
  "language_info": {
   "codemirror_mode": {
    "name": "ipython",
    "version": 3
   },
   "file_extension": ".py",
   "mimetype": "text/x-python",
   "name": "python",
   "nbconvert_exporter": "python",
   "pygments_lexer": "ipython3",
   "version": "3.12.3"
  }
 },
 "nbformat": 4,
 "nbformat_minor": 2
}
