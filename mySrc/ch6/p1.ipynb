{
 "cells": [
  {
   "cell_type": "markdown",
   "metadata": {},
   "source": [
    "# 单层线性神经网络"
   ]
  },
  {
   "cell_type": "code",
   "execution_count": 1,
   "metadata": {},
   "outputs": [],
   "source": [
    "import torch\n",
    "import torch.nn as nn\n",
    "import torch.optim as optim\n",
    "import numpy as np\n",
    "\n",
    "torch.set_printoptions(edgeitems=2, threshold=50)"
   ]
  },
  {
   "cell_type": "markdown",
   "metadata": {},
   "source": [
    "## 处理输入数据，分割数据集，"
   ]
  },
  {
   "cell_type": "code",
   "execution_count": 2,
   "metadata": {},
   "outputs": [],
   "source": [
    "x = [35.7, 55.9, 58.2, 81.9, 56.3, 48.9, 33.9, 21.8, 48.4, 60.4, 68.4]\n",
    "y = [0.5, 14.0, 15.0, 28.0, 11.0, 8.0, 3.0, -4.0, 6.0, 13.0, 21.0]"
   ]
  },
  {
   "cell_type": "code",
   "execution_count": 3,
   "metadata": {},
   "outputs": [
    {
     "data": {
      "text/plain": [
       "(tensor([[35.7000],\n",
       "         [55.9000],\n",
       "         [58.2000],\n",
       "         [81.9000],\n",
       "         [56.3000],\n",
       "         [48.9000],\n",
       "         [33.9000],\n",
       "         [21.8000],\n",
       "         [48.4000],\n",
       "         [60.4000],\n",
       "         [68.4000]]),\n",
       " torch.Size([11, 1]),\n",
       " tensor([[ 0.5000],\n",
       "         [14.0000],\n",
       "         [15.0000],\n",
       "         [28.0000],\n",
       "         [11.0000],\n",
       "         [ 8.0000],\n",
       "         [ 3.0000],\n",
       "         [-4.0000],\n",
       "         [ 6.0000],\n",
       "         [13.0000],\n",
       "         [21.0000]]),\n",
       " torch.Size([11, 1]))"
      ]
     },
     "execution_count": 3,
     "metadata": {},
     "output_type": "execute_result"
    }
   ],
   "source": [
    "x = torch.tensor(x).unsqueeze(1)\n",
    "y = torch.tensor(y).unsqueeze(1)\n",
    "x, x.shape, y, y.shape"
   ]
  },
  {
   "cell_type": "code",
   "execution_count": 4,
   "metadata": {},
   "outputs": [],
   "source": [
    "n_samples = x.shape[0]\n",
    "n_val = int(0.2 * n_samples)"
   ]
  },
  {
   "cell_type": "code",
   "execution_count": 5,
   "metadata": {},
   "outputs": [],
   "source": [
    "shuffled_indices = torch.randperm(n_samples)"
   ]
  },
  {
   "cell_type": "code",
   "execution_count": 6,
   "metadata": {},
   "outputs": [
    {
     "data": {
      "text/plain": [
       "(tensor([ 3,  2,  0, 10,  7,  8,  9,  6,  5]), tensor([4, 1]))"
      ]
     },
     "execution_count": 6,
     "metadata": {},
     "output_type": "execute_result"
    }
   ],
   "source": [
    "train_indices = shuffled_indices[:-n_val]\n",
    "val_indices = shuffled_indices[-n_val:]\n",
    "train_indices, val_indices"
   ]
  },
  {
   "cell_type": "code",
   "execution_count": 10,
   "metadata": {},
   "outputs": [],
   "source": [
    "train_x = x[train_indices]\n",
    "train_y = y[train_indices]\n",
    "val_x = x[val_indices]\n",
    "val_y = y[val_indices]\n",
    "\n",
    "train_x_scaled = 0.1 * train_x\n",
    "val_x_scaled = 0.1 * val_x"
   ]
  },
  {
   "cell_type": "code",
   "execution_count": 12,
   "metadata": {},
   "outputs": [
    {
     "data": {
      "text/plain": [
       "(tensor([[8.1900],\n",
       "         [5.8200],\n",
       "         [3.5700],\n",
       "         [6.8400],\n",
       "         [2.1800],\n",
       "         [4.8400],\n",
       "         [6.0400],\n",
       "         [3.3900],\n",
       "         [4.8900]]),\n",
       " tensor([[5.6300],\n",
       "         [5.5900]]))"
      ]
     },
     "execution_count": 12,
     "metadata": {},
     "output_type": "execute_result"
    }
   ],
   "source": [
    "train_x_scaled, val_x_scaled"
   ]
  },
  {
   "cell_type": "markdown",
   "metadata": {},
   "source": [
    "## 构建线性层"
   ]
  },
  {
   "cell_type": "code",
   "execution_count": 20,
   "metadata": {},
   "outputs": [
    {
     "data": {
      "text/plain": [
       "tensor([[4.0013],\n",
       "        [3.9792]], grad_fn=<AddmmBackward0>)"
      ]
     },
     "execution_count": 20,
     "metadata": {},
     "output_type": "execute_result"
    }
   ],
   "source": [
    "linear_model = nn.Linear(1, 1)  # input size, output size\n",
    "linear_model(val_x_scaled)"
   ]
  },
  {
   "cell_type": "code",
   "execution_count": 21,
   "metadata": {},
   "outputs": [
    {
     "data": {
      "text/plain": [
       "(Parameter containing:\n",
       " tensor([[0.5517]], requires_grad=True),\n",
       " Parameter containing:\n",
       " tensor([0.8951], requires_grad=True))"
      ]
     },
     "execution_count": 21,
     "metadata": {},
     "output_type": "execute_result"
    }
   ],
   "source": [
    "linear_model.weight, linear_model.bias"
   ]
  },
  {
   "cell_type": "code",
   "execution_count": 24,
   "metadata": {},
   "outputs": [
    {
     "data": {
      "text/plain": [
       "(tensor([1.]), torch.Size([1]), tensor(1.))"
      ]
     },
     "execution_count": 24,
     "metadata": {},
     "output_type": "execute_result"
    }
   ],
   "source": [
    "a = torch.ones(1)\n",
    "a, a.shape, a[0]"
   ]
  },
  {
   "cell_type": "code",
   "execution_count": 26,
   "metadata": {},
   "outputs": [
    {
     "data": {
      "text/plain": [
       "(tensor(1.), torch.Size([]))"
      ]
     },
     "execution_count": 26,
     "metadata": {},
     "output_type": "execute_result"
    }
   ],
   "source": [
    "b = torch.ones(())\n",
    "b, b.shape\n",
    "# b[0]  # error"
   ]
  },
  {
   "cell_type": "markdown",
   "metadata": {},
   "source": [
    "b的尺寸为0D，无法作为网络输入"
   ]
  },
  {
   "cell_type": "code",
   "execution_count": 27,
   "metadata": {},
   "outputs": [
    {
     "data": {
      "text/plain": [
       "tensor([1.4468], grad_fn=<ViewBackward0>)"
      ]
     },
     "execution_count": 27,
     "metadata": {},
     "output_type": "execute_result"
    }
   ],
   "source": [
    "linear_model(a)\n",
    "# linear_model(b) # error: both arguments to linear need to be at least 1D, but they are 0D and 2D"
   ]
  },
  {
   "cell_type": "code",
   "execution_count": null,
   "metadata": {},
   "outputs": [],
   "source": [
    "optimizer = optim.SGD(linear_model.parameters(), lr=1e-2)"
   ]
  },
  {
   "cell_type": "code",
   "execution_count": 29,
   "metadata": {},
   "outputs": [
    {
     "data": {
      "text/plain": [
       "[Parameter containing:\n",
       " tensor([[0.5517]], requires_grad=True),\n",
       " Parameter containing:\n",
       " tensor([0.8951], requires_grad=True)]"
      ]
     },
     "execution_count": 29,
     "metadata": {},
     "output_type": "execute_result"
    }
   ],
   "source": [
    "# 直接调用linear_model的parameters()方法，返回的是一个生成器，而不是一个列表\n",
    "list(linear_model.parameters())"
   ]
  },
  {
   "cell_type": "code",
   "execution_count": 30,
   "metadata": {},
   "outputs": [],
   "source": [
    "def loss_fn(y_pred, y):\n",
    "    squared_diffs = (y_pred - y) ** 2\n",
    "    return squared_diffs.mean()"
   ]
  },
  {
   "cell_type": "code",
   "execution_count": 31,
   "metadata": {},
   "outputs": [],
   "source": [
    "def training_loop(n_epochs, optimizer, model, loss_fn, train_x, val_x, train_y, val_y):\n",
    "    for epoch in range(1, n_epochs + 1):\n",
    "        train_y_pred = model(train_x)\n",
    "        train_loss = loss_fn(train_y_pred, train_y)\n",
    "\n",
    "        val_y_pred = model(val_x)\n",
    "        val_loss = loss_fn(val_y_pred, val_y)\n",
    "\n",
    "        optimizer.zero_grad()\n",
    "        train_loss.backward()\n",
    "        optimizer.step()\n",
    "\n",
    "        if epoch == 1 or epoch % 500 == 0:\n",
    "            print(\n",
    "                f\"Epoch {epoch}, Training loss {train_loss.item():.4f}, Validation loss {val_loss.item():.4f}\"\n",
    "            )"
   ]
  },
  {
   "cell_type": "code",
   "execution_count": 32,
   "metadata": {},
   "outputs": [],
   "source": [
    "linear_model = nn.Linear(1, 1)\n",
    "optimizer = optim.SGD(linear_model.parameters(), lr=1e-2)"
   ]
  },
  {
   "cell_type": "code",
   "execution_count": 33,
   "metadata": {},
   "outputs": [
    {
     "name": "stdout",
     "output_type": "stream",
     "text": [
      "Epoch 1, Training loss 210.7022, Validation loss 172.3331\n",
      "Epoch 500, Training loss 7.6159, Validation loss 2.7195\n",
      "Epoch 1000, Training loss 3.5584, Validation loss 2.7262\n",
      "Epoch 1500, Training loss 3.0504, Validation loss 2.7297\n",
      "Epoch 2000, Training loss 2.9868, Validation loss 2.7311\n",
      "Epoch 2500, Training loss 2.9789, Validation loss 2.7316\n",
      "Epoch 3000, Training loss 2.9779, Validation loss 2.7318\n"
     ]
    }
   ],
   "source": [
    "training_loop(\n",
    "    n_epochs=3000,\n",
    "    optimizer=optimizer,\n",
    "    model=linear_model,\n",
    "    loss_fn=loss_fn,\n",
    "    train_x=train_x_scaled,\n",
    "    val_x=val_x_scaled,\n",
    "    train_y=train_y,\n",
    "    val_y=val_y,\n",
    ")"
   ]
  },
  {
   "cell_type": "code",
   "execution_count": 34,
   "metadata": {},
   "outputs": [
    {
     "data": {
      "text/plain": [
       "[Parameter containing:\n",
       " tensor([[5.3752]], requires_grad=True),\n",
       " Parameter containing:\n",
       " tensor([-17.2707], requires_grad=True)]"
      ]
     },
     "execution_count": 34,
     "metadata": {},
     "output_type": "execute_result"
    }
   ],
   "source": [
    "list(linear_model.parameters())"
   ]
  },
  {
   "cell_type": "markdown",
   "metadata": {},
   "source": [
    "下面使用nn库自带的MSELoss()"
   ]
  },
  {
   "cell_type": "code",
   "execution_count": 35,
   "metadata": {},
   "outputs": [
    {
     "name": "stdout",
     "output_type": "stream",
     "text": [
      "Epoch 1, Training loss 2.9779, Validation loss 2.7318\n",
      "Epoch 500, Training loss 2.9777, Validation loss 2.7318\n",
      "Epoch 1000, Training loss 2.9777, Validation loss 2.7319\n",
      "Epoch 1500, Training loss 2.9777, Validation loss 2.7319\n",
      "Epoch 2000, Training loss 2.9777, Validation loss 2.7319\n",
      "Epoch 2500, Training loss 2.9777, Validation loss 2.7319\n",
      "Epoch 3000, Training loss 2.9777, Validation loss 2.7319\n"
     ]
    }
   ],
   "source": [
    "training_loop(\n",
    "    n_epochs=3000,\n",
    "    optimizer=optimizer,\n",
    "    model=linear_model,\n",
    "    loss_fn=nn.MSELoss(),\n",
    "    train_x=train_x_scaled,\n",
    "    val_x=val_x_scaled,\n",
    "    train_y=train_y,\n",
    "    val_y=val_y,\n",
    ")"
   ]
  },
  {
   "cell_type": "code",
   "execution_count": 36,
   "metadata": {},
   "outputs": [
    {
     "data": {
      "text/plain": [
       "[Parameter containing:\n",
       " tensor([[5.3816]], requires_grad=True),\n",
       " Parameter containing:\n",
       " tensor([-17.3066], requires_grad=True)]"
      ]
     },
     "execution_count": 36,
     "metadata": {},
     "output_type": "execute_result"
    }
   ],
   "source": [
    "list(linear_model.parameters())"
   ]
  },
  {
   "cell_type": "code",
   "execution_count": null,
   "metadata": {},
   "outputs": [],
   "source": []
  }
 ],
 "metadata": {
  "kernelspec": {
   "display_name": "dlwpt",
   "language": "python",
   "name": "python3"
  },
  "language_info": {
   "codemirror_mode": {
    "name": "ipython",
    "version": 3
   },
   "file_extension": ".py",
   "mimetype": "text/x-python",
   "name": "python",
   "nbconvert_exporter": "python",
   "pygments_lexer": "ipython3",
   "version": "3.12.3"
  }
 },
 "nbformat": 4,
 "nbformat_minor": 2
}
