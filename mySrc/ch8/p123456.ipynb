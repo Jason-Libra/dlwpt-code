{
 "cells": [
  {
   "cell_type": "markdown",
   "metadata": {},
   "source": [
    "## p1. 卷积层conv2d和MaxPool2d"
   ]
  },
  {
   "cell_type": "code",
   "execution_count": 1,
   "metadata": {},
   "outputs": [],
   "source": [
    "import torch\n",
    "import torch.nn as nn\n",
    "import torch.optim as optim\n",
    "import torch.nn.functional as F\n",
    "from torch.utils.data import DataLoader\n",
    "from torchvision import datasets, transforms\n",
    "\n",
    "import numpy as np\n",
    "import matplotlib.pyplot as plt\n",
    "import collections"
   ]
  },
  {
   "cell_type": "code",
   "execution_count": 2,
   "metadata": {},
   "outputs": [
    {
     "data": {
      "text/plain": [
       "<torch._C.Generator at 0x1e00597d510>"
      ]
     },
     "execution_count": 2,
     "metadata": {},
     "output_type": "execute_result"
    }
   ],
   "source": [
    "torch.set_printoptions(edgeitems=2)\n",
    "torch.manual_seed(123)"
   ]
  },
  {
   "cell_type": "code",
   "execution_count": 3,
   "metadata": {},
   "outputs": [],
   "source": [
    "class_names = [\n",
    "    \"airplane\",\n",
    "    \"automobile\",\n",
    "    \"bird\",\n",
    "    \"cat\",\n",
    "    \"deer\",\n",
    "    \"dog\",\n",
    "    \"frog\",\n",
    "    \"horse\",\n",
    "    \"ship\",\n",
    "    \"truck\",\n",
    "]"
   ]
  },
  {
   "cell_type": "code",
   "execution_count": 4,
   "metadata": {},
   "outputs": [],
   "source": [
    "data_path = \"../../myData/p1ch7/cifar/\"\n",
    "cifar10 = datasets.CIFAR10(\n",
    "    data_path,\n",
    "    train=True,\n",
    "    download=False,\n",
    "    transform=transforms.Compose(\n",
    "        [\n",
    "            transforms.ToTensor(),\n",
    "            transforms.Normalize((0.4915, 0.4823, 0.4468), (0.2470, 0.2435, 0.2616)),\n",
    "        ]\n",
    "    ),\n",
    ")\n",
    "\n",
    "cifar10_val = datasets.CIFAR10(\n",
    "    data_path,\n",
    "    train=False,\n",
    "    download=False,\n",
    "    transform=transforms.Compose(\n",
    "        [\n",
    "            transforms.ToTensor(),\n",
    "            transforms.Normalize((0.4915, 0.4823, 0.4468), (0.2470, 0.2435, 0.2616)),\n",
    "        ]\n",
    "    ),\n",
    ")"
   ]
  },
  {
   "cell_type": "code",
   "execution_count": 5,
   "metadata": {},
   "outputs": [],
   "source": [
    "label_map = {0: 0, 2: 1}\n",
    "class_names = [\"airplane\", \"bird\"]\n",
    "cifar2 = [(img, label_map[label]) for img, label in cifar10 if label in [0, 2]]\n",
    "cifar2_val = [(img, label_map[label]) for img, label in cifar10_val if label in [0, 2]]"
   ]
  },
  {
   "cell_type": "markdown",
   "metadata": {},
   "source": [
    "查看常规全连接层的参数规模"
   ]
  },
  {
   "cell_type": "code",
   "execution_count": 6,
   "metadata": {},
   "outputs": [
    {
     "data": {
      "text/plain": [
       "(3737474, [3145728, 1024, 524288, 512, 65536, 128, 256, 2])"
      ]
     },
     "execution_count": 6,
     "metadata": {},
     "output_type": "execute_result"
    }
   ],
   "source": [
    "connected_model = nn.Sequential(\n",
    "    nn.Linear(3072, 1024),\n",
    "    nn.Tanh(),\n",
    "    nn.Linear(1024, 512),\n",
    "    nn.Tanh(),\n",
    "    nn.Linear(512, 128),\n",
    "    nn.Tanh(),\n",
    "    nn.Linear(128, 2),\n",
    ")\n",
    "\n",
    "numel_list = [\n",
    "    p.numel() for p in connected_model.parameters() if p.requires_grad == True\n",
    "]\n",
    "sum(numel_list), numel_list"
   ]
  },
  {
   "cell_type": "code",
   "execution_count": 7,
   "metadata": {},
   "outputs": [
    {
     "data": {
      "text/plain": [
       "(1574402, [1572864, 512, 1024, 2])"
      ]
     },
     "execution_count": 7,
     "metadata": {},
     "output_type": "execute_result"
    }
   ],
   "source": [
    "first_model = nn.Sequential(\n",
    "    nn.Linear(3072, 512),\n",
    "    nn.Tanh(),\n",
    "    nn.Linear(512, 2),\n",
    "    nn.LogSoftmax(dim=1),\n",
    ")\n",
    "numel_list = [p.numel() for p in first_model.parameters()]\n",
    "sum(numel_list), numel_list"
   ]
  },
  {
   "cell_type": "markdown",
   "metadata": {},
   "source": [
    "卷积层! 启动!!!"
   ]
  },
  {
   "cell_type": "code",
   "execution_count": 8,
   "metadata": {},
   "outputs": [
    {
     "data": {
      "text/plain": [
       "Conv2d(3, 16, kernel_size=(3, 3), stride=(1, 1))"
      ]
     },
     "execution_count": 8,
     "metadata": {},
     "output_type": "execute_result"
    }
   ],
   "source": [
    "conv = nn.Conv2d(3, 16, kernel_size=3)\n",
    "conv"
   ]
  },
  {
   "cell_type": "code",
   "execution_count": 9,
   "metadata": {},
   "outputs": [
    {
     "name": "stdout",
     "output_type": "stream",
     "text": [
      "weight torch.Size([16, 3, 3, 3])\n",
      "bias torch.Size([16])\n"
     ]
    }
   ],
   "source": [
    "for name, param in conv.named_parameters():\n",
    "    print(name, param.shape)"
   ]
  },
  {
   "cell_type": "code",
   "execution_count": 10,
   "metadata": {},
   "outputs": [
    {
     "data": {
      "text/plain": [
       "(torch.Size([1, 3, 32, 32]), torch.Size([1, 16, 30, 30]))"
      ]
     },
     "execution_count": 10,
     "metadata": {},
     "output_type": "execute_result"
    }
   ],
   "source": [
    "img, _ = cifar2[0]\n",
    "output = conv(img.unsqueeze(0))\n",
    "img.unsqueeze(0).shape, output.shape"
   ]
  },
  {
   "cell_type": "code",
   "execution_count": 11,
   "metadata": {},
   "outputs": [
    {
     "data": {
      "image/png": "[encoded data removed]",
      "text/plain": [
       "<Figure size 1000x480 with 2 Axes>"
      ]
     },
     "metadata": {},
     "output_type": "display_data"
    }
   ],
   "source": [
    "plt.figure(figsize=(10, 4.8))\n",
    "ax1 = plt.subplot(1, 2, 1)\n",
    "plt.title(\"output\")\n",
    "plt.imshow(output[0, 0].detach(), cmap=\"gray\")\n",
    "plt.subplot(1, 2, 2, sharex=ax1, sharey=ax1)\n",
    "plt.title(\"input\")\n",
    "plt.imshow(img.mean(0), cmap=\"gray\")\n",
    "plt.show()"
   ]
  },
  {
   "cell_type": "markdown",
   "metadata": {},
   "source": [
    "可以看到output必input少一圈"
   ]
  },
  {
   "cell_type": "code",
   "execution_count": 12,
   "metadata": {},
   "outputs": [
    {
     "data": {
      "text/plain": [
       "(torch.Size([1, 3, 32, 32]), torch.Size([1, 1, 32, 32]))"
      ]
     },
     "execution_count": 12,
     "metadata": {},
     "output_type": "execute_result"
    }
   ],
   "source": [
    "conv = nn.Conv2d(3, 1, kernel_size=3, padding=1)\n",
    "output = conv(img.unsqueeze(0))\n",
    "img.unsqueeze(0).shape, output.shape"
   ]
  },
  {
   "cell_type": "code",
   "execution_count": 13,
   "metadata": {},
   "outputs": [],
   "source": [
    "with torch.no_grad():\n",
    "    conv.bias.zero_()\n",
    "\n",
    "# 这里填充1/9是是因为卷积核是3x3的，所以总共有9个元素，我们希望这9个元素的和为1\n",
    "with torch.no_grad():\n",
    "    conv.weight.fill_(1.0 / 9.0)"
   ]
  },
  {
   "cell_type": "code",
   "execution_count": 14,
   "metadata": {},
   "outputs": [
    {
     "data": {
      "image/png": "[encoded data removed]",
      "text/plain": [
       "<Figure size 1000x480 with 2 Axes>"
      ]
     },
     "metadata": {},
     "output_type": "display_data"
    }
   ],
   "source": [
    "plt.figure(figsize=(10, 4.8))\n",
    "ax1 = plt.subplot(1, 2, 1)\n",
    "plt.title(\"input\")\n",
    "plt.imshow(img.mean(0), cmap=\"gray\")\n",
    "plt.subplot(1, 2, 2, sharex=ax1, sharey=ax1)\n",
    "plt.title(\"output\")\n",
    "plt.imshow(output[0, 0].detach(), cmap=\"gray\")\n",
    "plt.show()"
   ]
  },
  {
   "cell_type": "markdown",
   "metadata": {},
   "source": [
    "上面这个就有点类似模糊滤镜"
   ]
  },
  {
   "cell_type": "code",
   "execution_count": 15,
   "metadata": {},
   "outputs": [],
   "source": [
    "conv = nn.Conv2d(3, 1, kernel_size=3, padding=1)\n",
    "with torch.no_grad():\n",
    "    conv.weight[:] = torch.tensor(\n",
    "        [[-1.0, 0.0, 1.0], [-1.0, 0.0, 1.0], [-1.0, 0.0, 1.0]]\n",
    "    )\n",
    "    conv.bias.zero_()"
   ]
  },
  {
   "cell_type": "markdown",
   "metadata": {},
   "source": [
    "突然想到，上面这个参数是三个相同的一维张量堆叠起来了，那么在初始化时是否可以像print('\\*'\\*10)这样的直接写重复了多少次呢，下面试一下。\n"
   ]
  },
  {
   "cell_type": "code",
   "execution_count": 16,
   "metadata": {},
   "outputs": [
    {
     "name": "stdout",
     "output_type": "stream",
     "text": [
      "**********\n"
     ]
    }
   ],
   "source": [
    "print(\"*\" * 10)"
   ]
  },
  {
   "cell_type": "code",
   "execution_count": 17,
   "metadata": {},
   "outputs": [
    {
     "data": {
      "text/plain": [
       "(tensor([[-1.,  0.,  1., -1.,  0.,  1., -1.,  0.,  1.]]), torch.Size([1, 9]))"
      ]
     },
     "execution_count": 17,
     "metadata": {},
     "output_type": "execute_result"
    }
   ],
   "source": [
    "a = torch.tensor([[-1.0, 0.0, 1.0] * 3])\n",
    "a, a.shape"
   ]
  },
  {
   "cell_type": "code",
   "execution_count": 18,
   "metadata": {},
   "outputs": [
    {
     "data": {
      "text/plain": [
       "(tensor([[-1.,  0.,  1.],\n",
       "         [-1.,  0.,  1.],\n",
       "         [-1.,  0.,  1.]]),\n",
       " torch.Size([3, 3]))"
      ]
     },
     "execution_count": 18,
     "metadata": {},
     "output_type": "execute_result"
    }
   ],
   "source": [
    "a = torch.tensor([[-1.0, 0.0, 1.0]] * 3)\n",
    "a, a.shape"
   ]
  },
  {
   "cell_type": "markdown",
   "metadata": {},
   "source": [
    "答案是可以的，因为括号里的参数本质上是个list，python的list就是可以通过使用`*`来重复列表中的内容。\n",
    "但是需要注意的是，`*`作用在list上是**将list中的元素**多次重复，而不是将list本身重复多次，因此对于上面这种情况，我们需要先构建(1, 3)的list，然后在最外层使用`*`运算符。"
   ]
  },
  {
   "cell_type": "code",
   "execution_count": 19,
   "metadata": {},
   "outputs": [
    {
     "data": {
      "image/png": "[encoded data removed]",
      "text/plain": [
       "<Figure size 1000x480 with 2 Axes>"
      ]
     },
     "metadata": {},
     "output_type": "display_data"
    }
   ],
   "source": [
    "output = conv(img.unsqueeze(0))\n",
    "plt.figure(figsize=(10, 4.8))\n",
    "ax1 = plt.subplot(1, 2, 1)\n",
    "plt.title(\"input\")\n",
    "plt.imshow(img.mean(0), cmap=\"gray\")\n",
    "plt.subplot(1, 2, 2, sharex=ax1, sharey=ax1)\n",
    "plt.title(\"output\")\n",
    "plt.imshow(output[0, 0].detach(), cmap=\"gray\")\n",
    "plt.show()"
   ]
  },
  {
   "cell_type": "markdown",
   "metadata": {},
   "source": [
    "可以看到上面运行的结果，卷积核左负右正，因此在卷积时，如果碰到同类型的色块，则卷积结果大，在output中就亮；反之就暗。\n",
    "因此可以看到output中很明显的几个暗块，就是input中脖子部位的左亮右暗的部位。"
   ]
  },
  {
   "cell_type": "markdown",
   "metadata": {},
   "source": [
    "池化层! 启动!!!"
   ]
  },
  {
   "cell_type": "code",
   "execution_count": 20,
   "metadata": {},
   "outputs": [
    {
     "data": {
      "text/plain": [
       "(torch.Size([1, 3, 32, 32]), torch.Size([1, 3, 16, 16]))"
      ]
     },
     "execution_count": 20,
     "metadata": {},
     "output_type": "execute_result"
    }
   ],
   "source": [
    "pool = nn.MaxPool2d(2)\n",
    "output = pool(img.unsqueeze(0))\n",
    "\n",
    "img.unsqueeze(0).shape, output.shape"
   ]
  },
  {
   "cell_type": "markdown",
   "metadata": {},
   "source": [
    "卷积神经网络! 启动!!!"
   ]
  },
  {
   "cell_type": "code",
   "execution_count": 21,
   "metadata": {},
   "outputs": [],
   "source": [
    "conv_model = nn.Sequential(\n",
    "    nn.Conv2d(3, 16, kernel_size=3, padding=1),\n",
    "    nn.Tanh(),\n",
    "    nn.MaxPool2d(2),  # 32x32 -> 16x16\n",
    "    nn.Conv2d(16, 8, kernel_size=3, padding=1),\n",
    "    nn.Tanh(),\n",
    "    nn.MaxPool2d(2),  # 16x16 -> 8x8\n",
    "    # ...\n",
    "    # 一是在这里添加更多的卷积层\n",
    "    # 二是需要在这里添加一个展平层，将8x8x8的输出展平为一个长度为512的向量，不然无法连接到全连接层\n",
    "    # 下面运行报错即可看到\n",
    "    nn.Linear(8 * 8 * 8, 32),  # 注意这个地方的输入维度计算方式\n",
    "    nn.Tanh(),\n",
    "    nn.Linear(32, 2),\n",
    ")"
   ]
  },
  {
   "cell_type": "code",
   "execution_count": 22,
   "metadata": {},
   "outputs": [
    {
     "data": {
      "text/plain": [
       "(18090, [432, 16, 1152, 8, 16384, 32, 64, 2])"
      ]
     },
     "execution_count": 22,
     "metadata": {},
     "output_type": "execute_result"
    }
   ],
   "source": [
    "numel_list = [p.numel() for p in conv_model.parameters()]\n",
    "sum(numel_list), numel_list"
   ]
  },
  {
   "cell_type": "code",
   "execution_count": 23,
   "metadata": {},
   "outputs": [],
   "source": [
    "# 下面这行代码会报错，因为缺少展平层\n",
    "# 在很老版本的pytorch中并没有展平层，在1.3版本后，nn.Flatten()被加入\n",
    "# 不过还是建议使用下面介绍的nn.Module的方式来定义模型，这样更加灵活\n",
    "# conv_model(img.unsqueeze(0))"
   ]
  },
  {
   "cell_type": "code",
   "execution_count": 24,
   "metadata": {},
   "outputs": [
    {
     "data": {
      "text/plain": [
       "Sequential(\n",
       "  (0): Conv2d(3, 16, kernel_size=(3, 3), stride=(1, 1), padding=(1, 1))\n",
       "  (1): Tanh()\n",
       "  (2): MaxPool2d(kernel_size=2, stride=2, padding=0, dilation=1, ceil_mode=False)\n",
       "  (3): Conv2d(16, 8, kernel_size=(3, 3), stride=(1, 1), padding=(1, 1))\n",
       "  (4): Tanh()\n",
       "  (5): MaxPool2d(kernel_size=2, stride=2, padding=0, dilation=1, ceil_mode=False)\n",
       "  (6): Linear(in_features=512, out_features=32, bias=True)\n",
       "  (7): Tanh()\n",
       "  (8): Linear(in_features=32, out_features=2, bias=True)\n",
       ")"
      ]
     },
     "execution_count": 24,
     "metadata": {},
     "output_type": "execute_result"
    }
   ],
   "source": [
    "conv_model"
   ]
  },
  {
   "cell_type": "markdown",
   "metadata": {},
   "source": [
    "## p2. 用Module subclass和Functional A"
   ]
  },
  {
   "cell_type": "code",
   "execution_count": 25,
   "metadata": {},
   "outputs": [],
   "source": [
    "class Net(nn.Module):\n",
    "    def __init__(self):\n",
    "        super().__init__()\n",
    "        self.conv1 = nn.Conv2d(3, 16, kernel_size=3, padding=1)\n",
    "        self.act1 = nn.Tanh()\n",
    "        self.pool1 = nn.MaxPool2d(2)\n",
    "        self.conv2 = nn.Conv2d(16, 8, kernel_size=3, padding=1)\n",
    "        self.act2 = nn.Tanh()\n",
    "        self.pool2 = nn.MaxPool2d(2)\n",
    "        self.fc1 = nn.Linear(8 * 8 * 8, 32)\n",
    "        self.act3 = nn.Tanh()\n",
    "        self.fc2 = nn.Linear(32, 2)\n",
    "\n",
    "    def forward(self, x):\n",
    "        out = self.conv1(x)\n",
    "        out = self.act1(out)\n",
    "        out = self.pool1(out)\n",
    "\n",
    "        out = self.conv2(out)\n",
    "        out = self.act2(out)\n",
    "        out = self.pool2(out)\n",
    "\n",
    "        out = out.view(\n",
    "            -1, 8 * 8 * 8\n",
    "        )  # 注意，这里将8x8x8的输出展平为一个长度为512的向量\n",
    "\n",
    "        out = self.fc1(out)\n",
    "        out = self.act3(out)\n",
    "        out = self.fc2(out)\n",
    "        return out"
   ]
  },
  {
   "cell_type": "code",
   "execution_count": 26,
   "metadata": {},
   "outputs": [
    {
     "data": {
      "text/plain": [
       "Net(\n",
       "  (conv1): Conv2d(3, 16, kernel_size=(3, 3), stride=(1, 1), padding=(1, 1))\n",
       "  (act1): Tanh()\n",
       "  (pool1): MaxPool2d(kernel_size=2, stride=2, padding=0, dilation=1, ceil_mode=False)\n",
       "  (conv2): Conv2d(16, 8, kernel_size=(3, 3), stride=(1, 1), padding=(1, 1))\n",
       "  (act2): Tanh()\n",
       "  (pool2): MaxPool2d(kernel_size=2, stride=2, padding=0, dilation=1, ceil_mode=False)\n",
       "  (fc1): Linear(in_features=512, out_features=32, bias=True)\n",
       "  (act3): Tanh()\n",
       "  (fc2): Linear(in_features=32, out_features=2, bias=True)\n",
       ")"
      ]
     },
     "execution_count": 26,
     "metadata": {},
     "output_type": "execute_result"
    }
   ],
   "source": [
    "model = Net()\n",
    "model"
   ]
  },
  {
   "cell_type": "code",
   "execution_count": 27,
   "metadata": {},
   "outputs": [
    {
     "data": {
      "text/plain": [
       "tensor([[-0.1638,  0.1690]], grad_fn=<AddmmBackward0>)"
      ]
     },
     "execution_count": 27,
     "metadata": {},
     "output_type": "execute_result"
    }
   ],
   "source": [
    "# 在forward里进行了展平操作，所以可以运行\n",
    "model(img.unsqueeze(0))"
   ]
  },
  {
   "cell_type": "markdown",
   "metadata": {},
   "source": [
    "对比继承nn.Module来构造网络的方法和直接使用nn.Sequential()来说，很明显前者更加灵活"
   ]
  },
  {
   "cell_type": "markdown",
   "metadata": {},
   "source": [
    "下面使用torch的函数式API来代替子模块中不需要保存参数的部分，如下采样和激活函数等。"
   ]
  },
  {
   "cell_type": "code",
   "execution_count": 28,
   "metadata": {},
   "outputs": [],
   "source": [
    "class Net(nn.Module):\n",
    "    def __init__(self):\n",
    "        super().__init__()\n",
    "        self.conv1 = nn.Conv2d(3, 16, kernel_size=3, padding=1)\n",
    "        self.conv2 = nn.Conv2d(16, 8, kernel_size=3, padding=1)\n",
    "        self.fc1 = nn.Linear(8 * 8 * 8, 32)\n",
    "        self.fc2 = nn.Linear(32, 2)\n",
    "\n",
    "    def forward(self, x):\n",
    "        out = F.max_pool2d(torch.tanh(self.conv1(x)), 2)\n",
    "        out = F.max_pool2d(torch.tanh(self.conv2(out)), 2)\n",
    "\n",
    "        out = out.view(\n",
    "            -1, 8 * 8 * 8\n",
    "        )  # 注意，这里将8x8x8的输出展平为一个长度为512的向量\n",
    "\n",
    "        out = self.fc1(out)\n",
    "        out = torch.tanh(out)\n",
    "        out = self.fc2(out)\n",
    "        return out"
   ]
  },
  {
   "cell_type": "code",
   "execution_count": 29,
   "metadata": {},
   "outputs": [
    {
     "data": {
      "text/plain": [
       "Net(\n",
       "  (conv1): Conv2d(3, 16, kernel_size=(3, 3), stride=(1, 1), padding=(1, 1))\n",
       "  (conv2): Conv2d(16, 8, kernel_size=(3, 3), stride=(1, 1), padding=(1, 1))\n",
       "  (fc1): Linear(in_features=512, out_features=32, bias=True)\n",
       "  (fc2): Linear(in_features=32, out_features=2, bias=True)\n",
       ")"
      ]
     },
     "execution_count": 29,
     "metadata": {},
     "output_type": "execute_result"
    }
   ],
   "source": [
    "model = Net()\n",
    "model"
   ]
  },
  {
   "cell_type": "code",
   "execution_count": 30,
   "metadata": {},
   "outputs": [
    {
     "data": {
      "text/plain": [
       "tensor([[-0.0595,  0.1623]], grad_fn=<AddmmBackward0>)"
      ]
     },
     "execution_count": 30,
     "metadata": {},
     "output_type": "execute_result"
    }
   ],
   "source": [
    "model(img.unsqueeze(0))"
   ]
  },
  {
   "cell_type": "markdown",
   "metadata": {},
   "source": [
    "# p.3 用GPU训练卷积网络"
   ]
  },
  {
   "cell_type": "code",
   "execution_count": 31,
   "metadata": {},
   "outputs": [
    {
     "data": {
      "text/plain": [
       "device(type='cuda')"
      ]
     },
     "execution_count": 31,
     "metadata": {},
     "output_type": "execute_result"
    }
   ],
   "source": [
    "device = torch.device(\"cuda\") if torch.cuda.is_available() else torch.device(\"cpu\")\n",
    "device"
   ]
  },
  {
   "cell_type": "code",
   "execution_count": 32,
   "metadata": {},
   "outputs": [],
   "source": [
    "import datetime"
   ]
  },
  {
   "cell_type": "code",
   "execution_count": 33,
   "metadata": {},
   "outputs": [],
   "source": [
    "def training_loop_cpu(n_epochs, optimizer, model, loss_fn, train_loader, val_loader):\n",
    "    for epoch in range(1, n_epochs + 1):\n",
    "        loss_train = 0.0\n",
    "        for imgs, labels in train_loader:\n",
    "            output = model(imgs)\n",
    "            loss = loss_fn(output, labels)\n",
    "\n",
    "            optimizer.zero_grad()\n",
    "            loss.backward()\n",
    "            optimizer.step()\n",
    "\n",
    "            loss_train += loss.item()\n",
    "\n",
    "        loss_val = 0.0\n",
    "        with torch.no_grad():\n",
    "            for imgs, labels in val_loader:\n",
    "                output = model(imgs)\n",
    "                loss = loss_fn(output, labels)\n",
    "                loss_val += loss.item()\n",
    "\n",
    "        if epoch <= 3 or epoch % 50 == 0:\n",
    "            print(\n",
    "                f\"{datetime.datetime.now():%H:%M:%S} Epoch: {epoch}, Training loss: {loss_train / len(train_loader)}, Validation loss: {loss_val / len(val_loader)}\"\n",
    "            )"
   ]
  },
  {
   "cell_type": "markdown",
   "metadata": {},
   "source": [
    "先在cpu上跑一下看看"
   ]
  },
  {
   "cell_type": "code",
   "execution_count": 34,
   "metadata": {},
   "outputs": [],
   "source": [
    "train_loader = DataLoader(cifar2, batch_size=64, shuffle=True)\n",
    "val_loader = DataLoader(cifar2_val, batch_size=64, shuffle=False)\n",
    "\n",
    "model = Net()\n",
    "lr = 1e-2\n",
    "optimizer = optim.SGD(model.parameters(), lr=lr)\n",
    "loss_fn = nn.CrossEntropyLoss()\n",
    "n_epochs = 10"
   ]
  },
  {
   "cell_type": "code",
   "execution_count": 35,
   "metadata": {},
   "outputs": [
    {
     "name": "stdout",
     "output_type": "stream",
     "text": [
      "22:32:08 Epoch: 1, Training loss: 0.5969931709158952, Validation loss: 0.49974647630006075\n",
      "22:32:10 Epoch: 2, Training loss: 0.49362076752504724, Validation loss: 0.46128271892666817\n",
      "22:32:11 Epoch: 3, Training loss: 0.4628261403673014, Validation loss: 0.4367945855483413\n"
     ]
    }
   ],
   "source": [
    "training_loop_cpu(n_epochs, optimizer, model, loss_fn, train_loader, val_loader)"
   ]
  },
  {
   "cell_type": "markdown",
   "metadata": {},
   "source": [
    "下面把训练迁移到gpu"
   ]
  },
  {
   "cell_type": "code",
   "execution_count": 36,
   "metadata": {},
   "outputs": [
    {
     "data": {
      "text/plain": [
       "device(type='cuda')"
      ]
     },
     "execution_count": 36,
     "metadata": {},
     "output_type": "execute_result"
    }
   ],
   "source": [
    "device = torch.device(\"cuda\") if torch.cuda.is_available() else torch.device(\"cpu\")\n",
    "device"
   ]
  },
  {
   "cell_type": "code",
   "execution_count": 57,
   "metadata": {},
   "outputs": [],
   "source": [
    "def training_loop_gpu(n_epochs, optimizer, model, loss_fn, train_loader, val_loader):\n",
    "    start = datetime.datetime.now()\n",
    "    for epoch in range(1, n_epochs + 1):\n",
    "        loss_train = 0.0\n",
    "        for imgs, labels in train_loader:\n",
    "            # 将数据移到GPU上\n",
    "            # imgs.to(device=device)\n",
    "            # labels.to(device=device)\n",
    "            # 上面没注意，后面运行就出了问题，因为to()操作并不是inplace操作，需要重新赋值给imgs和labels...\n",
    "            imgs = imgs.to(device=device)\n",
    "            labels = labels.to(device=device)\n",
    "            output = model(imgs)\n",
    "            loss = loss_fn(output, labels)\n",
    "\n",
    "            optimizer.zero_grad()\n",
    "            loss.backward()\n",
    "            optimizer.step()\n",
    "\n",
    "            loss_train += loss.item()\n",
    "\n",
    "        loss_val = 0.0\n",
    "        with torch.no_grad():\n",
    "            for imgs, labels in val_loader:\n",
    "                # 将数据移到GPU上\n",
    "                imgs = imgs.to(device=device)\n",
    "                labels = labels.to(device=device)\n",
    "                output = model(imgs)\n",
    "                loss = loss_fn(output, labels)\n",
    "                loss_val += loss.item()\n",
    "\n",
    "        if epoch <= 3 or epoch % 10 == 0:\n",
    "            print(\n",
    "                f\"{datetime.datetime.now():%H:%M:%S} Epoch: {epoch}, Training loss: {loss_train / len(train_loader):.4f}, Validation loss: {loss_val / len(val_loader):.4f}\"\n",
    "            )"
   ]
  },
  {
   "cell_type": "code",
   "execution_count": 38,
   "metadata": {},
   "outputs": [],
   "source": [
    "gpu_model = Net().to(device=device)\n",
    "lr = 1e-2\n",
    "optimizer = optim.SGD(gpu_model.parameters(), lr=lr)\n",
    "loss_fn = nn.CrossEntropyLoss()\n",
    "n_epochs = 100"
   ]
  },
  {
   "cell_type": "code",
   "execution_count": 39,
   "metadata": {},
   "outputs": [
    {
     "name": "stdout",
     "output_type": "stream",
     "text": [
      "conv1.weight torch.Size([16, 3, 3, 3]) cuda:0\n",
      "conv1.bias torch.Size([16]) cuda:0\n",
      "conv2.weight torch.Size([8, 16, 3, 3]) cuda:0\n",
      "conv2.bias torch.Size([8]) cuda:0\n",
      "fc1.weight torch.Size([32, 512]) cuda:0\n",
      "fc1.bias torch.Size([32]) cuda:0\n",
      "fc2.weight torch.Size([2, 32]) cuda:0\n",
      "fc2.bias torch.Size([2]) cuda:0\n"
     ]
    }
   ],
   "source": [
    "for name, param in gpu_model.named_parameters():\n",
    "    print(name, param.shape, param.device)"
   ]
  },
  {
   "cell_type": "code",
   "execution_count": 49,
   "metadata": {},
   "outputs": [
    {
     "name": "stdout",
     "output_type": "stream",
     "text": [
      "22:42:12 Epoch: 1, Training loss: 0.14798682216246417, Validation loss: 0.2728778456803411\n",
      "22:42:12 Epoch: 2, Training loss: 0.1477435332764486, Validation loss: 0.2728778456803411\n",
      "22:42:13 Epoch: 3, Training loss: 0.14774681544702523, Validation loss: 0.2728778456803411\n",
      "22:42:17 Epoch: 10, Training loss: 0.1475313139521772, Validation loss: 0.2728778456803411\n",
      "22:42:22 Epoch: 20, Training loss: 0.14834344088082102, Validation loss: 0.2728778456803411\n",
      "22:42:27 Epoch: 30, Training loss: 0.14940330267521987, Validation loss: 0.2728778456803411\n",
      "22:42:32 Epoch: 40, Training loss: 0.1481921273479416, Validation loss: 0.2728778456803411\n",
      "22:42:37 Epoch: 50, Training loss: 0.14878070992743894, Validation loss: 0.2728778456803411\n",
      "22:42:42 Epoch: 60, Training loss: 0.14739075087153228, Validation loss: 0.2728778456803411\n",
      "22:42:47 Epoch: 70, Training loss: 0.14765008697938767, Validation loss: 0.2728778456803411\n",
      "22:42:52 Epoch: 80, Training loss: 0.14745107777179425, Validation loss: 0.2728778456803411\n",
      "22:42:57 Epoch: 90, Training loss: 0.14803547604353565, Validation loss: 0.2728778456803411\n",
      "22:43:02 Epoch: 100, Training loss: 0.14783192682228272, Validation loss: 0.2728778456803411\n"
     ]
    }
   ],
   "source": [
    "training_loop_gpu(n_epochs, optimizer, gpu_model, loss_fn, train_loader, val_loader)"
   ]
  },
  {
   "cell_type": "markdown",
   "metadata": {},
   "source": [
    "## p4. 模型设计——宽度，参数规范，Drop out, Batch nomalization"
   ]
  },
  {
   "cell_type": "markdown",
   "metadata": {},
   "source": [
    "### 增加模型\"宽度\""
   ]
  },
  {
   "cell_type": "code",
   "execution_count": 50,
   "metadata": {},
   "outputs": [],
   "source": [
    "class Net(nn.Module):\n",
    "    def __init__(self):\n",
    "        super().__init__()\n",
    "        self.conv1 = nn.Conv2d(3, 32, kernel_size=3, padding=1)\n",
    "        self.conv2 = nn.Conv2d(32, 16, kernel_size=3, padding=1)\n",
    "        self.fc1 = nn.Linear(16 * 8 * 8, 32)\n",
    "        self.fc2 = nn.Linear(32, 2)\n",
    "\n",
    "    def forward(self, x):\n",
    "        out = F.max_pool2d(torch.tanh(self.conv1(x)), 2)\n",
    "        out = F.max_pool2d(torch.tanh(self.conv2(out)), 2)\n",
    "\n",
    "        out = out.view(\n",
    "            -1, 16 * 8 * 8\n",
    "        )  # 注意，这里将8x8x8的输出展平为一个长度为512的向量\n",
    "\n",
    "        out = self.fc1(out)\n",
    "        out = torch.tanh(out)\n",
    "        out = self.fc2(out)\n",
    "        return out"
   ]
  },
  {
   "cell_type": "code",
   "execution_count": 51,
   "metadata": {},
   "outputs": [
    {
     "name": "stdout",
     "output_type": "stream",
     "text": [
      "22:43:02 Epoch: 1, Training loss: 0.5552755516425819, Validation loss: 0.4738707607612014\n",
      "22:43:03 Epoch: 2, Training loss: 0.4663383491859315, Validation loss: 0.44055768474936485\n",
      "22:43:03 Epoch: 3, Training loss: 0.42350761525949854, Validation loss: 0.3970285402610898\n",
      "22:43:07 Epoch: 10, Training loss: 0.3113744929907428, Validation loss: 0.328284892719239\n",
      "22:43:13 Epoch: 20, Training loss: 0.26963735988755133, Validation loss: 0.2936229184269905\n",
      "22:43:18 Epoch: 30, Training loss: 0.2384980750881183, Validation loss: 0.3033856707625091\n",
      "22:43:23 Epoch: 40, Training loss: 0.21115876976281975, Validation loss: 0.2659792904742062\n",
      "22:43:28 Epoch: 50, Training loss: 0.1896387282165752, Validation loss: 0.29537765914574265\n",
      "22:43:34 Epoch: 60, Training loss: 0.16663591091515154, Validation loss: 0.26929374085739255\n",
      "22:43:39 Epoch: 70, Training loss: 0.1459533774359211, Validation loss: 0.28212040825746953\n",
      "22:43:44 Epoch: 80, Training loss: 0.12545126264879278, Validation loss: 0.2769941366277635\n",
      "22:43:49 Epoch: 90, Training loss: 0.10673236154067288, Validation loss: 0.2993754264898598\n",
      "22:43:55 Epoch: 100, Training loss: 0.08904923904378703, Validation loss: 0.3156499871984124\n"
     ]
    }
   ],
   "source": [
    "model = Net().to(device=device)\n",
    "optimizer = optim.SGD(model.parameters(), lr=lr)\n",
    "training_loop_gpu(n_epochs, optimizer, model, loss_fn, train_loader, val_loader)"
   ]
  },
  {
   "cell_type": "markdown",
   "metadata": {},
   "source": [
    "### 使用l2正则"
   ]
  },
  {
   "cell_type": "code",
   "execution_count": 52,
   "metadata": {},
   "outputs": [],
   "source": [
    "def training_loop_gpu_l2reg(\n",
    "    n_epochs, optimizer, model, loss_fn, train_loader, val_loader\n",
    "):\n",
    "    start = datetime.datetime.now()\n",
    "    for epoch in range(1, n_epochs + 1):\n",
    "        loss_train = 0.0\n",
    "        for imgs, labels in train_loader:\n",
    "            imgs = imgs.to(device=device)\n",
    "            labels = labels.to(device=device)\n",
    "            output = model(imgs)\n",
    "            loss = loss_fn(output, labels)\n",
    "\n",
    "            # 加入l2正则化\n",
    "            l2_lambda = 1e-2\n",
    "            l2_norm = sum(p.pow(2.0).sum() for p in model.parameters())\n",
    "            loss += l2_lambda * l2_norm\n",
    "\n",
    "            optimizer.zero_grad()\n",
    "            loss.backward()\n",
    "            optimizer.step()\n",
    "\n",
    "            loss_train += loss.item()\n",
    "\n",
    "        loss_val = 0.0\n",
    "        with torch.no_grad():\n",
    "            for imgs, labels in val_loader:\n",
    "                # 将数据移到GPU上\n",
    "                imgs = imgs.to(device=device)\n",
    "                labels = labels.to(device=device)\n",
    "                output = model(imgs)\n",
    "                loss = loss_fn(output, labels)\n",
    "                loss_val += loss.item()\n",
    "\n",
    "        if epoch <= 3 or epoch % 10 == 0:\n",
    "            print(\n",
    "                f\"{datetime.datetime.now():%H:%M:%S} Epoch: {epoch}, Training loss: {loss_train / len(train_loader):.4f}, Validation loss: {loss_val / len(val_loader):.4f}\"\n",
    "            )"
   ]
  },
  {
   "cell_type": "code",
   "execution_count": 58,
   "metadata": {},
   "outputs": [
    {
     "name": "stdout",
     "output_type": "stream",
     "text": [
      "22:46:14 Epoch: 1, Training loss: 0.8250, Validation loss: 0.4773\n",
      "22:46:15 Epoch: 2, Training loss: 0.7249, Validation loss: 0.4422\n",
      "22:46:16 Epoch: 3, Training loss: 0.6804, Validation loss: 0.4133\n",
      "22:46:21 Epoch: 10, Training loss: 0.5166, Validation loss: 0.3369\n",
      "22:46:28 Epoch: 20, Training loss: 0.4362, Validation loss: 0.3147\n",
      "22:46:36 Epoch: 30, Training loss: 0.3980, Validation loss: 0.3114\n",
      "22:46:43 Epoch: 40, Training loss: 0.3739, Validation loss: 0.3028\n",
      "22:46:51 Epoch: 50, Training loss: 0.3590, Validation loss: 0.2951\n",
      "22:46:59 Epoch: 60, Training loss: 0.3521, Validation loss: 0.3372\n",
      "22:47:06 Epoch: 70, Training loss: 0.3479, Validation loss: 0.2890\n",
      "22:47:14 Epoch: 80, Training loss: 0.3402, Validation loss: 0.2810\n",
      "22:47:23 Epoch: 90, Training loss: 0.3385, Validation loss: 0.2789\n",
      "22:47:31 Epoch: 100, Training loss: 0.3341, Validation loss: 0.2725\n"
     ]
    }
   ],
   "source": [
    "model = Net().to(device=device)\n",
    "optimizer = optim.SGD(model.parameters(), lr=lr)\n",
    "training_loop_gpu_l2reg(n_epochs, optimizer, model, loss_fn, train_loader, val_loader)"
   ]
  },
  {
   "cell_type": "code",
   "execution_count": 59,
   "metadata": {},
   "outputs": [
    {
     "name": "stdout",
     "output_type": "stream",
     "text": [
      "22:51:02 Epoch: 1, Training loss: 0.5881, Validation loss: 0.3663\n",
      "22:51:03 Epoch: 2, Training loss: 0.4591, Validation loss: 0.3471\n",
      "22:51:04 Epoch: 3, Training loss: 0.4292, Validation loss: 0.3357\n",
      "22:51:10 Epoch: 10, Training loss: 0.3838, Validation loss: 0.3209\n",
      "22:51:19 Epoch: 20, Training loss: 0.3606, Validation loss: 0.2896\n",
      "22:51:27 Epoch: 30, Training loss: 0.3586, Validation loss: 0.3020\n",
      "22:51:35 Epoch: 40, Training loss: 0.3572, Validation loss: 0.2852\n",
      "22:51:44 Epoch: 50, Training loss: 0.3539, Validation loss: 0.2946\n",
      "22:51:52 Epoch: 60, Training loss: 0.3478, Validation loss: 0.2802\n",
      "22:52:00 Epoch: 70, Training loss: 0.3490, Validation loss: 0.2689\n",
      "22:52:08 Epoch: 80, Training loss: 0.3506, Validation loss: 0.3021\n",
      "22:52:17 Epoch: 90, Training loss: 0.3508, Validation loss: 0.2815\n",
      "22:52:26 Epoch: 100, Training loss: 0.3474, Validation loss: 0.2688\n"
     ]
    }
   ],
   "source": [
    "model = Net().to(device=device)\n",
    "optimizer = optim.Adam(model.parameters())\n",
    "training_loop_gpu_l2reg(n_epochs, optimizer, model, loss_fn, train_loader, val_loader)"
   ]
  },
  {
   "cell_type": "markdown",
   "metadata": {},
   "source": [
    "### 使用Drop out层"
   ]
  },
  {
   "cell_type": "code",
   "execution_count": 60,
   "metadata": {},
   "outputs": [],
   "source": [
    "class NetDropout(nn.Module):\n",
    "    def __init__(self, n_chans1=32):\n",
    "        super().__init__()\n",
    "        self.n_chans1 = n_chans1\n",
    "        self.conv1 = nn.Conv2d(3, self.n_chans1, kernel_size=3, padding=1)\n",
    "        self.conv1_dropout = nn.Dropout2d(p=0.4)\n",
    "        self.conv2 = nn.Conv2d(\n",
    "            self.n_chans1, self.n_chans1 // 2, kernel_size=3, padding=1\n",
    "        )\n",
    "        self.conv2_dropout = nn.Dropout2d(p=0.4)\n",
    "        self.fc1 = nn.Linear(self.n_chans1 // 2 * 8 * 8, 32)\n",
    "        self.fc2 = nn.Linear(32, 2)\n",
    "\n",
    "    def forward(self, x):\n",
    "        out = F.max_pool2d(torch.tanh(self.conv1(x)), 2)\n",
    "        out = self.conv1_dropout(out)\n",
    "        out = F.max_pool2d(torch.tanh(self.conv2(out)), 2)\n",
    "        out = self.conv2_dropout(out)\n",
    "        out = out.view(-1, self.n_chans1 // 2 * 8 * 8)\n",
    "        out = torch.tanh(self.fc1(out))\n",
    "        out = self.fc2(out)\n",
    "        return out"
   ]
  },
  {
   "cell_type": "code",
   "execution_count": 61,
   "metadata": {},
   "outputs": [
    {
     "name": "stdout",
     "output_type": "stream",
     "text": [
      "22:52:27 Epoch: 1, Training loss: 0.8602, Validation loss: 0.5086\n",
      "22:52:28 Epoch: 2, Training loss: 0.7604, Validation loss: 0.4746\n",
      "22:52:29 Epoch: 3, Training loss: 0.7157, Validation loss: 0.4435\n",
      "22:52:35 Epoch: 10, Training loss: 0.5714, Validation loss: 0.3960\n",
      "22:52:43 Epoch: 20, Training loss: 0.4867, Validation loss: 0.3710\n",
      "22:52:51 Epoch: 30, Training loss: 0.4467, Validation loss: 0.3659\n",
      "22:52:59 Epoch: 40, Training loss: 0.4227, Validation loss: 0.3555\n",
      "22:53:07 Epoch: 50, Training loss: 0.4108, Validation loss: 0.3579\n",
      "22:53:15 Epoch: 60, Training loss: 0.4061, Validation loss: 0.3477\n",
      "22:53:23 Epoch: 70, Training loss: 0.3983, Validation loss: 0.3487\n",
      "22:53:31 Epoch: 80, Training loss: 0.3953, Validation loss: 0.3506\n",
      "22:53:39 Epoch: 90, Training loss: 0.3969, Validation loss: 0.3417\n",
      "22:53:46 Epoch: 100, Training loss: 0.3956, Validation loss: 0.3503\n"
     ]
    }
   ],
   "source": [
    "model = NetDropout(n_chans1=32).to(device=device)\n",
    "optimizer = optim.SGD(model.parameters(), lr=lr)\n",
    "training_loop_gpu_l2reg(n_epochs, optimizer, model, loss_fn, train_loader, val_loader)"
   ]
  },
  {
   "cell_type": "code",
   "execution_count": 62,
   "metadata": {},
   "outputs": [],
   "source": [
    "def validate(model, train_loader, val_loader):\n",
    "    acc_dict = {}\n",
    "    for name, loader in [(\"train\", train_loader), (\"val\", val_loader)]:\n",
    "        correct = 0\n",
    "        total = 0\n",
    "\n",
    "        with torch.no_grad():\n",
    "            for imgs, labels in loader:\n",
    "                imgs = imgs.to(device=device)\n",
    "                labels = labels.to(device=device)\n",
    "                outputs = model(imgs)\n",
    "                _, predicted = torch.max(outputs, dim=1)\n",
    "                total += labels.shape[0]\n",
    "                correct += int((predicted == labels).sum())\n",
    "        print(f\"Accuracy {name}: {correct / total:.2f}\")\n",
    "        acc_dict[name] = correct / total\n",
    "    return acc_dict"
   ]
  },
  {
   "cell_type": "code",
   "execution_count": 63,
   "metadata": {},
   "outputs": [
    {
     "name": "stdout",
     "output_type": "stream",
     "text": [
      "Accuracy train: 0.85\n",
      "Accuracy val: 0.85\n"
     ]
    },
    {
     "data": {
      "text/plain": [
       "OrderedDict([('dropout', {'train': 0.8527, 'val': 0.85})])"
      ]
     },
     "execution_count": 63,
     "metadata": {},
     "output_type": "execute_result"
    }
   ],
   "source": [
    "all_acc_dict = collections.OrderedDict()\n",
    "all_acc_dict[\"dropout\"] = validate(model, train_loader, val_loader)\n",
    "all_acc_dict"
   ]
  },
  {
   "cell_type": "markdown",
   "metadata": {},
   "source": [
    "### 使用batch nomalization"
   ]
  },
  {
   "cell_type": "code",
   "execution_count": 64,
   "metadata": {},
   "outputs": [],
   "source": [
    "class NetBatchNorm(nn.Module):\n",
    "    def __init__(self, n_chans1=32):\n",
    "        super().__init__()\n",
    "        self.n_chans1 = n_chans1\n",
    "        self.conv1 = nn.Conv2d(3, self.n_chans1, kernel_size=3, padding=1)\n",
    "        self.conv1_batchnorm = nn.BatchNorm2d(num_features=self.n_chans1)\n",
    "        self.conv2 = nn.Conv2d(\n",
    "            self.n_chans1, self.n_chans1 // 2, kernel_size=3, padding=1\n",
    "        )\n",
    "        self.conv2_batchnorm = nn.BatchNorm2d(num_features=self.n_chans1 // 2)\n",
    "        self.fc1 = nn.Linear(self.n_chans1 // 2 * 8 * 8, 32)\n",
    "        self.fc2 = nn.Linear(32, 2)\n",
    "\n",
    "    def forward(self, x):\n",
    "        # 需要注意的就是，dropout是在卷积层之后，而batchnorm是在卷积层之前\n",
    "        out = self.conv1_batchnorm(self.conv1(x))\n",
    "        out = F.max_pool2d(torch.tanh(out), 2)\n",
    "        out = self.conv2_batchnorm(self.conv2(out))\n",
    "        out = F.max_pool2d(torch.tanh(out), 2)\n",
    "        out = out.view(-1, self.n_chans1 // 2 * 8 * 8)\n",
    "        out = torch.tanh(self.fc1(out))\n",
    "        out = self.fc2(out)\n",
    "        return out"
   ]
  },
  {
   "cell_type": "code",
   "execution_count": 65,
   "metadata": {},
   "outputs": [
    {
     "name": "stdout",
     "output_type": "stream",
     "text": [
      "22:53:48 Epoch: 1, Training loss: 1.2051, Validation loss: 0.4314\n",
      "22:53:49 Epoch: 2, Training loss: 1.0693, Validation loss: 0.3651\n",
      "22:53:50 Epoch: 3, Training loss: 1.0008, Validation loss: 0.4156\n",
      "22:53:57 Epoch: 10, Training loss: 0.7242, Validation loss: 0.4440\n",
      "22:54:06 Epoch: 20, Training loss: 0.5217, Validation loss: 0.2649\n",
      "22:54:15 Epoch: 30, Training loss: 0.4179, Validation loss: 0.2860\n",
      "22:54:24 Epoch: 40, Training loss: 0.3675, Validation loss: 0.3477\n",
      "22:54:33 Epoch: 50, Training loss: 0.3382, Validation loss: 0.2790\n",
      "22:54:42 Epoch: 60, Training loss: 0.3226, Validation loss: 0.3176\n",
      "22:54:51 Epoch: 70, Training loss: 0.3156, Validation loss: 0.2979\n",
      "22:54:59 Epoch: 80, Training loss: 0.3110, Validation loss: 0.2679\n",
      "22:55:08 Epoch: 90, Training loss: 0.3071, Validation loss: 0.3494\n",
      "22:55:17 Epoch: 100, Training loss: 0.3015, Validation loss: 0.2761\n"
     ]
    }
   ],
   "source": [
    "model = NetBatchNorm(n_chans1=32).to(device=device)\n",
    "optimizer = optim.SGD(model.parameters(), lr=lr)\n",
    "training_loop_gpu_l2reg(n_epochs, optimizer, model, loss_fn, train_loader, val_loader)"
   ]
  },
  {
   "cell_type": "code",
   "execution_count": 66,
   "metadata": {},
   "outputs": [
    {
     "name": "stdout",
     "output_type": "stream",
     "text": [
      "Accuracy train: 0.93\n",
      "Accuracy val: 0.88\n"
     ]
    },
    {
     "data": {
      "text/plain": [
       "OrderedDict([('dropout', {'train': 0.8527, 'val': 0.85}),\n",
       "             ('batchnorm', {'train': 0.9321, 'val': 0.8805})])"
      ]
     },
     "execution_count": 66,
     "metadata": {},
     "output_type": "execute_result"
    }
   ],
   "source": [
    "all_acc_dict[\"batchnorm\"] = validate(model, train_loader, val_loader)\n",
    "all_acc_dict"
   ]
  },
  {
   "cell_type": "markdown",
   "metadata": {},
   "source": [
    "### 使用残差网络，增加网络深度"
   ]
  },
  {
   "cell_type": "code",
   "execution_count": 67,
   "metadata": {},
   "outputs": [],
   "source": [
    "class NetRes(nn.Module):\n",
    "    def __init__(self, n_chans1=32):\n",
    "        super().__init__()\n",
    "        self.n_chans1 = n_chans1\n",
    "        self.conv1 = nn.Conv2d(3, self.n_chans1, kernel_size=3, padding=1)\n",
    "\n",
    "        self.conv2 = nn.Conv2d(\n",
    "            self.n_chans1, self.n_chans1 // 2, kernel_size=3, padding=1\n",
    "        )\n",
    "        self.conv3 = nn.Conv2d(\n",
    "            self.n_chans1 // 2, self.n_chans1 // 2, kernel_size=3, padding=1\n",
    "        )\n",
    "        self.fc1 = nn.Linear(self.n_chans1 // 2 * 4 * 4, 32)\n",
    "        self.fc2 = nn.Linear(32, 2)\n",
    "\n",
    "    def forward(self, x):\n",
    "        # 注意，此处激活函数换成了relu\n",
    "        out = F.max_pool2d(torch.relu(self.conv1(x)), 2)\n",
    "        out = F.max_pool2d(torch.relu(self.conv2(out)), 2)\n",
    "        out1 = out\n",
    "        out = F.max_pool2d(torch.relu(self.conv3(out)) + out1, 2)\n",
    "        out = out.view(-1, self.n_chans1 // 2 * 4 * 4)\n",
    "        out = torch.relu(self.fc1(out))\n",
    "        out = self.fc2(out)\n",
    "        return out"
   ]
  },
  {
   "cell_type": "code",
   "execution_count": 68,
   "metadata": {},
   "outputs": [
    {
     "name": "stdout",
     "output_type": "stream",
     "text": [
      "22:55:18 Epoch: 1, Training loss: 0.6661, Validation loss: 0.6103\n",
      "22:55:19 Epoch: 2, Training loss: 0.5492, Validation loss: 0.4902\n",
      "22:55:19 Epoch: 3, Training loss: 0.4769, Validation loss: 0.4283\n",
      "22:55:24 Epoch: 10, Training loss: 0.3258, Validation loss: 0.3140\n",
      "22:55:30 Epoch: 20, Training loss: 0.2848, Validation loss: 0.3564\n",
      "22:55:35 Epoch: 30, Training loss: 0.2470, Validation loss: 0.3243\n",
      "22:55:41 Epoch: 40, Training loss: 0.2197, Validation loss: 0.2649\n",
      "22:55:47 Epoch: 50, Training loss: 0.1963, Validation loss: 0.2761\n",
      "22:55:53 Epoch: 60, Training loss: 0.1692, Validation loss: 0.4219\n",
      "22:55:59 Epoch: 70, Training loss: 0.1489, Validation loss: 0.2921\n",
      "22:56:05 Epoch: 80, Training loss: 0.1210, Validation loss: 0.2805\n",
      "22:56:11 Epoch: 90, Training loss: 0.1139, Validation loss: 0.2939\n",
      "22:56:16 Epoch: 100, Training loss: 0.0823, Validation loss: 0.3388\n"
     ]
    }
   ],
   "source": [
    "model = NetRes(n_chans1=32).to(device=device)\n",
    "optimizer = optim.SGD(model.parameters(), lr=lr)\n",
    "training_loop_gpu(n_epochs, optimizer, model, loss_fn, train_loader, val_loader)"
   ]
  },
  {
   "cell_type": "code",
   "execution_count": 69,
   "metadata": {},
   "outputs": [
    {
     "name": "stdout",
     "output_type": "stream",
     "text": [
      "Accuracy train: 0.96\n",
      "Accuracy val: 0.89\n"
     ]
    },
    {
     "data": {
      "text/plain": [
       "OrderedDict([('dropout', {'train': 0.8527, 'val': 0.85}),\n",
       "             ('batchnorm', {'train': 0.9321, 'val': 0.8805}),\n",
       "             ('res', {'train': 0.9641, 'val': 0.8925})])"
      ]
     },
     "execution_count": 69,
     "metadata": {},
     "output_type": "execute_result"
    }
   ],
   "source": [
    "all_acc_dict[\"res\"] = validate(model, train_loader, val_loader)\n",
    "all_acc_dict"
   ]
  },
  {
   "cell_type": "code",
   "execution_count": 71,
   "metadata": {},
   "outputs": [],
   "source": [
    "class ResBlock(nn.Module):\n",
    "    def __init__(self, n_chans):\n",
    "        super(ResBlock, self).__init__()\n",
    "        self.conv = nn.Conv2d(n_chans, n_chans, kernel_size=3, padding=1, bias=False)\n",
    "        self.batch_norm = nn.BatchNorm2d(num_features=n_chans)\n",
    "        torch.nn.init.kaiming_normal_(self.conv.weight, nonlinearity=\"relu\")\n",
    "        torch.nn.init.constant_(self.batch_norm.weight, 0.5)\n",
    "        torch.nn.init.zeros_(self.batch_norm.bias)\n",
    "\n",
    "    def forward(self, x):\n",
    "        # 这里为什么先卷积，再batch_norm呢?\n",
    "        out = self.conv(x)\n",
    "        out = self.batch_norm(out)\n",
    "        out = torch.relu(out)\n",
    "        return out + x"
   ]
  },
  {
   "cell_type": "code",
   "execution_count": 72,
   "metadata": {},
   "outputs": [],
   "source": [
    "class NetResDeep(nn.Module):\n",
    "    def __init__(self, n_chans1=32, n_blocks=10):\n",
    "        super().__init__()\n",
    "        self.n_chans1 = n_chans1\n",
    "        self.conv1 = nn.Conv2d(3, n_chans1, kernel_size=3, padding=1)\n",
    "        # 解释一下下面这行代码\n",
    "        # Sequential中的第一个*是解包操作，将后面的列表解包成一个个元素\n",
    "        # 列表中使用了*运算符，这个运算符会将列表中的元素重复n次，然后再合并成一个新的列表\n",
    "        # 也就是，下面这行代码的意思是，将ResBlock(n_chans=n_chans1)重复n_blocks次，然后将这n_blocks个ResBlock组合成一个Sequential\n",
    "        self.resblocks = nn.Sequential(*(n_blocks * [ResBlock(n_chans=n_chans1)]))\n",
    "        self.fc1 = nn.Linear(n_chans1 * 8 * 8, 32)\n",
    "        self.fc2 = nn.Linear(32, 2)\n",
    "\n",
    "    def forward(self, x):\n",
    "        out = F.max_pool2d(torch.relu(self.conv1(x)), 2)\n",
    "        out = self.resblocks(out)\n",
    "        out = F.max_pool2d(out, 2)\n",
    "        out = out.view(-1, self.n_chans1 * 8 * 8)\n",
    "        out = torch.relu(self.fc1(out))\n",
    "        out = self.fc2(out)\n",
    "        return out"
   ]
  },
  {
   "cell_type": "code",
   "execution_count": 76,
   "metadata": {},
   "outputs": [
    {
     "name": "stdout",
     "output_type": "stream",
     "text": [
      "23:13:46 Epoch: 1, Training loss: 1.6412, Validation loss: 0.5467\n",
      "23:13:56 Epoch: 2, Training loss: 0.4658, Validation loss: 0.4349\n",
      "23:14:05 Epoch: 3, Training loss: 0.4170, Validation loss: 0.3997\n",
      "23:15:10 Epoch: 10, Training loss: 0.3194, Validation loss: 0.3717\n",
      "23:16:41 Epoch: 20, Training loss: 0.2382, Validation loss: 0.5105\n",
      "23:18:13 Epoch: 30, Training loss: 0.1822, Validation loss: 0.4222\n",
      "23:19:44 Epoch: 40, Training loss: 0.1254, Validation loss: 0.6250\n",
      "23:21:25 Epoch: 50, Training loss: 0.1022, Validation loss: 0.5364\n",
      "23:23:07 Epoch: 60, Training loss: 0.1116, Validation loss: 0.4902\n",
      "23:24:36 Epoch: 70, Training loss: 0.0776, Validation loss: 0.5175\n",
      "23:26:04 Epoch: 80, Training loss: 0.0760, Validation loss: 0.5785\n",
      "23:27:31 Epoch: 90, Training loss: 0.0708, Validation loss: 0.7018\n",
      "23:29:02 Epoch: 100, Training loss: 0.0696, Validation loss: 3.5064\n"
     ]
    }
   ],
   "source": [
    "lr = 3e-3\n",
    "model = NetResDeep(n_chans1=32, n_blocks=100).to(device=device)\n",
    "optimizer = optim.SGD(model.parameters(), lr=lr)\n",
    "training_loop_gpu(n_epochs, optimizer, model, loss_fn, train_loader, val_loader)"
   ]
  },
  {
   "cell_type": "code",
   "execution_count": 78,
   "metadata": {},
   "outputs": [
    {
     "name": "stdout",
     "output_type": "stream",
     "text": [
      "Accuracy train: 0.63\n",
      "Accuracy val: 0.63\n"
     ]
    },
    {
     "data": {
      "text/plain": [
       "OrderedDict([('dropout', {'train': 0.8527, 'val': 0.85}),\n",
       "             ('batchnorm', {'train': 0.9321, 'val': 0.8805}),\n",
       "             ('res', {'train': 0.9641, 'val': 0.8925}),\n",
       "             ('res deep', {'train': 0.6316, 'val': 0.63})])"
      ]
     },
     "execution_count": 78,
     "metadata": {},
     "output_type": "execute_result"
    }
   ],
   "source": [
    "all_acc_dict[\"res deep\"] = validate(model, train_loader, val_loader)\n",
    "all_acc_dict"
   ]
  },
  {
   "cell_type": "markdown",
   "metadata": {},
   "source": []
  }
 ],
 "metadata": {
  "kernelspec": {
   "display_name": "dlwpt",
   "language": "python",
   "name": "python3"
  },
  "language_info": {
   "codemirror_mode": {
    "name": "ipython",
    "version": 3
   },
   "file_extension": ".py",
   "mimetype": "text/x-python",
   "name": "python",
   "nbconvert_exporter": "python",
   "pygments_lexer": "ipython3",
   "version": "3.12.3"
  }
 },
 "nbformat": 4,
 "nbformat_minor": 2
}
