{
 "cells": [
  {
   "cell_type": "code",
   "execution_count": 1,
   "metadata": {},
   "outputs": [],
   "source": [
    "import datetime\n",
    "\n",
    "from util.util import importstr\n",
    "from util.logconf import logging\n",
    "\n",
    "log = logging.getLogger(\"nb\")"
   ]
  },
  {
   "cell_type": "code",
   "execution_count": 2,
   "metadata": {},
   "outputs": [],
   "source": [
    "def run(app, *argv):\n",
    "    argv = list(argv)\n",
    "    argv.insert(0, \"--num-workers=4\")  # <1>\n",
    "    log.info(\"Running: {}({!r}).main()\".format(app, argv))\n",
    "\n",
    "    app_cls = importstr(*app.rsplit(\".\", 1))  # <2>\n",
    "    app_cls(argv).main()\n",
    "\n",
    "    log.info(\"Finished: {}.{!r}).main()\".format(app, argv))"
   ]
  },
  {
   "cell_type": "code",
   "execution_count": 3,
   "metadata": {},
   "outputs": [],
   "source": [
    "import os\n",
    "import shutil\n",
    "\n",
    "\n",
    "# clean up any old data that might be around.\n",
    "# We don't call this by default because it's destructive,\n",
    "# and would waste a lot of time if it ran when nothing\n",
    "# on the application side had changed.\n",
    "def cleanCache():\n",
    "    shutil.rmtree(\"data-unversioned/cache\")\n",
    "    os.mkdir(\"data-unversioned/cache\")\n",
    "\n",
    "\n",
    "# cleanCache()"
   ]
  },
  {
   "cell_type": "code",
   "execution_count": 4,
   "metadata": {},
   "outputs": [],
   "source": [
    "training_epochs = 20\n",
    "experiment_epochs = 10\n",
    "final_epochs = 50\n",
    "\n",
    "# training_epochs = 2\n",
    "# experiment_epochs = 2\n",
    "# final_epochs = 5\n",
    "seg_epochs = 10"
   ]
  },
  {
   "cell_type": "markdown",
   "metadata": {},
   "source": [
    "## Chapter 11"
   ]
  },
  {
   "cell_type": "code",
   "execution_count": 6,
   "metadata": {},
   "outputs": [
    {
     "name": "stderr",
     "output_type": "stream",
     "text": [
      "2024-06-28 18:23:35,409 INFO     pid:19980 nb:004:run Running: p2ch11.prepcache.LunaPrepCacheApp(['--num-workers=4']).main()\n",
      "2024-06-28 18:23:35,410 INFO     pid:19980 p2ch11.prepcache:043:main Starting LunaPrepCacheApp, Namespace(batch_size=1024, num_workers=4)\n",
      "2024-06-28 18:23:38,052 INFO     pid:19980 p2ch11.dsets:197:__init__ <p2ch11.dsets.LunaDataset object at 0x0000029B2A1A8860>: 275358 training samples\n",
      "2024-06-28 18:23:38,053 WARNING  pid:19980 util.util:219:enumerateWithEstimate Stuffing cache ----/269, starting\n",
      "2024-06-28 18:24:34,256 INFO     pid:19980 util.util:236:enumerateWithEstimate Stuffing cache   16/269, done at 2024-06-28 18:33:39, 0:09:33\n",
      "2024-06-28 18:26:08,060 INFO     pid:19980 util.util:236:enumerateWithEstimate Stuffing cache   64/269, done at 2024-06-28 18:32:55, 0:08:49\n",
      "2024-06-28 18:32:09,389 INFO     pid:19980 util.util:236:enumerateWithEstimate Stuffing cache  256/269, done at 2024-06-28 18:32:32, 0:08:26\n",
      "2024-06-28 18:32:30,655 WARNING  pid:19980 util.util:249:enumerateWithEstimate Stuffing cache ----/269, done at 2024-06-28 18:32:30\n",
      "2024-06-28 18:32:30,660 INFO     pid:19980 nb:009:run Finished: p2ch11.prepcache.LunaPrepCacheApp.['--num-workers=4']).main()\n"
     ]
    }
   ],
   "source": [
    "run(\"p2ch11.prepcache.LunaPrepCacheApp\")"
   ]
  },
  {
   "cell_type": "code",
   "execution_count": null,
   "metadata": {},
   "outputs": [],
   "source": [
    "# run(\"p2ch11.training.LunaTrainingApp\", \"--epochs=1\")"
   ]
  },
  {
   "cell_type": "code",
   "execution_count": 7,
   "metadata": {},
   "outputs": [
    {
     "name": "stderr",
     "output_type": "stream",
     "text": [
      "2024-06-28 18:32:30,673 INFO     pid:19980 nb:004:run Running: p2ch11.training.LunaTrainingApp(['--num-workers=4', '--epochs=10']).main()\n",
      "2024-06-28 18:32:36,130 INFO     pid:19980 p2ch11.training:079:initModel Using CUDA; 1 devices.\n",
      "2024-06-28 18:32:37,936 INFO     pid:19980 p2ch11.training:138:main Starting LunaTrainingApp, Namespace(num_workers=4, batch_size=32, epochs=10, tb_prefix='p2ch11', comment='dwlpt')\n",
      "2024-06-28 18:32:38,057 INFO     pid:19980 p2ch11.dsets:197:__init__ <p2ch11.dsets.LunaDataset object at 0x0000029B3A4417C0>: 247822 training samples\n",
      "2024-06-28 18:32:38,073 INFO     pid:19980 p2ch11.dsets:197:__init__ <p2ch11.dsets.LunaDataset object at 0x0000029B2C1839B0>: 27536 validation samples\n",
      "2024-06-28 18:32:38,074 INFO     pid:19980 p2ch11.training:145:main Epoch 1 of 10, 7745/861 batches of size 32*1\n",
      "2024-06-28 18:32:38,143 WARNING  pid:19980 util.util:219:enumerateWithEstimate E1 Training ----/7745, starting\n",
      "2024-06-28 18:32:56,324 INFO     pid:19980 util.util:236:enumerateWithEstimate E1 Training   16/7745, done at 2024-06-28 18:38:54, 0:05:58\n",
      "2024-06-28 18:32:59,655 INFO     pid:19980 util.util:236:enumerateWithEstimate E1 Training   64/7745, done at 2024-06-28 18:41:14, 0:08:19\n",
      "2024-06-28 18:33:12,435 INFO     pid:19980 util.util:236:enumerateWithEstimate E1 Training  256/7745, done at 2024-06-28 18:41:27, 0:08:31\n",
      "2024-06-28 18:34:04,063 INFO     pid:19980 util.util:236:enumerateWithEstimate E1 Training 1024/7745, done at 2024-06-28 18:41:33, 0:08:38\n",
      "2024-06-28 18:37:32,762 INFO     pid:19980 util.util:236:enumerateWithEstimate E1 Training 4096/7745, done at 2024-06-28 18:41:39, 0:08:43\n",
      "2024-06-28 18:41:42,585 WARNING  pid:19980 util.util:249:enumerateWithEstimate E1 Training ----/7745, done at 2024-06-28 18:41:42\n",
      "2024-06-28 18:41:42,602 INFO     pid:19980 p2ch11.training:259:logMetrics E1 LunaTrainingApp\n",
      "2024-06-28 18:41:42,653 INFO     pid:19980 p2ch11.training:289:logMetrics E1 trn      0.0233 loss,  99.7% correct, \n",
      "2024-06-28 18:41:42,654 INFO     pid:19980 p2ch11.training:298:logMetrics E1 trn_neg  0.0027 loss, 100.0% correct (247158 of 247174)\n",
      "2024-06-28 18:41:42,655 INFO     pid:19980 p2ch11.training:309:logMetrics E1 trn_pos  7.8543 loss,   0.0% correct (0 of 648)\n",
      "2024-06-28 18:41:42,713 WARNING  pid:19980 util.util:219:enumerateWithEstimate E1 Validation  ----/861, starting\n",
      "2024-06-28 18:42:00,009 INFO     pid:19980 util.util:236:enumerateWithEstimate E1 Validation    16/861, done at 2024-06-28 18:42:07, 0:00:07\n",
      "2024-06-28 18:42:00,963 INFO     pid:19980 util.util:236:enumerateWithEstimate E1 Validation    64/861, done at 2024-06-28 18:42:14, 0:00:15\n",
      "2024-06-28 18:42:04,586 INFO     pid:19980 util.util:236:enumerateWithEstimate E1 Validation   256/861, done at 2024-06-28 18:42:15, 0:00:15\n",
      "2024-06-28 18:42:16,684 WARNING  pid:19980 util.util:249:enumerateWithEstimate E1 Validation  ----/861, done at 2024-06-28 18:42:16\n",
      "2024-06-28 18:42:16,685 INFO     pid:19980 p2ch11.training:259:logMetrics E1 LunaTrainingApp\n",
      "2024-06-28 18:42:16,688 INFO     pid:19980 p2ch11.training:289:logMetrics E1 val      0.0184 loss,  99.7% correct, \n",
      "2024-06-28 18:42:16,689 INFO     pid:19980 p2ch11.training:298:logMetrics E1 val_neg  0.0027 loss, 100.0% correct (27463 of 27463)\n",
      "2024-06-28 18:42:16,689 INFO     pid:19980 p2ch11.training:309:logMetrics E1 val_pos  5.9128 loss,   0.0% correct (0 of 73)\n",
      "2024-06-28 18:42:16,693 INFO     pid:19980 p2ch11.training:145:main Epoch 2 of 10, 7745/861 batches of size 32*1\n",
      "2024-06-28 18:42:16,694 WARNING  pid:19980 util.util:219:enumerateWithEstimate E2 Training ----/7745, starting\n",
      "2024-06-28 18:42:36,986 INFO     pid:19980 util.util:236:enumerateWithEstimate E2 Training   16/7745, done at 2024-06-28 18:51:07, 0:08:31\n",
      "2024-06-28 18:42:40,196 INFO     pid:19980 util.util:236:enumerateWithEstimate E2 Training   64/7745, done at 2024-06-28 18:51:12, 0:08:36\n",
      "2024-06-28 18:42:53,035 INFO     pid:19980 util.util:236:enumerateWithEstimate E2 Training  256/7745, done at 2024-06-28 18:51:13, 0:08:37\n",
      "2024-06-28 18:43:44,877 INFO     pid:19980 util.util:236:enumerateWithEstimate E2 Training 1024/7745, done at 2024-06-28 18:51:17, 0:08:41\n",
      "2024-06-28 18:47:13,904 INFO     pid:19980 util.util:236:enumerateWithEstimate E2 Training 4096/7745, done at 2024-06-28 18:51:21, 0:08:45\n",
      "2024-06-28 18:51:23,237 WARNING  pid:19980 util.util:249:enumerateWithEstimate E2 Training ----/7745, done at 2024-06-28 18:51:23\n",
      "2024-06-28 18:51:23,239 INFO     pid:19980 p2ch11.training:259:logMetrics E2 LunaTrainingApp\n",
      "2024-06-28 18:51:23,245 INFO     pid:19980 p2ch11.training:289:logMetrics E2 trn      0.0187 loss,  99.7% correct, \n",
      "2024-06-28 18:51:23,246 INFO     pid:19980 p2ch11.training:298:logMetrics E2 trn_neg  0.0026 loss, 100.0% correct (247174 of 247174)\n",
      "2024-06-28 18:51:23,247 INFO     pid:19980 p2ch11.training:309:logMetrics E2 trn_pos  6.1375 loss,   0.0% correct (0 of 648)\n",
      "2024-06-28 18:51:23,262 WARNING  pid:19980 util.util:219:enumerateWithEstimate E2 Validation  ----/861, starting\n",
      "2024-06-28 18:51:39,375 INFO     pid:19980 util.util:236:enumerateWithEstimate E2 Validation    16/861, done at 2024-06-28 18:51:48, 0:00:09\n",
      "2024-06-28 18:51:40,363 INFO     pid:19980 util.util:236:enumerateWithEstimate E2 Validation    64/861, done at 2024-06-28 18:51:55, 0:00:15\n",
      "2024-06-28 18:51:44,012 INFO     pid:19980 util.util:236:enumerateWithEstimate E2 Validation   256/861, done at 2024-06-28 18:51:55, 0:00:16\n",
      "2024-06-28 18:51:56,086 WARNING  pid:19980 util.util:249:enumerateWithEstimate E2 Validation  ----/861, done at 2024-06-28 18:51:56\n",
      "2024-06-28 18:51:56,087 INFO     pid:19980 p2ch11.training:259:logMetrics E2 LunaTrainingApp\n",
      "2024-06-28 18:51:56,089 INFO     pid:19980 p2ch11.training:289:logMetrics E2 val      0.0184 loss,  99.7% correct, \n",
      "2024-06-28 18:51:56,090 INFO     pid:19980 p2ch11.training:298:logMetrics E2 val_neg  0.0023 loss, 100.0% correct (27463 of 27463)\n",
      "2024-06-28 18:51:56,090 INFO     pid:19980 p2ch11.training:309:logMetrics E2 val_pos  6.0908 loss,   0.0% correct (0 of 73)\n",
      "2024-06-28 18:51:56,094 INFO     pid:19980 p2ch11.training:145:main Epoch 3 of 10, 7745/861 batches of size 32*1\n",
      "2024-06-28 18:51:56,096 WARNING  pid:19980 util.util:219:enumerateWithEstimate E3 Training ----/7745, starting\n",
      "2024-06-28 18:52:15,592 INFO     pid:19980 util.util:236:enumerateWithEstimate E3 Training   16/7745, done at 2024-06-28 19:00:25, 0:08:10\n",
      "2024-06-28 18:52:18,805 INFO     pid:19980 util.util:236:enumerateWithEstimate E3 Training   64/7745, done at 2024-06-28 19:00:47, 0:08:32\n",
      "2024-06-28 18:52:31,761 INFO     pid:19980 util.util:236:enumerateWithEstimate E3 Training  256/7745, done at 2024-06-28 19:00:54, 0:08:39\n",
      "2024-06-28 18:53:24,009 INFO     pid:19980 util.util:236:enumerateWithEstimate E3 Training 1024/7745, done at 2024-06-28 19:00:59, 0:08:44\n",
      "2024-06-28 18:56:53,691 INFO     pid:19980 util.util:236:enumerateWithEstimate E3 Training 4096/7745, done at 2024-06-28 19:01:02, 0:08:47\n",
      "2024-06-28 19:01:02,799 WARNING  pid:19980 util.util:249:enumerateWithEstimate E3 Training ----/7745, done at 2024-06-28 19:01:02\n",
      "2024-06-28 19:01:02,800 INFO     pid:19980 p2ch11.training:259:logMetrics E3 LunaTrainingApp\n",
      "2024-06-28 19:01:02,807 INFO     pid:19980 p2ch11.training:289:logMetrics E3 trn      0.0186 loss,  99.7% correct, \n",
      "2024-06-28 19:01:02,808 INFO     pid:19980 p2ch11.training:298:logMetrics E3 trn_neg  0.0026 loss, 100.0% correct (247174 of 247174)\n",
      "2024-06-28 19:01:02,808 INFO     pid:19980 p2ch11.training:309:logMetrics E3 trn_pos  6.0939 loss,   0.0% correct (0 of 648)\n",
      "2024-06-28 19:01:02,824 WARNING  pid:19980 util.util:219:enumerateWithEstimate E3 Validation  ----/861, starting\n",
      "2024-06-28 19:01:21,656 INFO     pid:19980 util.util:236:enumerateWithEstimate E3 Validation    16/861, done at 2024-06-28 19:01:31, 0:00:10\n",
      "2024-06-28 19:01:22,477 INFO     pid:19980 util.util:236:enumerateWithEstimate E3 Validation    64/861, done at 2024-06-28 19:01:35, 0:00:13\n",
      "2024-06-28 19:01:26,110 INFO     pid:19980 util.util:236:enumerateWithEstimate E3 Validation   256/861, done at 2024-06-28 19:01:37, 0:00:15\n",
      "2024-06-28 19:01:38,170 WARNING  pid:19980 util.util:249:enumerateWithEstimate E3 Validation  ----/861, done at 2024-06-28 19:01:38\n",
      "2024-06-28 19:01:38,171 INFO     pid:19980 p2ch11.training:259:logMetrics E3 LunaTrainingApp\n",
      "2024-06-28 19:01:38,172 INFO     pid:19980 p2ch11.training:289:logMetrics E3 val      0.0184 loss,  99.7% correct, \n",
      "2024-06-28 19:01:38,173 INFO     pid:19980 p2ch11.training:298:logMetrics E3 val_neg  0.0023 loss, 100.0% correct (27463 of 27463)\n",
      "2024-06-28 19:01:38,173 INFO     pid:19980 p2ch11.training:309:logMetrics E3 val_pos  6.0707 loss,   0.0% correct (0 of 73)\n",
      "2024-06-28 19:01:38,177 INFO     pid:19980 p2ch11.training:145:main Epoch 4 of 10, 7745/861 batches of size 32*1\n",
      "2024-06-28 19:01:38,178 WARNING  pid:19980 util.util:219:enumerateWithEstimate E4 Training ----/7745, starting\n",
      "2024-06-28 19:02:00,000 INFO     pid:19980 util.util:236:enumerateWithEstimate E4 Training   16/7745, done at 2024-06-28 19:10:51, 0:08:52\n",
      "2024-06-28 19:02:03,203 INFO     pid:19980 util.util:236:enumerateWithEstimate E4 Training   64/7745, done at 2024-06-28 19:10:38, 0:08:39\n",
      "2024-06-28 19:02:16,084 INFO     pid:19980 util.util:236:enumerateWithEstimate E4 Training  256/7745, done at 2024-06-28 19:10:38, 0:08:39\n",
      "2024-06-28 19:03:08,238 INFO     pid:19980 util.util:236:enumerateWithEstimate E4 Training 1024/7745, done at 2024-06-28 19:10:43, 0:08:44\n",
      "2024-06-28 19:06:38,105 INFO     pid:19980 util.util:236:enumerateWithEstimate E4 Training 4096/7745, done at 2024-06-28 19:10:46, 0:08:47\n",
      "2024-06-28 19:10:47,597 WARNING  pid:19980 util.util:249:enumerateWithEstimate E4 Training ----/7745, done at 2024-06-28 19:10:47\n",
      "2024-06-28 19:10:47,599 INFO     pid:19980 p2ch11.training:259:logMetrics E4 LunaTrainingApp\n",
      "2024-06-28 19:10:47,604 INFO     pid:19980 p2ch11.training:289:logMetrics E4 trn      0.0186 loss,  99.7% correct, \n",
      "2024-06-28 19:10:47,605 INFO     pid:19980 p2ch11.training:298:logMetrics E4 trn_neg  0.0026 loss, 100.0% correct (247174 of 247174)\n",
      "2024-06-28 19:10:47,605 INFO     pid:19980 p2ch11.training:309:logMetrics E4 trn_pos  6.0965 loss,   0.0% correct (0 of 648)\n",
      "2024-06-28 19:10:47,619 WARNING  pid:19980 util.util:219:enumerateWithEstimate E4 Validation  ----/861, starting\n",
      "2024-06-28 19:11:13,032 INFO     pid:19980 util.util:236:enumerateWithEstimate E4 Validation    16/861, done at 2024-06-28 19:11:23, 0:00:10\n",
      "2024-06-28 19:11:13,961 INFO     pid:19980 util.util:236:enumerateWithEstimate E4 Validation    64/861, done at 2024-06-28 19:11:28, 0:00:15\n",
      "2024-06-28 19:11:17,571 INFO     pid:19980 util.util:236:enumerateWithEstimate E4 Validation   256/861, done at 2024-06-28 19:11:28, 0:00:15\n",
      "2024-06-28 19:11:29,611 WARNING  pid:19980 util.util:249:enumerateWithEstimate E4 Validation  ----/861, done at 2024-06-28 19:11:29\n",
      "2024-06-28 19:11:29,612 INFO     pid:19980 p2ch11.training:259:logMetrics E4 LunaTrainingApp\n",
      "2024-06-28 19:11:29,614 INFO     pid:19980 p2ch11.training:289:logMetrics E4 val      0.0185 loss,  99.7% correct, \n",
      "2024-06-28 19:11:29,615 INFO     pid:19980 p2ch11.training:298:logMetrics E4 val_neg  0.0021 loss, 100.0% correct (27463 of 27463)\n",
      "2024-06-28 19:11:29,615 INFO     pid:19980 p2ch11.training:309:logMetrics E4 val_pos  6.1835 loss,   0.0% correct (0 of 73)\n",
      "2024-06-28 19:11:29,619 INFO     pid:19980 p2ch11.training:145:main Epoch 5 of 10, 7745/861 batches of size 32*1\n",
      "2024-06-28 19:11:29,620 WARNING  pid:19980 util.util:219:enumerateWithEstimate E5 Training ----/7745, starting\n",
      "2024-06-28 19:11:52,204 INFO     pid:19980 util.util:236:enumerateWithEstimate E5 Training   16/7745, done at 2024-06-28 19:21:55, 0:10:04\n",
      "2024-06-28 19:11:55,414 INFO     pid:19980 util.util:236:enumerateWithEstimate E5 Training   64/7745, done at 2024-06-28 19:20:47, 0:08:56\n",
      "2024-06-28 19:12:08,277 INFO     pid:19980 util.util:236:enumerateWithEstimate E5 Training  256/7745, done at 2024-06-28 19:20:34, 0:08:42\n",
      "2024-06-28 19:13:00,248 INFO     pid:19980 util.util:236:enumerateWithEstimate E5 Training 1024/7745, done at 2024-06-28 19:20:34, 0:08:43\n",
      "2024-06-28 19:16:29,155 INFO     pid:19980 util.util:236:enumerateWithEstimate E5 Training 4096/7745, done at 2024-06-28 19:20:36, 0:08:45\n",
      "2024-06-28 19:20:38,923 WARNING  pid:19980 util.util:249:enumerateWithEstimate E5 Training ----/7745, done at 2024-06-28 19:20:38\n",
      "2024-06-28 19:20:38,925 INFO     pid:19980 p2ch11.training:259:logMetrics E5 LunaTrainingApp\n",
      "2024-06-28 19:20:38,931 INFO     pid:19980 p2ch11.training:289:logMetrics E5 trn      0.0185 loss,  99.7% correct, \n",
      "2024-06-28 19:20:38,932 INFO     pid:19980 p2ch11.training:298:logMetrics E5 trn_neg  0.0026 loss, 100.0% correct (247174 of 247174)\n",
      "2024-06-28 19:20:38,932 INFO     pid:19980 p2ch11.training:309:logMetrics E5 trn_pos  6.0720 loss,   0.0% correct (0 of 648)\n",
      "2024-06-28 19:20:38,949 WARNING  pid:19980 util.util:219:enumerateWithEstimate E5 Validation  ----/861, starting\n",
      "2024-06-28 19:20:57,309 INFO     pid:19980 util.util:236:enumerateWithEstimate E5 Validation    16/861, done at 2024-06-28 19:21:08, 0:00:11\n",
      "2024-06-28 19:20:58,116 INFO     pid:19980 util.util:236:enumerateWithEstimate E5 Validation    64/861, done at 2024-06-28 19:21:10, 0:00:13\n",
      "2024-06-28 19:21:01,739 INFO     pid:19980 util.util:236:enumerateWithEstimate E5 Validation   256/861, done at 2024-06-28 19:21:12, 0:00:15\n",
      "2024-06-28 19:21:13,757 WARNING  pid:19980 util.util:249:enumerateWithEstimate E5 Validation  ----/861, done at 2024-06-28 19:21:13\n",
      "2024-06-28 19:21:13,758 INFO     pid:19980 p2ch11.training:259:logMetrics E5 LunaTrainingApp\n",
      "2024-06-28 19:21:13,760 INFO     pid:19980 p2ch11.training:289:logMetrics E5 val      0.0185 loss,  99.7% correct, \n",
      "2024-06-28 19:21:13,760 INFO     pid:19980 p2ch11.training:298:logMetrics E5 val_neg  0.0020 loss, 100.0% correct (27463 of 27463)\n",
      "2024-06-28 19:21:13,761 INFO     pid:19980 p2ch11.training:309:logMetrics E5 val_pos  6.2268 loss,   0.0% correct (0 of 73)\n",
      "2024-06-28 19:21:13,764 INFO     pid:19980 p2ch11.training:145:main Epoch 6 of 10, 7745/861 batches of size 32*1\n",
      "2024-06-28 19:21:13,766 WARNING  pid:19980 util.util:219:enumerateWithEstimate E6 Training ----/7745, starting\n",
      "2024-06-28 19:21:35,399 INFO     pid:19980 util.util:236:enumerateWithEstimate E6 Training   16/7745, done at 2024-06-28 19:31:51, 0:10:16\n",
      "2024-06-28 19:21:38,604 INFO     pid:19980 util.util:236:enumerateWithEstimate E6 Training   64/7745, done at 2024-06-28 19:30:32, 0:08:58\n",
      "2024-06-28 19:21:51,497 INFO     pid:19980 util.util:236:enumerateWithEstimate E6 Training  256/7745, done at 2024-06-28 19:30:18, 0:08:44\n",
      "2024-06-28 19:22:43,703 INFO     pid:19980 util.util:236:enumerateWithEstimate E6 Training 1024/7745, done at 2024-06-28 19:30:20, 0:08:45\n",
      "2024-06-28 19:26:12,833 INFO     pid:19980 util.util:236:enumerateWithEstimate E6 Training 4096/7745, done at 2024-06-28 19:30:21, 0:08:46\n",
      "2024-06-28 19:30:22,603 WARNING  pid:19980 util.util:249:enumerateWithEstimate E6 Training ----/7745, done at 2024-06-28 19:30:22\n",
      "2024-06-28 19:30:22,605 INFO     pid:19980 p2ch11.training:259:logMetrics E6 LunaTrainingApp\n",
      "2024-06-28 19:30:22,612 INFO     pid:19980 p2ch11.training:289:logMetrics E6 trn      0.0184 loss,  99.7% correct, \n",
      "2024-06-28 19:30:22,612 INFO     pid:19980 p2ch11.training:298:logMetrics E6 trn_neg  0.0026 loss, 100.0% correct (247174 of 247174)\n",
      "2024-06-28 19:30:22,613 INFO     pid:19980 p2ch11.training:309:logMetrics E6 trn_pos  6.0505 loss,   0.0% correct (0 of 648)\n",
      "2024-06-28 19:30:22,628 WARNING  pid:19980 util.util:219:enumerateWithEstimate E6 Validation  ----/861, starting\n",
      "2024-06-28 19:30:37,370 INFO     pid:19980 util.util:236:enumerateWithEstimate E6 Validation    16/861, done at 2024-06-28 19:30:47, 0:00:09\n",
      "2024-06-28 19:30:38,427 INFO     pid:19980 util.util:236:enumerateWithEstimate E6 Validation    64/861, done at 2024-06-28 19:30:54, 0:00:16\n",
      "2024-06-28 19:30:42,280 INFO     pid:19980 util.util:236:enumerateWithEstimate E6 Validation   256/861, done at 2024-06-28 19:30:54, 0:00:17\n",
      "2024-06-28 19:30:54,831 WARNING  pid:19980 util.util:249:enumerateWithEstimate E6 Validation  ----/861, done at 2024-06-28 19:30:54\n",
      "2024-06-28 19:30:54,832 INFO     pid:19980 p2ch11.training:259:logMetrics E6 LunaTrainingApp\n",
      "2024-06-28 19:30:54,834 INFO     pid:19980 p2ch11.training:289:logMetrics E6 val      0.0185 loss,  99.7% correct, \n",
      "2024-06-28 19:30:54,835 INFO     pid:19980 p2ch11.training:298:logMetrics E6 val_neg  0.0020 loss, 100.0% correct (27463 of 27463)\n",
      "2024-06-28 19:30:54,835 INFO     pid:19980 p2ch11.training:309:logMetrics E6 val_pos  6.2208 loss,   0.0% correct (0 of 73)\n",
      "2024-06-28 19:30:54,839 INFO     pid:19980 p2ch11.training:145:main Epoch 7 of 10, 7745/861 batches of size 32*1\n",
      "2024-06-28 19:30:54,840 WARNING  pid:19980 util.util:219:enumerateWithEstimate E7 Training ----/7745, starting\n",
      "2024-06-28 19:31:12,433 INFO     pid:19980 util.util:236:enumerateWithEstimate E7 Training   16/7745, done at 2024-06-28 19:39:40, 0:08:28\n",
      "2024-06-28 19:31:15,772 INFO     pid:19980 util.util:236:enumerateWithEstimate E7 Training   64/7745, done at 2024-06-28 19:40:03, 0:08:52\n",
      "2024-06-28 19:31:29,577 INFO     pid:19980 util.util:236:enumerateWithEstimate E7 Training  256/7745, done at 2024-06-28 19:40:22, 0:09:10\n",
      "2024-06-28 19:32:21,930 INFO     pid:19980 util.util:236:enumerateWithEstimate E7 Training 1024/7745, done at 2024-06-28 19:40:04, 0:08:53\n",
      "2024-06-28 19:35:51,337 INFO     pid:19980 util.util:236:enumerateWithEstimate E7 Training 4096/7745, done at 2024-06-28 19:40:00, 0:08:49\n",
      "2024-06-28 19:40:01,699 WARNING  pid:19980 util.util:249:enumerateWithEstimate E7 Training ----/7745, done at 2024-06-28 19:40:01\n",
      "2024-06-28 19:40:01,700 INFO     pid:19980 p2ch11.training:259:logMetrics E7 LunaTrainingApp\n",
      "2024-06-28 19:40:01,706 INFO     pid:19980 p2ch11.training:289:logMetrics E7 trn      0.0184 loss,  99.7% correct, \n",
      "2024-06-28 19:40:01,706 INFO     pid:19980 p2ch11.training:298:logMetrics E7 trn_neg  0.0026 loss, 100.0% correct (247174 of 247174)\n",
      "2024-06-28 19:40:01,707 INFO     pid:19980 p2ch11.training:309:logMetrics E7 trn_pos  6.0333 loss,   0.0% correct (0 of 648)\n",
      "2024-06-28 19:40:01,721 WARNING  pid:19980 util.util:219:enumerateWithEstimate E7 Validation  ----/861, starting\n",
      "2024-06-28 19:40:18,156 INFO     pid:19980 util.util:236:enumerateWithEstimate E7 Validation    16/861, done at 2024-06-28 19:40:25, 0:00:07\n",
      "2024-06-28 19:40:19,179 INFO     pid:19980 util.util:236:enumerateWithEstimate E7 Validation    64/861, done at 2024-06-28 19:40:33, 0:00:15\n",
      "2024-06-28 19:40:22,796 INFO     pid:19980 util.util:236:enumerateWithEstimate E7 Validation   256/861, done at 2024-06-28 19:40:34, 0:00:16\n",
      "2024-06-28 19:40:34,823 WARNING  pid:19980 util.util:249:enumerateWithEstimate E7 Validation  ----/861, done at 2024-06-28 19:40:34\n",
      "2024-06-28 19:40:34,824 INFO     pid:19980 p2ch11.training:259:logMetrics E7 LunaTrainingApp\n",
      "2024-06-28 19:40:34,825 INFO     pid:19980 p2ch11.training:289:logMetrics E7 val      0.0185 loss,  99.7% correct, \n",
      "2024-06-28 19:40:34,825 INFO     pid:19980 p2ch11.training:298:logMetrics E7 val_neg  0.0020 loss, 100.0% correct (27463 of 27463)\n",
      "2024-06-28 19:40:34,826 INFO     pid:19980 p2ch11.training:309:logMetrics E7 val_pos  6.2106 loss,   0.0% correct (0 of 73)\n",
      "2024-06-28 19:40:34,830 INFO     pid:19980 p2ch11.training:145:main Epoch 8 of 10, 7745/861 batches of size 32*1\n",
      "2024-06-28 19:40:34,831 WARNING  pid:19980 util.util:219:enumerateWithEstimate E8 Training ----/7745, starting\n",
      "2024-06-28 19:40:54,223 INFO     pid:19980 util.util:236:enumerateWithEstimate E8 Training   16/7745, done at 2024-06-28 19:50:07, 0:09:14\n",
      "2024-06-28 19:40:57,449 INFO     pid:19980 util.util:236:enumerateWithEstimate E8 Training   64/7745, done at 2024-06-28 19:49:40, 0:08:47\n",
      "2024-06-28 19:41:10,412 INFO     pid:19980 util.util:236:enumerateWithEstimate E8 Training  256/7745, done at 2024-06-28 19:49:37, 0:08:43\n",
      "2024-06-28 19:42:02,593 INFO     pid:19980 util.util:236:enumerateWithEstimate E8 Training 1024/7745, done at 2024-06-28 19:49:38, 0:08:45\n",
      "2024-06-28 19:45:33,041 INFO     pid:19980 util.util:236:enumerateWithEstimate E8 Training 4096/7745, done at 2024-06-28 19:49:42, 0:08:49\n",
      "2024-06-28 19:49:43,241 WARNING  pid:19980 util.util:249:enumerateWithEstimate E8 Training ----/7745, done at 2024-06-28 19:49:43\n",
      "2024-06-28 19:49:43,243 INFO     pid:19980 p2ch11.training:259:logMetrics E8 LunaTrainingApp\n",
      "2024-06-28 19:49:43,248 INFO     pid:19980 p2ch11.training:289:logMetrics E8 trn      0.0184 loss,  99.7% correct, \n",
      "2024-06-28 19:49:43,249 INFO     pid:19980 p2ch11.training:298:logMetrics E8 trn_neg  0.0026 loss, 100.0% correct (247174 of 247174)\n",
      "2024-06-28 19:49:43,249 INFO     pid:19980 p2ch11.training:309:logMetrics E8 trn_pos  6.0203 loss,   0.0% correct (0 of 648)\n",
      "2024-06-28 19:49:43,264 WARNING  pid:19980 util.util:219:enumerateWithEstimate E8 Validation  ----/861, starting\n",
      "2024-06-28 19:50:00,571 INFO     pid:19980 util.util:236:enumerateWithEstimate E8 Validation    16/861, done at 2024-06-28 19:50:10, 0:00:10\n",
      "2024-06-28 19:50:01,442 INFO     pid:19980 util.util:236:enumerateWithEstimate E8 Validation    64/861, done at 2024-06-28 19:50:14, 0:00:14\n",
      "2024-06-28 19:50:05,043 INFO     pid:19980 util.util:236:enumerateWithEstimate E8 Validation   256/861, done at 2024-06-28 19:50:16, 0:00:15\n",
      "2024-06-28 19:50:17,035 WARNING  pid:19980 util.util:249:enumerateWithEstimate E8 Validation  ----/861, done at 2024-06-28 19:50:17\n",
      "2024-06-28 19:50:17,037 INFO     pid:19980 p2ch11.training:259:logMetrics E8 LunaTrainingApp\n",
      "2024-06-28 19:50:17,039 INFO     pid:19980 p2ch11.training:289:logMetrics E8 val      0.0185 loss,  99.7% correct, \n",
      "2024-06-28 19:50:17,039 INFO     pid:19980 p2ch11.training:298:logMetrics E8 val_neg  0.0020 loss, 100.0% correct (27463 of 27463)\n",
      "2024-06-28 19:50:17,040 INFO     pid:19980 p2ch11.training:309:logMetrics E8 val_pos  6.2113 loss,   0.0% correct (0 of 73)\n",
      "2024-06-28 19:50:17,044 INFO     pid:19980 p2ch11.training:145:main Epoch 9 of 10, 7745/861 batches of size 32*1\n",
      "2024-06-28 19:50:17,044 WARNING  pid:19980 util.util:219:enumerateWithEstimate E9 Training ----/7745, starting\n",
      "2024-06-28 19:50:36,825 INFO     pid:19980 util.util:236:enumerateWithEstimate E9 Training   16/7745, done at 2024-06-28 20:00:40, 0:10:04\n",
      "2024-06-28 19:50:40,040 INFO     pid:19980 util.util:236:enumerateWithEstimate E9 Training   64/7745, done at 2024-06-28 19:59:32, 0:08:56\n",
      "2024-06-28 19:50:52,980 INFO     pid:19980 util.util:236:enumerateWithEstimate E9 Training  256/7745, done at 2024-06-28 19:59:21, 0:08:45\n",
      "2024-06-28 19:51:45,252 INFO     pid:19980 util.util:236:enumerateWithEstimate E9 Training 1024/7745, done at 2024-06-28 19:59:22, 0:08:46\n",
      "2024-06-28 19:55:15,668 INFO     pid:19980 util.util:236:enumerateWithEstimate E9 Training 4096/7745, done at 2024-06-28 19:59:25, 0:08:49\n",
      "2024-06-28 19:59:25,249 WARNING  pid:19980 util.util:249:enumerateWithEstimate E9 Training ----/7745, done at 2024-06-28 19:59:25\n",
      "2024-06-28 19:59:25,251 INFO     pid:19980 p2ch11.training:259:logMetrics E9 LunaTrainingApp\n",
      "2024-06-28 19:59:25,256 INFO     pid:19980 p2ch11.training:289:logMetrics E9 trn      0.0183 loss,  99.7% correct, \n",
      "2024-06-28 19:59:25,257 INFO     pid:19980 p2ch11.training:298:logMetrics E9 trn_neg  0.0026 loss, 100.0% correct (247174 of 247174)\n",
      "2024-06-28 19:59:25,257 INFO     pid:19980 p2ch11.training:309:logMetrics E9 trn_pos  6.0107 loss,   0.0% correct (0 of 648)\n",
      "2024-06-28 19:59:25,270 WARNING  pid:19980 util.util:219:enumerateWithEstimate E9 Validation  ----/861, starting\n",
      "2024-06-28 19:59:41,880 INFO     pid:19980 util.util:236:enumerateWithEstimate E9 Validation    16/861, done at 2024-06-28 19:59:49, 0:00:07\n",
      "2024-06-28 19:59:42,778 INFO     pid:19980 util.util:236:enumerateWithEstimate E9 Validation    64/861, done at 2024-06-28 19:59:56, 0:00:14\n",
      "2024-06-28 19:59:46,385 INFO     pid:19980 util.util:236:enumerateWithEstimate E9 Validation   256/861, done at 2024-06-28 19:59:57, 0:00:15\n",
      "2024-06-28 19:59:58,386 WARNING  pid:19980 util.util:249:enumerateWithEstimate E9 Validation  ----/861, done at 2024-06-28 19:59:58\n",
      "2024-06-28 19:59:58,387 INFO     pid:19980 p2ch11.training:259:logMetrics E9 LunaTrainingApp\n",
      "2024-06-28 19:59:58,389 INFO     pid:19980 p2ch11.training:289:logMetrics E9 val      0.0185 loss,  99.7% correct, \n",
      "2024-06-28 19:59:58,389 INFO     pid:19980 p2ch11.training:298:logMetrics E9 val_neg  0.0020 loss, 100.0% correct (27463 of 27463)\n",
      "2024-06-28 19:59:58,390 INFO     pid:19980 p2ch11.training:309:logMetrics E9 val_pos  6.2187 loss,   0.0% correct (0 of 73)\n",
      "2024-06-28 19:59:58,393 INFO     pid:19980 p2ch11.training:145:main Epoch 10 of 10, 7745/861 batches of size 32*1\n",
      "2024-06-28 19:59:58,394 WARNING  pid:19980 util.util:219:enumerateWithEstimate E10 Training ----/7745, starting\n",
      "2024-06-28 20:00:18,230 INFO     pid:19980 util.util:236:enumerateWithEstimate E10 Training   16/7745, done at 2024-06-28 20:09:31, 0:09:13\n",
      "2024-06-28 20:00:21,431 INFO     pid:19980 util.util:236:enumerateWithEstimate E10 Training   64/7745, done at 2024-06-28 20:09:01, 0:08:44\n",
      "2024-06-28 20:00:34,328 INFO     pid:19980 util.util:236:enumerateWithEstimate E10 Training  256/7745, done at 2024-06-28 20:08:58, 0:08:41\n",
      "2024-06-28 20:01:26,524 INFO     pid:19980 util.util:236:enumerateWithEstimate E10 Training 1024/7745, done at 2024-06-28 20:09:02, 0:08:44\n",
      "2024-06-28 20:04:55,978 INFO     pid:19980 util.util:236:enumerateWithEstimate E10 Training 4096/7745, done at 2024-06-28 20:09:04, 0:08:47\n",
      "2024-06-28 20:09:05,721 WARNING  pid:19980 util.util:249:enumerateWithEstimate E10 Training ----/7745, done at 2024-06-28 20:09:05\n",
      "2024-06-28 20:09:05,723 INFO     pid:19980 p2ch11.training:259:logMetrics E10 LunaTrainingApp\n",
      "2024-06-28 20:09:05,729 INFO     pid:19980 p2ch11.training:289:logMetrics E10 trn      0.0183 loss,  99.7% correct, \n",
      "2024-06-28 20:09:05,730 INFO     pid:19980 p2ch11.training:298:logMetrics E10 trn_neg  0.0026 loss, 100.0% correct (247174 of 247174)\n",
      "2024-06-28 20:09:05,731 INFO     pid:19980 p2ch11.training:309:logMetrics E10 trn_pos  6.0037 loss,   0.0% correct (0 of 648)\n",
      "2024-06-28 20:09:05,747 WARNING  pid:19980 util.util:219:enumerateWithEstimate E10 Validation  ----/861, starting\n",
      "2024-06-28 20:09:22,307 INFO     pid:19980 util.util:236:enumerateWithEstimate E10 Validation    16/861, done at 2024-06-28 20:09:30, 0:00:08\n",
      "2024-06-28 20:09:23,393 INFO     pid:19980 util.util:236:enumerateWithEstimate E10 Validation    64/861, done at 2024-06-28 20:09:39, 0:00:17\n",
      "2024-06-28 20:09:27,026 INFO     pid:19980 util.util:236:enumerateWithEstimate E10 Validation   256/861, done at 2024-06-28 20:09:38, 0:00:16\n",
      "2024-06-28 20:09:39,078 WARNING  pid:19980 util.util:249:enumerateWithEstimate E10 Validation  ----/861, done at 2024-06-28 20:09:39\n",
      "2024-06-28 20:09:39,080 INFO     pid:19980 p2ch11.training:259:logMetrics E10 LunaTrainingApp\n",
      "2024-06-28 20:09:39,082 INFO     pid:19980 p2ch11.training:289:logMetrics E10 val      0.0185 loss,  99.7% correct, \n",
      "2024-06-28 20:09:39,083 INFO     pid:19980 p2ch11.training:298:logMetrics E10 val_neg  0.0020 loss, 100.0% correct (27463 of 27463)\n",
      "2024-06-28 20:09:39,084 INFO     pid:19980 p2ch11.training:309:logMetrics E10 val_pos  6.2268 loss,   0.0% correct (0 of 73)\n",
      "2024-06-28 20:09:39,097 INFO     pid:19980 nb:009:run Finished: p2ch11.training.LunaTrainingApp.['--num-workers=4', '--epochs=10']).main()\n"
     ]
    }
   ],
   "source": [
    "run(\"p2ch11.training.LunaTrainingApp\", f\"--epochs={experiment_epochs}\")"
   ]
  },
  {
   "cell_type": "markdown",
   "metadata": {},
   "source": [
    "## Chapter 12"
   ]
  },
  {
   "cell_type": "code",
   "execution_count": null,
   "metadata": {},
   "outputs": [],
   "source": [
    "run(\"p2ch12.prepcache.LunaPrepCacheApp\")"
   ]
  },
  {
   "cell_type": "code",
   "execution_count": null,
   "metadata": {},
   "outputs": [],
   "source": [
    "run(\"p2ch12.training.LunaTrainingApp\", \"--epochs=1\", \"unbalanced\")"
   ]
  },
  {
   "cell_type": "code",
   "execution_count": null,
   "metadata": {},
   "outputs": [],
   "source": [
    "run(\n",
    "    \"p2ch12.training.LunaTrainingApp\",\n",
    "    f\"--epochs={training_epochs}\",\n",
    "    \"--balanced\",\n",
    "    \"balanced\",\n",
    ")"
   ]
  },
  {
   "cell_type": "code",
   "execution_count": null,
   "metadata": {},
   "outputs": [],
   "source": [
    "run(\n",
    "    \"p2ch12.training.LunaTrainingApp\",\n",
    "    f\"--epochs={experiment_epochs}\",\n",
    "    \"--balanced\",\n",
    "    \"--augment-flip\",\n",
    "    \"flip\",\n",
    ")"
   ]
  },
  {
   "cell_type": "code",
   "execution_count": null,
   "metadata": {},
   "outputs": [],
   "source": [
    "run(\n",
    "    \"p2ch12.training.LunaTrainingApp\",\n",
    "    f\"--epochs={experiment_epochs}\",\n",
    "    \"--balanced\",\n",
    "    \"--augment-offset\",\n",
    "    \"offset\",\n",
    ")"
   ]
  },
  {
   "cell_type": "code",
   "execution_count": null,
   "metadata": {},
   "outputs": [],
   "source": [
    "run(\n",
    "    \"p2ch12.training.LunaTrainingApp\",\n",
    "    f\"--epochs={experiment_epochs}\",\n",
    "    \"--balanced\",\n",
    "    \"--augment-scale\",\n",
    "    \"scale\",\n",
    ")"
   ]
  },
  {
   "cell_type": "code",
   "execution_count": null,
   "metadata": {},
   "outputs": [],
   "source": [
    "run(\n",
    "    \"p2ch12.training.LunaTrainingApp\",\n",
    "    f\"--epochs={experiment_epochs}\",\n",
    "    \"--balanced\",\n",
    "    \"--augment-rotate\",\n",
    "    \"rotate\",\n",
    ")"
   ]
  },
  {
   "cell_type": "code",
   "execution_count": null,
   "metadata": {},
   "outputs": [],
   "source": [
    "run(\n",
    "    \"p2ch12.training.LunaTrainingApp\",\n",
    "    f\"--epochs={experiment_epochs}\",\n",
    "    \"--balanced\",\n",
    "    \"--augment-noise\",\n",
    "    \"noise\",\n",
    ")"
   ]
  },
  {
   "cell_type": "code",
   "execution_count": null,
   "metadata": {},
   "outputs": [],
   "source": [
    "run(\n",
    "    \"p2ch12.training.LunaTrainingApp\",\n",
    "    f\"--epochs={training_epochs}\",\n",
    "    \"--balanced\",\n",
    "    \"--augmented\",\n",
    "    \"fully-augmented\",\n",
    ")"
   ]
  },
  {
   "cell_type": "markdown",
   "metadata": {},
   "source": [
    "## Chapter 13"
   ]
  },
  {
   "cell_type": "code",
   "execution_count": null,
   "metadata": {},
   "outputs": [],
   "source": [
    "run(\"p2ch13.prepcache.LunaPrepCacheApp\")"
   ]
  },
  {
   "cell_type": "code",
   "execution_count": null,
   "metadata": {},
   "outputs": [],
   "source": [
    "run(\n",
    "    \"p2ch13.training.LunaTrainingApp\",\n",
    "    f\"--epochs={final_epochs}\",\n",
    "    \"--balanced\",\n",
    "    \"--augmented\",\n",
    "    \"final-cls\",\n",
    ")"
   ]
  },
  {
   "cell_type": "code",
   "execution_count": null,
   "metadata": {
    "scrolled": true
   },
   "outputs": [],
   "source": [
    "run(\n",
    "    \"p2ch13.train_seg.LunaTrainingApp\",\n",
    "    f\"--epochs={seg_epochs}\",\n",
    "    \"--augmented\",\n",
    "    \"final-seg\",\n",
    ")"
   ]
  },
  {
   "cell_type": "markdown",
   "metadata": {},
   "source": [
    "## Chapter 14"
   ]
  },
  {
   "cell_type": "code",
   "execution_count": null,
   "metadata": {},
   "outputs": [],
   "source": [
    "run(\"p2ch14.prepcache.LunaPrepCacheApp\")"
   ]
  },
  {
   "cell_type": "code",
   "execution_count": null,
   "metadata": {
    "scrolled": true
   },
   "outputs": [],
   "source": [
    "run(\"p2ch14.training.ClassificationTrainingApp\", f\"--epochs=100\", \"nodule-nonnodule\")"
   ]
  },
  {
   "cell_type": "code",
   "execution_count": null,
   "metadata": {
    "scrolled": false
   },
   "outputs": [],
   "source": [
    "run(\n",
    "    \"p2ch14.training.ClassificationTrainingApp\",\n",
    "    f\"--epochs=40\",\n",
    "    \"--malignant\",\n",
    "    \"--dataset=MalignantLunaDataset\",\n",
    "\n",
    "    \"--finetune=\"\n",
    "    \"data/part2/models/cls_2020-02-06_14.16.55_final-nodule-nonnodule.best.state\",\n",
    "\n",
    "    \"finetune-head\",\n",
    ")"
   ]
  },
  {
   "cell_type": "code",
   "execution_count": null,
   "metadata": {
    "scrolled": false
   },
   "outputs": [],
   "source": [
    "run(\n",
    "    \"p2ch14.training.ClassificationTrainingApp\",\n",
    "    f\"--epochs=40\",\n",
    "    \"--malignant\",\n",
    "    \"--dataset=MalignantLunaDataset\",\n",
    "\n",
    "    \"--finetune=\"\n",
    "    \"data/part2/models/cls_2020-02-06_14.16.55_final-nodule-nonnodule.best.state\",\n",
    "    \"--finetune-depth=2\",\n",
    "\n",
    "    \"finetune-depth2\",\n",
    ")"
   ]
  },
  {
   "cell_type": "code",
   "execution_count": null,
   "metadata": {},
   "outputs": [],
   "source": [
    "run(\"p2ch14.nodule_analysis.NoduleAnalysisApp\", \"--run-validation\")"
   ]
  },
  {
   "cell_type": "code",
   "execution_count": null,
   "metadata": {},
   "outputs": [],
   "source": [
    "run(\"p2ch14.nodule_analysis.NoduleAnalysisApp\", \"--run-validation\", \"--malignancy-path\")"
   ]
  },
  {
   "cell_type": "code",
   "execution_count": null,
   "metadata": {},
   "outputs": [],
   "source": []
  },
  {
   "cell_type": "code",
   "execution_count": null,
   "metadata": {},
   "outputs": [],
   "source": []
  }
 ],
 "metadata": {
  "kernelspec": {
   "display_name": "Python 3",
   "language": "python",
   "name": "python3"
  },
  "language_info": {
   "codemirror_mode": {
    "name": "ipython",
    "version": 3
   },
   "file_extension": ".py",
   "mimetype": "text/x-python",
   "name": "python",
   "nbconvert_exporter": "python",
   "pygments_lexer": "ipython3",
   "version": "3.12.3"
  }
 },
 "nbformat": 4,
 "nbformat_minor": 2
}
