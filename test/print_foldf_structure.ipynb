{
 "cells": [
  {
   "cell_type": "code",
   "execution_count": 21,
   "metadata": {},
   "outputs": [
    {
     "name": "stdout",
     "output_type": "stream",
     "text": [
      "--test_import\n",
      "|--main.ipynb\n",
      "|--main.py\n",
      "|--multiprocessing.py\n",
      "|--my_module.py\n",
      "|--my_package\n",
      "  |--my_module.py\n",
      "  |--my_package.py\n",
      "  |--my_subpackage\n",
      "    |--my_subpackage_module.py\n",
      "    |--__init__.py\n",
      "    |--__pycache__\n",
      "      |--my_subpackage_module.cpython-312.pyc\n",
      "      |--__init__.cpython-312.pyc\n",
      "  |--test.py\n",
      "  |--__init__.py\n",
      "  |--__pycache__\n",
      "    |--my_module.cpython-312.pyc\n",
      "    |--my_package.cpython-312.pyc\n",
      "    |--__init__.cpython-312.pyc\n",
      "|--__pycache__\n",
      "  |--multiprocessing.cpython-312.pyc\n",
      "  |--my_test.cpython-312.pyc\n"
     ]
    }
   ],
   "source": [
    "import os\n",
    "\n",
    "\n",
    "def print_directory_structure(path, level=0):\n",
    "    print(\"-\" * 2 + os.path.basename(path))\n",
    "    for child in os.listdir(path):\n",
    "        child_path = os.path.join(path, child)\n",
    "        print(\" \" * 2 * level + \"|\", end=\"\")\n",
    "        if os.path.isdir(child_path):\n",
    "            print_directory_structure(child_path, level + 1)\n",
    "        else:\n",
    "            print(\"-\" * 2 + child)\n",
    "\n",
    "\n",
    "print_directory_structure(\"./test_import\")  # 当前目录"
   ]
  },
  {
   "cell_type": "code",
   "execution_count": null,
   "metadata": {},
   "outputs": [],
   "source": []
  }
 ],
 "metadata": {
  "kernelspec": {
   "display_name": "hello",
   "language": "python",
   "name": "python3"
  },
  "language_info": {
   "codemirror_mode": {
    "name": "ipython",
    "version": 3
   },
   "file_extension": ".py",
   "mimetype": "text/x-python",
   "name": "python",
   "nbconvert_exporter": "python",
   "pygments_lexer": "ipython3",
   "version": "3.12.3"
  }
 },
 "nbformat": 4,
 "nbformat_minor": 2
}
