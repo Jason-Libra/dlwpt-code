{
 "cells": [
  {
   "cell_type": "code",
   "execution_count": 1,
   "metadata": {},
   "outputs": [
    {
     "name": "stdout",
     "output_type": "stream",
     "text": [
      "['d:\\\\IDE\\\\Miniforge3\\\\envs\\\\dlwpt\\\\python312.zip', 'd:\\\\IDE\\\\Miniforge3\\\\envs\\\\dlwpt\\\\DLLs', 'd:\\\\IDE\\\\Miniforge3\\\\envs\\\\dlwpt\\\\Lib', 'd:\\\\IDE\\\\Miniforge3\\\\envs\\\\dlwpt', '', 'd:\\\\IDE\\\\Miniforge3\\\\envs\\\\dlwpt\\\\Lib\\\\site-packages', 'd:\\\\IDE\\\\Miniforge3\\\\envs\\\\dlwpt\\\\Lib\\\\site-packages\\\\win32', 'd:\\\\IDE\\\\Miniforge3\\\\envs\\\\dlwpt\\\\Lib\\\\site-packages\\\\win32\\\\lib', 'd:\\\\IDE\\\\Miniforge3\\\\envs\\\\dlwpt\\\\Lib\\\\site-packages\\\\Pythonwin']\n"
     ]
    }
   ],
   "source": [
    "import sys\n",
    "\n",
    "print(sys.path)"
   ]
  },
  {
   "cell_type": "code",
   "execution_count": null,
   "metadata": {},
   "outputs": [],
   "source": []
  }
 ],
 "metadata": {
  "kernelspec": {
   "display_name": "dlwpt",
   "language": "python",
   "name": "python3"
  },
  "language_info": {
   "codemirror_mode": {
    "name": "ipython",
    "version": 3
   },
   "file_extension": ".py",
   "mimetype": "text/x-python",
   "name": "python",
   "nbconvert_exporter": "python",
   "pygments_lexer": "ipython3",
   "version": "3.12.3"
  }
 },
 "nbformat": 4,
 "nbformat_minor": 2
}
